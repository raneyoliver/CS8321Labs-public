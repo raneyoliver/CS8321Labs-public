{
 "cells": [
  {
   "cell_type": "markdown",
   "metadata": {},
   "source": [
    "# Lab 2: Transfer Learning & Transformers: Comparison of Transformer Architecture to Other Neural Networks in Evaluation of Movie Reviews and Ratings\n",
    "\n",
    "Group Members:\n",
    "\n",
    "- Parker Brown\n",
    "\n",
    "- Suma Chackola\n",
    "\n",
    "- Chris Peters\n",
    "\n",
    "- Oliver Raney\n",
    "\n",
    "\n",
    "\n",
    "**The execution of this lab was performed collaboratively across 4 computers. Therefore, while the individual cells are not all shown with the direct execution results, the code presented in those cells was utilized to produce the results in this notebook.**\n"
   ]
  },
  {
   "cell_type": "markdown",
   "metadata": {},
   "source": [
    "<a id=\"top\"></a>\n",
    "## Contents\n",
    "* <a href=\"#P1\">1.0 Introduction & Dataset Overview</a>\n",
    "* <a href=\"#P2\">2.0 Transfer Learning Foundational Model </a>\n",
    "* <a href=\"#P3\">3.0 Splitting the Data </a>\n",
    "* <a href=\"#P4\">4.0 Training a Model from Scratch </a>\n",
    "* <a href=\"#P5\">5.0 Training a Model by Transfer Learning from Foundational Model </a>\n",
    "* <a href=\"#P6\">6.0 Fine-Tuning the Model </a>\n",
    "* <a href=\"#P6\">7.0 Results: Comparing All Investigated Models </a>\n",
    "________________________________________________________________________________________________________\n"
   ]
  },
  {
   "cell_type": "markdown",
   "metadata": {},
   "source": [
    "<a href=\"#top\">Back to Top</a>\n",
    "<a id=\"P1\"></a>\n",
    "## 1.0 Introduction & Dataset Overview\n",
    "#### Give an overview of the dataset you have chosen to use. What is the classification task. Is this multi-task? Explain. What is the feature data? Who collected the data? Why? When? Is the data multi-modal? What evaluation criteria will you be using and why? \n",
    "\n",
    "In this lab, we are performing classification on Movie Review text to associate the text of the review with an overall \"positivity\" rating of Positive, Neutral, or Negative. By reviewing the text as a whole instead of sets of words or phrases, we are evaluating a sequential text to classify it into a distinct category.  \n",
    "\n",
    "### Dataset Overview\n",
    "The dataset we are using for this analysis comes from an IEEE Open Access repository at the following source: \n",
    "- Data Source: https://ieee-dataport.org/open-access/imdb-movie-reviews-dataset\n",
    "\n",
    "The dataset compiles movie reviews from the Internet Movie Database (IMDb),  https://www.imdb.com/, and contains 1 million reviews from 1150 movies spread across 17 genres. In this dataset is other metadata such as the IMDb rating and movie rating. The data was compiled by Pal, Barigidad, and Mustafi and utilized and presented as a paper at the 2020 International Conference on Computing, Communication, and Security (ICCCS). In their analysis, they used the content of the movie reviews to classify the genre of the movie through word tokenization and a keyword list specific to the genre, and from their results they created a \"Movie Recommender\" based on a genre input from a user.\n",
    "\n",
    "This is not a multi-modal dataset because it only contains textual data. We did not choose a multi-modal dataset, although there are other IMDb datasets that do contain multi-modal data, such as this one: https://arxiv.org/abs/1702.01992, which contains images of the poster of the movie, in addition to the movie genre, rating, and other text. \n",
    "\n",
    "### Classification Task\n",
    "We utilized this dataset in Lab 1 for this course, where we performed sentiment analysis on the movie reviews and compared that sentiment to the movie positivity rating. For this lab, we differentiate that approach by using neural networks with a word embedding vectorizer to train a model. The training will analyze the sequential text in the review and use the associated rating to learn how the overall sequence relates to the positivity with respect to the vectorization of the sequence. Once that association is learned, the model evaluates new review sequences to classify those to an appropriate rating using the same vectorization analysis approach. \n",
    "\n",
    "In the dataset, the reviews are rated on a scale of 1-10. With our classifier, we will expect to get a similar scale, so that it is a multi-class classification task. We have considered whether to segment the results into generalized score categories of: Score < 3.5 -> \"Negative\" , - 3.5 < Score < 6.5 -> \"Neutral\" , - 6.5 < Score -> \"Positive\"\n",
    "However, we don't believe there is much utility in generalizing the results because it could mask the underlying performance of the models. \n",
    "\n",
    "### Evaluation Criteria\n",
    "We are considering a few aspects to evaluate throughout this analysis. First, we will evaluate the model as it is fitting by reviewing the performance of the accuracy and the loss on the training and test datasets so we can ensure the model is both converging and not overfitting. Further, we will consider the convergence time on each model to evaluate the model efficiency (with some allowance/forgiveness to the performance differences of the processors on each of our computers, since it is not guaranteed that the same computer is performing all of the evaluations).\n",
    "\n",
    "Once each model completes training, we will then utilize the F-score statistical testing as a metric to compare the performance of the models. F-score is an analysis of variance approach (ANOVA) that determines the statistical difference of two or more populations in hypothesis testing by comparing their variances. To do this, we divide the population sample variance between the groups by the variance within the groups to generate the F-score. If the F-score exceeds a certain value, then the null hypothesis can be rejected because the null hypothesis assumes that the variances are equal. If the F-score does not exceed this value, we cannot reject the null hypothesis because the evidence does not provide the conclusion that there is significant differnce in the variance. Source: https://www.geeksforgeeks.org/how-to-perform-an-f-test-in-python/\n",
    "\n",
    "In the case of this analysis, our null hypothesis is that the use of a transformer model, such as BERT, to analyze review text sequences to predict the overall rating will provide a more accurate classification performance than that of a traditional multi-layer perceptron. Further, we hypothesize that fine tuning BERT for our specific model will show an improved performance over BERT in its unchanged, transferred state.\n",
    "\n",
    "Because we're ultimately performing a classification task, we should consider not only the accuracy of the predcition, but we should consider the precision & the recall of the classification. For this task, we should consider both False Positives and False Negatives, with the assumption that the rating provided is the true rating for the movie. From a False Positive perspective, if a review provides a rating that is high whereas the rating is low, then the perception of the film is inverted, and a person may expect a masterpiece and instead experience an unsatisfying film. This would be a similar case for the False Negatives, where a review that reads with a low rating but actually has a high rating could lead to a person not experiencing an entertaining movie. Because either of these would defeat the purpose of the model, we should evaluate both Precision, which measures the model performance with respect to False Positives, and Recall, which measures the False Negative rate of the model. Therefore, we will look at maximizing the overall F1 score, which provides a weighted performance of both Precision & Recall so that it takes into account the performance of True Positives, True Negatives, False Positives, and False Negatives. \n",
    "We implement this approach using the following source: https://datascience.stackexchange.com/questions/45165/how-to-get-accuracy-f1-precision-and-recall-for-a-keras-model"
   ]
  },
  {
   "cell_type": "markdown",
   "metadata": {},
   "source": [
    "<a href=\"#top\">Back to Top</a>\n",
    "<a id=\"P2\"></a>\n",
    "## 2.0 Transfer Learning Foundational Model\n",
    "#### Describe the foundational model that you will be using to transfer learn from. What tasks was this foundational model trained upon? Explain if the new task is within the same domain, across domains, etc. \n",
    "\n",
    "### Foundational Model: BERT\n",
    "In this analysis, we will perform transfer learning with the Bidrectional Encoder Representation (BERT) model (source: https://arxiv.org/abs/1810.04805). BERT was developed by Google for text sequences, and it provides an architecture that can be utilized for a variety of natural language processing tasks and is able to encode the context of statements in two directions, which ensures a greater understanding of the message in the text. BERT has a base version that includes 12 encoder layers with 12 heads per layer and 110M parameters, and it has a large version that includes 24 encoder layers with 16 heads per layer and 340M parameters.\n",
    "\n",
    "From the original paper, BERT performs bidirectional encoding by using a masked language model that randomly masks tokens in the input to predict the original vocabulary based only on context. The BERT framework can be utilized in two steps: pre-training & fine-tuning, where the model is trained on unlabled data and then fine-tuned with labeled data from downstream tasks. In the paper, the WordPiece embeddings (30k tokens, referenced in BERT paper above) were used to provide the foundational tokenization. For the pre-training, BERT used the BooksCorpus and English Wikipedia, which have 800M and 2500M words, respectively (all referenced in BERT paper above). From Wikipedia, only the text passages were utilized.\n",
    "\n",
    "Because BERT can be used for a variety of tasks and is text-based, we can say that it is within the same domain as the task we are performing. From its original paper, BERT was built for, among others, question-answering tasks, hypothesis-premise tasks, and sentiment analysis tasks. Our goal is effectively sentiment analysis, where we are evaluating the overall context of the review and to what extent a film was perceived as \"good\". \n",
    "\n",
    "### Fine-Tuning Approach\n",
    "One advantage of BERT is that it can be fine tuned for a given task. This fine-tuning is readily-available because BERT contains a self-attention mechanism that allows it to model many downstream tasks so that it can encode a concatenated text pair with bidirectional cross attention between two sentences. The fine-tuning tasks are relatively efficient processing-wise compared to the pre-training. One approach to performing this can be found in: https://classic.d2l.ai/chapter_natural-language-processing-applications/finetuning-bert.html.\n",
    "\n",
    "We will perform fine-tuning through...."
   ]
  },
  {
   "cell_type": "markdown",
   "metadata": {},
   "source": [
    "<a href=\"#top\">Back to Top</a>\n",
    "<a id=\"P3\"></a>\n",
    "## 3.0 Splitting the Data \n",
    "#### Split the data into training and testing. Be sure to explain how you performed this operation and why you think it is reasonable to split this particular dataset this way. For multi-task datasets, be sure to explain if it is appropriate to stratify within each task. If the dataset is already split for you, explain how the split was achieved and how it is stratified.\n",
    "\n",
    "The dataset was compiled without regard to the distribution of the rating. In a plot below, we show that the data is heaviliy weighted towards positive reviews (with the majority ratings of 9 or 10). However, there is a substantial number of reviews for all cases. One question to ask is if it is important to maintain the distribution of the ratings, or if it is more important to provide a classifier that can perform equally well regardless of the rating. Because of the distribution, we have a few options for the data:\n",
    "1) Do no data augmentation & perform a random 80/20 split for Training & Test Data. From a positive perspective, this maintains all the data for evaluation, and the randomness should remove some bias in the results. Further, this is a straightforward splitting task. However, from a negative perspective, we expect bias in the results to remain and be pointed towards the positive entries.\n",
    "\n",
    "2) Keep an equal number of entries for each rating (Rating of 2 was the lowest quantity). From a positive perspective, this is very significant statistically and should provide satisfactory data. From a negative perspective, we may lose data quality from the diversity of the text provided for different rating values.\n",
    "\n",
    "3) Perform stratified shuffling & splitting. From a positive perspective, this is an improvement of option 1) in that new, \"unexpected\" bias, is not introduced through a random sampling. From a negative perspective, it still hold the bias towards the positive entries. However, one could argue that this bias towards a positive rating should be considered a \"feature\" of the data and perhaps means we should re-evaluate our \"upper limit\" for a \"Neutral\" rating. \n",
    "\n",
    "We ultimately decided to go with 2) above, where we removed many entries to keep the dataset with an even distribution. We ended with 5000 samples for each of the 10 ratings, which we believe is still statistically significant for this analysis."
   ]
  },
  {
   "cell_type": "markdown",
   "metadata": {},
   "source": [
    "### Preparing Data"
   ]
  },
  {
   "cell_type": "code",
   "execution_count": 2,
   "metadata": {},
   "outputs": [
    {
     "name": "stderr",
     "output_type": "stream",
     "text": [
      "C:\\Users\\schack\\AppData\\Local\\Temp\\ipykernel_10096\\2588441984.py:4: DeprecationWarning: \n",
      "Pyarrow will become a required dependency of pandas in the next major release of pandas (pandas 3.0),\n",
      "(to allow more performant data types, such as the Arrow string type, and better interoperability with other libraries)\n",
      "but was not found to be installed on your system.\n",
      "If this would cause problems for you,\n",
      "please provide us feedback at https://github.com/pandas-dev/pandas/issues/54466\n",
      "        \n",
      "  import pandas as pd\n"
     ]
    }
   ],
   "source": [
    "#imports\n",
    "import os\n",
    "import numpy as np\n",
    "import pandas as pd\n",
    "import warnings\n",
    "import matplotlib.pyplot as plt \n",
    "\n",
    "\n",
    "warnings.filterwarnings('ignore')\n",
    "\n",
    "from sklearn.model_selection import train_test_split\n",
    "from sklearn.metrics import accuracy_score"
   ]
  },
  {
   "cell_type": "code",
   "execution_count": 3,
   "metadata": {},
   "outputs": [
    {
     "data": {
      "text/html": [
       "<div>\n",
       "<style scoped>\n",
       "    .dataframe tbody tr th:only-of-type {\n",
       "        vertical-align: middle;\n",
       "    }\n",
       "\n",
       "    .dataframe tbody tr th {\n",
       "        vertical-align: top;\n",
       "    }\n",
       "\n",
       "    .dataframe thead th {\n",
       "        text-align: right;\n",
       "    }\n",
       "</style>\n",
       "<table border=\"1\" class=\"dataframe\">\n",
       "  <thead>\n",
       "    <tr style=\"text-align: right;\">\n",
       "      <th></th>\n",
       "      <th>username</th>\n",
       "      <th>rating</th>\n",
       "      <th>helpful</th>\n",
       "      <th>total</th>\n",
       "      <th>date</th>\n",
       "      <th>title</th>\n",
       "      <th>review</th>\n",
       "    </tr>\n",
       "  </thead>\n",
       "  <tbody>\n",
       "    <tr>\n",
       "      <th>0</th>\n",
       "      <td>vukodlak</td>\n",
       "      <td>10</td>\n",
       "      <td>764</td>\n",
       "      <td>829</td>\n",
       "      <td>1 July 2000</td>\n",
       "      <td>Excellent\\r\\n</td>\n",
       "      <td>An excellent courtroom drama with a unique twi...</td>\n",
       "    </tr>\n",
       "    <tr>\n",
       "      <th>1</th>\n",
       "      <td>Andrew Devonshire</td>\n",
       "      <td>10</td>\n",
       "      <td>590</td>\n",
       "      <td>649</td>\n",
       "      <td>18 September 2002</td>\n",
       "      <td>No bombs, no car chases but edge of the seat ...</td>\n",
       "      <td>This film is superb, in fact as Shakespeare on...</td>\n",
       "    </tr>\n",
       "    <tr>\n",
       "      <th>2</th>\n",
       "      <td>juho69</td>\n",
       "      <td>9</td>\n",
       "      <td>508</td>\n",
       "      <td>565</td>\n",
       "      <td>23 October 2004</td>\n",
       "      <td>Simple but great.\\r\\n</td>\n",
       "      <td>'12 Angry Men' is an outstanding film. It is p...</td>\n",
       "    </tr>\n",
       "    <tr>\n",
       "      <th>3</th>\n",
       "      <td>Thelightbulb</td>\n",
       "      <td>10</td>\n",
       "      <td>363</td>\n",
       "      <td>405</td>\n",
       "      <td>22 September 2005</td>\n",
       "      <td>If you only ever see one Black and White movi...</td>\n",
       "      <td>I watched this film for the first time, when i...</td>\n",
       "    </tr>\n",
       "    <tr>\n",
       "      <th>4</th>\n",
       "      <td>Freddy_Levit</td>\n",
       "      <td>10</td>\n",
       "      <td>418</td>\n",
       "      <td>487</td>\n",
       "      <td>11 January 2005</td>\n",
       "      <td>Should be in everyone's top ten list of great...</td>\n",
       "      <td>........Films rarely get this uplifting and br...</td>\n",
       "    </tr>\n",
       "  </tbody>\n",
       "</table>\n",
       "</div>"
      ],
      "text/plain": [
       "            username rating  helpful  total               date  \\\n",
       "0           vukodlak     10      764    829        1 July 2000   \n",
       "1  Andrew Devonshire     10      590    649  18 September 2002   \n",
       "2             juho69      9      508    565    23 October 2004   \n",
       "3       Thelightbulb     10      363    405  22 September 2005   \n",
       "4       Freddy_Levit     10      418    487    11 January 2005   \n",
       "\n",
       "                                               title  \\\n",
       "0                                      Excellent\\r\\n   \n",
       "1   No bombs, no car chases but edge of the seat ...   \n",
       "2                              Simple but great.\\r\\n   \n",
       "3   If you only ever see one Black and White movi...   \n",
       "4   Should be in everyone's top ten list of great...   \n",
       "\n",
       "                                              review  \n",
       "0  An excellent courtroom drama with a unique twi...  \n",
       "1  This film is superb, in fact as Shakespeare on...  \n",
       "2  '12 Angry Men' is an outstanding film. It is p...  \n",
       "3  I watched this film for the first time, when i...  \n",
       "4  ........Films rarely get this uplifting and br...  "
      ]
     },
     "execution_count": 3,
     "metadata": {},
     "output_type": "execute_result"
    }
   ],
   "source": [
    "#https://www.geeksforgeeks.org/how-to-iterate-over-files-in-directory-using-python/\n",
    "# and https://stackoverflow.com/questions/20906474/import-multiple-csv-files-into-pandas-and-concatenate-into-one-dataframe\n",
    "\n",
    "\n",
    "\n",
    "directory = 'data/movie_dataset/2_reviews_per_movie_raw'\n",
    "\n",
    "dfs = list()\n",
    "\n",
    "#Concatenate data into one pandas dataframe\n",
    "for filename in os.listdir(directory):\t\n",
    "\tdata = pd.read_csv(os.path.join(directory, filename), header='infer')\t\n",
    "\tdfs.append(data)\n",
    "df = pd.concat(dfs, ignore_index=True)\n",
    "\n",
    "\n",
    "df.head()\n",
    "\n"
   ]
  },
  {
   "cell_type": "code",
   "execution_count": 4,
   "metadata": {},
   "outputs": [
    {
     "data": {
      "text/plain": [
       "array(['10', '9', 'Null', '8', '7', '6', '5', '4', '1', '3', '2'],\n",
       "      dtype=object)"
      ]
     },
     "execution_count": 4,
     "metadata": {},
     "output_type": "execute_result"
    }
   ],
   "source": [
    "# retain only rating and review\n",
    "df = df.drop(columns=['username', 'helpful', 'total', 'date','title'], errors='ignore')\n",
    "\n",
    "#print unique ratings\n",
    "df.rating.unique()\n"
   ]
  },
  {
   "cell_type": "code",
   "execution_count": 5,
   "metadata": {},
   "outputs": [
    {
     "data": {
      "text/plain": [
       "array([10,  9,  8,  7,  6,  5,  4,  1,  3,  2])"
      ]
     },
     "execution_count": 5,
     "metadata": {},
     "output_type": "execute_result"
    }
   ],
   "source": [
    "#drop Null ratings\n",
    "df = df[~df['rating'].str.contains('Null')]\n",
    "\n",
    "# Convert \"rating\" to int\n",
    "df= df.astype({'rating':'int'})\n",
    "df.rating.unique()\n",
    "\n"
   ]
  },
  {
   "cell_type": "code",
   "execution_count": 6,
   "metadata": {},
   "outputs": [
    {
     "data": {
      "text/html": [
       "<div>\n",
       "<style scoped>\n",
       "    .dataframe tbody tr th:only-of-type {\n",
       "        vertical-align: middle;\n",
       "    }\n",
       "\n",
       "    .dataframe tbody tr th {\n",
       "        vertical-align: top;\n",
       "    }\n",
       "\n",
       "    .dataframe thead th {\n",
       "        text-align: right;\n",
       "    }\n",
       "</style>\n",
       "<table border=\"1\" class=\"dataframe\">\n",
       "  <thead>\n",
       "    <tr style=\"text-align: right;\">\n",
       "      <th></th>\n",
       "      <th>rating</th>\n",
       "      <th>review</th>\n",
       "    </tr>\n",
       "  </thead>\n",
       "  <tbody>\n",
       "    <tr>\n",
       "      <th>0</th>\n",
       "      <td>10</td>\n",
       "      <td>An excellent courtroom drama with a unique twi...</td>\n",
       "    </tr>\n",
       "    <tr>\n",
       "      <th>1</th>\n",
       "      <td>10</td>\n",
       "      <td>This film is superb, in fact as Shakespeare on...</td>\n",
       "    </tr>\n",
       "    <tr>\n",
       "      <th>2</th>\n",
       "      <td>9</td>\n",
       "      <td>'12 Angry Men' is an outstanding film. It is p...</td>\n",
       "    </tr>\n",
       "    <tr>\n",
       "      <th>3</th>\n",
       "      <td>10</td>\n",
       "      <td>I watched this film for the first time, when i...</td>\n",
       "    </tr>\n",
       "    <tr>\n",
       "      <th>4</th>\n",
       "      <td>10</td>\n",
       "      <td>........Films rarely get this uplifting and br...</td>\n",
       "    </tr>\n",
       "  </tbody>\n",
       "</table>\n",
       "</div>"
      ],
      "text/plain": [
       "   rating                                             review\n",
       "0      10  An excellent courtroom drama with a unique twi...\n",
       "1      10  This film is superb, in fact as Shakespeare on...\n",
       "2       9  '12 Angry Men' is an outstanding film. It is p...\n",
       "3      10  I watched this film for the first time, when i...\n",
       "4      10  ........Films rarely get this uplifting and br..."
      ]
     },
     "execution_count": 6,
     "metadata": {},
     "output_type": "execute_result"
    }
   ],
   "source": [
    "\n",
    "# Drop rows where \"rating\" is NaN or reviews are missing\n",
    "df = df.dropna(subset=['rating'])\n",
    "df = df.dropna(subset=['review'])\n",
    "\n",
    "df.head()"
   ]
  },
  {
   "cell_type": "code",
   "execution_count": 7,
   "metadata": {},
   "outputs": [
    {
     "data": {
      "text/html": [
       "<div>\n",
       "<style scoped>\n",
       "    .dataframe tbody tr th:only-of-type {\n",
       "        vertical-align: middle;\n",
       "    }\n",
       "\n",
       "    .dataframe tbody tr th {\n",
       "        vertical-align: top;\n",
       "    }\n",
       "\n",
       "    .dataframe thead th {\n",
       "        text-align: right;\n",
       "    }\n",
       "</style>\n",
       "<table border=\"1\" class=\"dataframe\">\n",
       "  <thead>\n",
       "    <tr style=\"text-align: right;\">\n",
       "      <th></th>\n",
       "      <th>rating</th>\n",
       "      <th>review</th>\n",
       "    </tr>\n",
       "  </thead>\n",
       "  <tbody>\n",
       "    <tr>\n",
       "      <th>0</th>\n",
       "      <td>10</td>\n",
       "      <td>an excellent courtroom drama with a unique twi...</td>\n",
       "    </tr>\n",
       "    <tr>\n",
       "      <th>1</th>\n",
       "      <td>10</td>\n",
       "      <td>this film is superb, in fact as shakespeare on...</td>\n",
       "    </tr>\n",
       "    <tr>\n",
       "      <th>2</th>\n",
       "      <td>9</td>\n",
       "      <td>'12 angry men' is an outstanding film. it is p...</td>\n",
       "    </tr>\n",
       "    <tr>\n",
       "      <th>3</th>\n",
       "      <td>10</td>\n",
       "      <td>i watched this film for the first time, when i...</td>\n",
       "    </tr>\n",
       "    <tr>\n",
       "      <th>4</th>\n",
       "      <td>10</td>\n",
       "      <td>........films rarely get this uplifting and br...</td>\n",
       "    </tr>\n",
       "  </tbody>\n",
       "</table>\n",
       "</div>"
      ],
      "text/plain": [
       "   rating                                             review\n",
       "0      10  an excellent courtroom drama with a unique twi...\n",
       "1      10  this film is superb, in fact as shakespeare on...\n",
       "2       9  '12 angry men' is an outstanding film. it is p...\n",
       "3      10  i watched this film for the first time, when i...\n",
       "4      10  ........films rarely get this uplifting and br..."
      ]
     },
     "execution_count": 7,
     "metadata": {},
     "output_type": "execute_result"
    }
   ],
   "source": [
    "df['review'] = df['review'].str.lower() \n",
    "df.head()"
   ]
  },
  {
   "cell_type": "code",
   "execution_count": 8,
   "metadata": {},
   "outputs": [
    {
     "data": {
      "image/png": "[encoded data removed]",
      "text/plain": [
       "<Figure size 640x480 with 1 Axes>"
      ]
     },
     "metadata": {},
     "output_type": "display_data"
    }
   ],
   "source": [
    "hist = df['rating'].hist(bins=10)\n",
    "plt.title('Histogram of Movie Rating Distribution') \n",
    "plt.xlabel('Movie Rating') \n",
    "plt.xlim(1, 10)\n",
    "plt.show()"
   ]
  },
  {
   "cell_type": "markdown",
   "metadata": {},
   "source": [
    "We now trim down the dataset so that we have an equal distribution of all ratings. And we also shuffle the data."
   ]
  },
  {
   "cell_type": "code",
   "execution_count": 9,
   "metadata": {},
   "outputs": [],
   "source": [
    "#Shuffle the data\n",
    "from sklearn.utils import shuffle\n",
    "df = shuffle(df)\n",
    "\n",
    "df.to_csv('sampled_df.csv', index=False)"
   ]
  },
  {
   "cell_type": "code",
   "execution_count": 10,
   "metadata": {},
   "outputs": [
    {
     "name": "stdout",
     "output_type": "stream",
     "text": [
      "Final sample size: 50000\n",
      "rating\n",
      "1     5000\n",
      "2     5000\n",
      "3     5000\n",
      "4     5000\n",
      "5     5000\n",
      "6     5000\n",
      "7     5000\n",
      "8     5000\n",
      "9     5000\n",
      "10    5000\n",
      "Name: count, dtype: int64\n"
     ]
    }
   ],
   "source": [
    "total_sample_size = 50000\n",
    "unique_ratings = df['rating'].nunique()\n",
    "samples_per_category = total_sample_size // unique_ratings  # Integer division to get samples per category\n",
    "\n",
    "if total_sample_size % unique_ratings != 0:\n",
    "    print(f\"Warning: {total_sample_size} is not evenly divisible by {unique_ratings} categories. \" +\n",
    "          f\"Actual total sample size will be {samples_per_category * unique_ratings}.\")\n",
    "\n",
    "# Uniformly sample rows from each rating category\n",
    "sampled_df = df.groupby('rating').apply(lambda x: x.sample(n=samples_per_category)).reset_index(drop=True)\n",
    "\n",
    "# Check the final sample size and distribution\n",
    "print(f\"Final sample size: {len(sampled_df)}\")\n",
    "print(sampled_df['rating'].value_counts())\n",
    "sampled_df.to_csv('sampled_df.csv', index=False)"
   ]
  },
  {
   "cell_type": "code",
   "execution_count": 11,
   "metadata": {},
   "outputs": [
    {
     "data": {
      "image/png": "[encoded data removed]",
      "text/plain": [
       "<Figure size 640x480 with 1 Axes>"
      ]
     },
     "metadata": {},
     "output_type": "display_data"
    }
   ],
   "source": [
    "hist = sampled_df['rating'].hist(bins=10)\n",
    "plt.title('Histogram of Movie Rating Distribution') \n",
    "plt.xlabel('Movie Rating') \n",
    "plt.xlim(1, 10)\n",
    "plt.show()"
   ]
  },
  {
   "cell_type": "markdown",
   "metadata": {},
   "source": [
    "### Clean the data"
   ]
  },
  {
   "cell_type": "code",
   "execution_count": 12,
   "metadata": {},
   "outputs": [
    {
     "name": "stderr",
     "output_type": "stream",
     "text": [
      "[nltk_data] Downloading package stopwords to\n",
      "[nltk_data]     C:\\Users\\schack\\AppData\\Roaming\\nltk_data...\n",
      "[nltk_data]   Package stopwords is already up-to-date!\n"
     ]
    }
   ],
   "source": [
    "sampled_df = pd.read_csv('sampled_df.csv')\n",
    "\n",
    "sampled_df['review'] = sampled_df['review'].fillna('')\n",
    "sampled_df['review'] = sampled_df['review'].astype(str)\n",
    "\n",
    "# Clean up text per https://medium.com/@AMustafa4983/sentiment-analysis-on-imdb-movie-reviews-a-beginners-guide-d5136ec74e56\n",
    "\n",
    "import re\n",
    "import string\n",
    "import nltk\n",
    "from nltk.corpus import stopwords\n",
    "from nltk.stem.porter import *\n",
    " \n",
    "nltk.download('stopwords')\n",
    "\n",
    "def remove_stopwords(text):\n",
    "    stop_words = stopwords.words('english')\n",
    "    words = text.split()\n",
    "    filtered_sentence = ''\n",
    "    for word in words:\n",
    "        if word not in stop_words:\n",
    "            filtered_sentence = filtered_sentence + word + ' '\n",
    "    return filtered_sentence\n",
    "\n",
    "def normalize_text(text):\n",
    "    text = text.lower()\n",
    "    # get rid of urls\n",
    "    text = re.sub('https?://\\S+|www\\.\\S+', '', text)\n",
    "    # get rid of non words and extra spaces\n",
    "    text = re.sub('\\\\W', ' ', text)\n",
    "    text = re.sub('\\n', '', text)\n",
    "    text = re.sub(' +', ' ', text)\n",
    "    text = re.sub('^ ', '', text)\n",
    "    text = re.sub(' $', '', text)\n",
    "    return text\n",
    "\n",
    "def remove_punctuation(text):\n",
    "    table = str.maketrans('','',string.punctuation)\n",
    "    words = text.split()\n",
    "    filtered_sentence = ''\n",
    "    for word in words:\n",
    "        word = word.translate(table)\n",
    "        filtered_sentence = filtered_sentence + word + ' '\n",
    "    return filtered_sentence\n",
    "\n",
    "def stemming(text):\n",
    "    ps = PorterStemmer()\n",
    "    words = text.split()\n",
    "    filtered_sentence = ''\n",
    "    for word in words:\n",
    "        word = ps.stem(word)\n",
    "        filtered_sentence = filtered_sentence + word + ' '\n",
    "    return filtered_sentence\n",
    "\n",
    "def clean_text(text):\n",
    "    text = text.lower()\n",
    "    text = text.replace(',',' , ')\n",
    "    text = text.replace('.',' . ')\n",
    "    text = text.replace('/',' / ')\n",
    "    text = text.replace('@',' @ ')\n",
    "    text = text.replace('#',' # ')\n",
    "    text = text.replace('?',' ? ')\n",
    "    text = normalize_text(text)\n",
    "    text = remove_punctuation(text)\n",
    "    #text = remove_stopwords(text)\n",
    "    #text = stemming(text)\n",
    "    return text\n",
    "\n",
    "Xt = [clean_text(text) for text in sampled_df['review'].tolist()]\n",
    "\n",
    "sampled_df.review = pd.DataFrame(Xt)\n"
   ]
  },
  {
   "cell_type": "code",
   "execution_count": 13,
   "metadata": {},
   "outputs": [],
   "source": [
    "sampled_df.to_csv('sampled_df.csv', index=False)"
   ]
  },
  {
   "cell_type": "markdown",
   "metadata": {},
   "source": [
    "<a href=\"#top\">Back to Top</a>\n",
    "<a id=\"P4\"></a>\n",
    "## 4.0 Training a Model from Scratch \n",
    "#### Train a model from scratch to perform the classification task (this does NOT need to be a transformer). That is, do not use transfer learning for the classification task. Verify the model converges (even if the model is overfit). This does NOT need to mirror the foundational model. This model may be far less computational to train.\n",
    "\n",
    "We followed an approach that uses an LSTM: \n",
    "https://medium.com/@AMustafa4983/sentiment-analysis-on-imdb-movie-reviews-a-beginners-guide-d5136ec74e56"
   ]
  },
  {
   "cell_type": "markdown",
   "metadata": {},
   "source": [
    "### Model"
   ]
  },
  {
   "cell_type": "code",
   "execution_count": 14,
   "metadata": {},
   "outputs": [
    {
     "data": {
      "text/html": [
       "<div>\n",
       "<style scoped>\n",
       "    .dataframe tbody tr th:only-of-type {\n",
       "        vertical-align: middle;\n",
       "    }\n",
       "\n",
       "    .dataframe tbody tr th {\n",
       "        vertical-align: top;\n",
       "    }\n",
       "\n",
       "    .dataframe thead th {\n",
       "        text-align: right;\n",
       "    }\n",
       "</style>\n",
       "<table border=\"1\" class=\"dataframe\">\n",
       "  <thead>\n",
       "    <tr style=\"text-align: right;\">\n",
       "      <th></th>\n",
       "      <th>rating</th>\n",
       "      <th>review</th>\n",
       "    </tr>\n",
       "  </thead>\n",
       "  <tbody>\n",
       "    <tr>\n",
       "      <th>0</th>\n",
       "      <td>0</td>\n",
       "      <td>johnny depp played some cross between michael ...</td>\n",
       "    </tr>\n",
       "    <tr>\n",
       "      <th>1</th>\n",
       "      <td>0</td>\n",
       "      <td>katherine heigl is capable of good acting but ...</td>\n",
       "    </tr>\n",
       "    <tr>\n",
       "      <th>2</th>\n",
       "      <td>0</td>\n",
       "      <td>this movie is a cleverly contrived character a...</td>\n",
       "    </tr>\n",
       "    <tr>\n",
       "      <th>3</th>\n",
       "      <td>0</td>\n",
       "      <td>as my title says this is an unnecessary butche...</td>\n",
       "    </tr>\n",
       "    <tr>\n",
       "      <th>4</th>\n",
       "      <td>0</td>\n",
       "      <td>this is by far the worst film ever 66666666666...</td>\n",
       "    </tr>\n",
       "    <tr>\n",
       "      <th>...</th>\n",
       "      <td>...</td>\n",
       "      <td>...</td>\n",
       "    </tr>\n",
       "    <tr>\n",
       "      <th>49995</th>\n",
       "      <td>1</td>\n",
       "      <td>se7en is a psychological thriller movie where ...</td>\n",
       "    </tr>\n",
       "    <tr>\n",
       "      <th>49996</th>\n",
       "      <td>1</td>\n",
       "      <td>brilliant what can i say except brilliant emot...</td>\n",
       "    </tr>\n",
       "    <tr>\n",
       "      <th>49997</th>\n",
       "      <td>1</td>\n",
       "      <td>this is a must for any mel gibson fan he gave ...</td>\n",
       "    </tr>\n",
       "    <tr>\n",
       "      <th>49998</th>\n",
       "      <td>1</td>\n",
       "      <td>you re not gonna forget it it s totally enough...</td>\n",
       "    </tr>\n",
       "    <tr>\n",
       "      <th>49999</th>\n",
       "      <td>1</td>\n",
       "      <td>if there s any movie that is guaranteed to mak...</td>\n",
       "    </tr>\n",
       "  </tbody>\n",
       "</table>\n",
       "<p>50000 rows × 2 columns</p>\n",
       "</div>"
      ],
      "text/plain": [
       "       rating                                             review\n",
       "0           0  johnny depp played some cross between michael ...\n",
       "1           0  katherine heigl is capable of good acting but ...\n",
       "2           0  this movie is a cleverly contrived character a...\n",
       "3           0  as my title says this is an unnecessary butche...\n",
       "4           0  this is by far the worst film ever 66666666666...\n",
       "...       ...                                                ...\n",
       "49995       1  se7en is a psychological thriller movie where ...\n",
       "49996       1  brilliant what can i say except brilliant emot...\n",
       "49997       1  this is a must for any mel gibson fan he gave ...\n",
       "49998       1  you re not gonna forget it it s totally enough...\n",
       "49999       1  if there s any movie that is guaranteed to mak...\n",
       "\n",
       "[50000 rows x 2 columns]"
      ]
     },
     "execution_count": 14,
     "metadata": {},
     "output_type": "execute_result"
    }
   ],
   "source": [
    "sampled_df = pd.read_csv('sampled_df.csv')\n",
    "\n",
    "sampled_df.rating.replace(to_replace = [1,2,3,4,5,6,7,8,9,10], \n",
    "               value = [0,0,0,0,0,\n",
    "                        1,1,1,1,1],\n",
    "                inplace=True)\n",
    "sampled_df"
   ]
  },
  {
   "cell_type": "code",
   "execution_count": 15,
   "metadata": {},
   "outputs": [],
   "source": [
    "sampled_df.to_csv('sampled_df_bin.csv', index=False)"
   ]
  },
  {
   "cell_type": "code",
   "execution_count": 16,
   "metadata": {},
   "outputs": [],
   "source": [
    "from keras import metrics\n",
    "from keras import backend as K\n",
    "\n",
    "def recall_m(y_true, y_pred):\n",
    "    true_positives = K.sum(K.round(K.clip(y_true * y_pred, 0, 1)))\n",
    "    possible_positives = K.sum(K.round(K.clip(y_true, 0, 1)))\n",
    "    recall = true_positives / (possible_positives + K.epsilon())\n",
    "    return recall\n",
    "\n",
    "def precision_m(y_true, y_pred):\n",
    "    true_positives = K.sum(K.round(K.clip(y_true * y_pred, 0, 1)))\n",
    "    predicted_positives = K.sum(K.round(K.clip(y_pred, 0, 1)))\n",
    "    precision = true_positives / (predicted_positives + K.epsilon())\n",
    "    return precision\n",
    "\n",
    "def f1_m(y_true, y_pred):\n",
    "    precision = precision_m(y_true, y_pred)\n",
    "    recall = recall_m(y_true, y_pred)\n",
    "    return 2*((precision*recall)/(precision+recall+K.epsilon()))"
   ]
  },
  {
   "cell_type": "code",
   "execution_count": 17,
   "metadata": {},
   "outputs": [],
   "source": [
    "def plothistory(history, label1, label2 ):\n",
    "    # Plot training & validation accuracy values\n",
    "    plt.plot(history.history['accuracy'])\n",
    "    plt.plot(history.history['val_accuracy'])\n",
    "    plt.title('Model accuracy')\n",
    "    plt.ylabel('Accuracy')\n",
    "    plt.xlabel('Epoch')\n",
    "    plt.legend([label1, label2], loc='upper left')\n",
    "    plt.show()\n",
    "\n",
    "    # Plot training & validation loss values\n",
    "    plt.plot(history.history['loss'])\n",
    "    plt.plot(history.history['val_loss'])\n",
    "    plt.title('Model loss')\n",
    "    plt.ylabel('Loss')\n",
    "    plt.xlabel('Epoch')\n",
    "    plt.legend([label1, label2], loc='upper left')\n",
    "    plt.show()"
   ]
  },
  {
   "cell_type": "markdown",
   "metadata": {},
   "source": [
    "STOP HERE!"
   ]
  },
  {
   "cell_type": "code",
   "execution_count": 47,
   "metadata": {},
   "outputs": [],
   "source": [
    "from keras.models import Sequential\n",
    "from keras.layers import Embedding, Conv1D, GlobalMaxPooling1D, Dense, Dropout, GlobalAveragePooling1D\n",
    "from keras.preprocessing.text import Tokenizer\n",
    "import tensorflow as tf\n",
    "\n",
    "\n",
    "# Model hyperparameters\n",
    "max_length = 100\n",
    "embedding_dim = 100\n",
    "num_filters = 128\n",
    "kernel_size = 5\n",
    "hidden_dims = 128\n",
    "\n",
    "# Tokenize\n",
    "#tokenizer = Tokenizer()\n",
    "#tokenizer.fit_on_texts((sampled_df['review']).astype(str))\n",
    "vocab_size = len(tokenizer.word_index)+1  # Adding 1 to account for the reserved 0 index\n"
   ]
  },
  {
   "cell_type": "markdown",
   "metadata": {},
   "source": [
    "### train_test_split"
   ]
  },
  {
   "cell_type": "code",
   "execution_count": 52,
   "metadata": {},
   "outputs": [],
   "source": [
    "X = sampled_df['review'].astype(str)\n",
    "y = sampled_df['rating']\n",
    "X_train, X_test, y_train, y_test = train_test_split(X,\n",
    "                                                   y,\n",
    "                                                   test_size=0.2,\n",
    "                                                   random_state=42,\n",
    "                                                   shuffle=True)"
   ]
  },
  {
   "cell_type": "markdown",
   "metadata": {},
   "source": [
    "### Tokenization"
   ]
  },
  {
   "cell_type": "code",
   "execution_count": 53,
   "metadata": {},
   "outputs": [],
   "source": [
    "#from keras.preprocessing.text import Tokenizer\n",
    "# important properties\n",
    "vocab_size = 10000\n",
    "max_length = 100\n",
    "\n",
    "trunc_type = 'post'\n",
    "padding_type = 'post'\n",
    "oov_tok = '<OOV>'\n",
    "\n",
    "# Define tokenizer and fit on texts\n",
    "tokenizer = Tokenizer(num_words=vocab_size, oov_token=oov_tok)\n",
    "tokenizer.fit_on_texts(X_train)\n",
    "\n",
    "# Let's Tokenize and pad texts\n",
    "X_train = tokenizer.texts_to_sequences(X_train)\n",
    "X_test = tokenizer.texts_to_sequences(X_test)\n",
    "\n",
    "X_train = tf.keras.utils.pad_sequences(X_train, maxlen=max_length,\n",
    "                         padding=padding_type,\n",
    "                         truncating=trunc_type)\n",
    "X_test = tf.keras.utils.pad_sequences(X_test, maxlen=max_length,\n",
    "                         padding=padding_type,\n",
    "                         truncating=trunc_type)"
   ]
  },
  {
   "cell_type": "markdown",
   "metadata": {},
   "source": [
    "### Train Model"
   ]
  },
  {
   "cell_type": "code",
   "execution_count": 56,
   "metadata": {},
   "outputs": [],
   "source": [
    "from keras.layers import LSTM\n",
    "from keras.layers import Embedding, Conv1D, GlobalMaxPooling1D, Dense, Dropout, GlobalAveragePooling1D\n",
    "from keras.callbacks import EarlyStopping\n",
    "\n",
    "\n",
    "\n",
    "model = Sequential()\n",
    "\n",
    "model.add(Embedding(vocab_size, 64, input_length=max_length))\n",
    "model.add(LSTM(64, return_sequences=True))\n",
    "model.add(Dropout(0.2))  # Add dropout regularization\n",
    "\n",
    "model.add(LSTM(32, return_sequences=True))\n",
    "model.add(Dense(32, activation='relu'))\n",
    "model.add(Dropout(0.2))  # Add dropout regularization\n",
    "\n",
    "model.add(LSTM(32))\n",
    "model.add(Dense(32, activation='relu'))\n",
    "model.add(Dropout(0.2))  # Add dropout regularization\n",
    "    \n",
    "model.add(Dense(1, activation='sigmoid'))\n",
    "\n",
    "model.compile(loss='binary_crossentropy', optimizer='adam', metrics=['accuracy',f1_m,precision_m, recall_m])\n",
    "\n",
    "#early_stopping = EarlyStopping(monitor='val_loss', patience=3)  # Apply early stopping"
   ]
  },
  {
   "cell_type": "code",
   "execution_count": 59,
   "metadata": {},
   "outputs": [
    {
     "data": {
      "image/png": "[encoded data removed]",
      "text/plain": [
       "<IPython.core.display.Image object>"
      ]
     },
     "execution_count": 59,
     "metadata": {},
     "output_type": "execute_result"
    }
   ],
   "source": [
    "import keras\n",
    "keras.utils.plot_model(model, to_file='base_model_plot.png', show_shapes=True, show_layer_names=True)"
   ]
  },
  {
   "cell_type": "code",
   "execution_count": 57,
   "metadata": {},
   "outputs": [
    {
     "name": "stdout",
     "output_type": "stream",
     "text": [
      "Epoch 1/15\n",
      "128/128 [==============================] - 47s 344ms/step - loss: 0.5896 - accuracy: 0.6711 - f1_m: 0.6402 - precision_m: 0.6792 - recall_m: 0.6411 - val_loss: 0.5159 - val_accuracy: 0.7487 - val_f1_m: 0.7561 - val_precision_m: 0.7265 - val_recall_m: 0.7899\n",
      "Epoch 2/15\n",
      "128/128 [==============================] - 82s 639ms/step - loss: 0.4580 - accuracy: 0.7968 - f1_m: 0.7973 - precision_m: 0.7970 - recall_m: 0.8025 - val_loss: 0.5152 - val_accuracy: 0.7548 - val_f1_m: 0.7411 - val_precision_m: 0.7750 - val_recall_m: 0.7111\n",
      "Epoch 3/15\n",
      "128/128 [==============================] - 104s 812ms/step - loss: 0.4120 - accuracy: 0.8245 - f1_m: 0.8238 - precision_m: 0.8299 - recall_m: 0.8224 - val_loss: 0.5185 - val_accuracy: 0.7506 - val_f1_m: 0.7586 - val_precision_m: 0.7268 - val_recall_m: 0.7946\n",
      "Epoch 4/15\n",
      "128/128 [==============================] - 94s 737ms/step - loss: 0.3611 - accuracy: 0.8528 - f1_m: 0.8518 - precision_m: 0.8590 - recall_m: 0.8464 - val_loss: 0.5615 - val_accuracy: 0.7477 - val_f1_m: 0.7383 - val_precision_m: 0.7572 - val_recall_m: 0.7213\n",
      "Epoch 5/15\n",
      "128/128 [==============================] - 86s 676ms/step - loss: 0.3117 - accuracy: 0.8797 - f1_m: 0.8789 - precision_m: 0.8878 - recall_m: 0.8721 - val_loss: 0.6410 - val_accuracy: 0.7354 - val_f1_m: 0.7379 - val_precision_m: 0.7217 - val_recall_m: 0.7558\n"
     ]
    }
   ],
   "source": [
    "batch_size = 250\n",
    "history = model.fit(X_train,y_train,epochs=15,batch_size=batch_size,validation_split=.2,callbacks=[early_stopping])"
   ]
  },
  {
   "cell_type": "markdown",
   "metadata": {},
   "source": [
    "### Plot Convergence"
   ]
  },
  {
   "cell_type": "code",
   "execution_count": 20,
   "metadata": {},
   "outputs": [],
   "source": [
    "import matplotlib.pyplot as plt\n",
    "\n",
    "# Plot training & validation accuracy values\n",
    "plt.plot(history.history['accuracy'])\n",
    "plt.plot(history.history['val_accuracy'])\n",
    "plt.title('Model accuracy')\n",
    "plt.ylabel('Accuracy')\n",
    "plt.xlabel('Epoch')\n",
    "plt.legend([label1, label2], loc='upper left')\n",
    "plt.show()\n",
    "\n",
    "# Plot training & validation loss values\n",
    "plt.plot(history.history['loss'])\n",
    "plt.plot(history.history['val_loss'])\n",
    "plt.title('Model loss')\n",
    "plt.ylabel('Loss')\n",
    "plt.xlabel('Epoch')\n",
    "plt.legend([label1, label2], loc='upper left')\n",
    "plt.show()\n"
   ]
  },
  {
   "cell_type": "code",
   "execution_count": 225,
   "metadata": {},
   "outputs": [
    {
     "name": "stdout",
     "output_type": "stream",
     "text": [
      "313/313 [==============================] - 8s 25ms/step\n"
     ]
    }
   ],
   "source": [
    "# Save the training history to a CSV file\n",
    "histdf_init = pd.DataFrame(history.history)\n",
    "histdf_init.to_csv('base_model_training_history2bin.csv', index=False)\n",
    "\n",
    "# Save predictions to a CSV file\n",
    "y_pred = model.predict(X_test)\n",
    "results = pd.DataFrame(pd.Series(y_test.to_numpy()),columns=['Actual'])\n",
    "results['Predicted'] = pd.DataFrame(y_pred)\n",
    "results.head()\n",
    "results.to_csv('base_model_predictions2bin.csv', index=False)\n",
    "\n",
    "# Save the Keras model\n",
    "model.save('base_model2bin.keras')"
   ]
  },
  {
   "cell_type": "code",
   "execution_count": 226,
   "metadata": {},
   "outputs": [
    {
     "name": "stdout",
     "output_type": "stream",
     "text": [
      "313/313 [==============================] - 8s 26ms/step - loss: 0.6120 - accuracy: 0.7441 - f1_m: 0.7406 - precision_m: 0.7329 - recall_m: 0.7630\n"
     ]
    }
   ],
   "source": [
    "score = model.evaluate(np.asarray(X_test),np.asarray(y_test))"
   ]
  },
  {
   "cell_type": "code",
   "execution_count": 227,
   "metadata": {},
   "outputs": [
    {
     "name": "stdout",
     "output_type": "stream",
     "text": [
      "[[1 0 0 ... 0 0 0]]\n"
     ]
    }
   ],
   "source": [
    "yt = np.array(y_test)\n",
    "yt = yt.reshape(1,10000)\n",
    "print(yt)"
   ]
  },
  {
   "cell_type": "code",
   "execution_count": 228,
   "metadata": {},
   "outputs": [
    {
     "name": "stdout",
     "output_type": "stream",
     "text": [
      "[[0 0 1 ... 1 0 0]]\n"
     ]
    }
   ],
   "source": [
    "yp = np.round(y_pred,0).astype(int)\n",
    "yp = yp.reshape(1,10000)\n",
    "print(yp)"
   ]
  },
  {
   "cell_type": "code",
   "execution_count": 229,
   "metadata": {},
   "outputs": [
    {
     "data": {
      "image/png": "[encoded data removed]",
      "text/plain": [
       "<Figure size 640x480 with 2 Axes>"
      ]
     },
     "metadata": {},
     "output_type": "display_data"
    }
   ],
   "source": [
    "from sklearn.metrics import ConfusionMatrixDisplay, confusion_matrix\n",
    "y_predconf = yp.reshape(10000,1)\n",
    "y_testconf = yt.reshape(10000,1)\n",
    "conf_mat = confusion_matrix(y_testconf, y_predconf)\n",
    "cm_display = ConfusionMatrixDisplay(conf_mat).plot()"
   ]
  },
  {
   "cell_type": "markdown",
   "metadata": {},
   "source": [
    "The training performance converges, both from a loss and an accuracy perspective. The test dataset does not perform as well for this initial model, however, we do achieve around 75% accuracy for both the Validation and Test Data. \n",
    "We will now evaluate this task using Transfer Learning to see if we have improvements in the performance."
   ]
  },
  {
   "cell_type": "markdown",
   "metadata": {},
   "source": [
    "<a href=\"#top\">Back to Top</a>\n",
    "<a id=\"P5\"></a>\n",
    "## 5.0 Training a Model by Transfer Learning from Foundational Model \n",
    "#### Train a model by transfer learning from your foundational model. Verify that the new model converges. You only need to train a model using the bottleneck features for this step. "
   ]
  },
  {
   "cell_type": "markdown",
   "metadata": {},
   "source": [
    "https://medium.com/geekculture/hugging-face-distilbert-tensorflow-for-custom-text-classification-1ad4a49e26a7"
   ]
  },
  {
   "cell_type": "code",
   "execution_count": 19,
   "metadata": {},
   "outputs": [
    {
     "name": "stderr",
     "output_type": "stream",
     "text": [
      "Some weights of the PyTorch model were not used when initializing the TF 2.0 model TFDistilBertModel: ['vocab_transform.weight', 'vocab_projector.bias', 'vocab_transform.bias', 'vocab_layer_norm.weight', 'vocab_layer_norm.bias']\n",
      "- This IS expected if you are initializing TFDistilBertModel from a PyTorch model trained on another task or with another architecture (e.g. initializing a TFBertForSequenceClassification model from a BertForPreTraining model).\n",
      "- This IS NOT expected if you are initializing TFDistilBertModel from a PyTorch model that you expect to be exactly identical (e.g. initializing a TFBertForSequenceClassification model from a BertForSequenceClassification model).\n",
      "All the weights of TFDistilBertModel were initialized from the PyTorch model.\n",
      "If your task is similar to the task the model of the checkpoint was trained on, you can already use TFDistilBertModel for predictions without further training.\n"
     ]
    }
   ],
   "source": [
    "import numpy as np\n",
    "import pandas as pd\n",
    "from keras.models import Sequential\n",
    "from keras.layers import Dense, Input\n",
    "from transformers import DistilBertTokenizer, TFDistilBertModel, TFDistilBertForSequenceClassification\n",
    "from transformers import DistilBertTokenizerFast, AutoTokenizer\n",
    "from sklearn.model_selection import train_test_split\n",
    "import tensorflow as tf\n",
    "\n",
    "max_length = 100\n",
    "batch_size = 125\n",
    "\n",
    "sampled_df = pd.read_csv('sampled_df_bin.csv')\n",
    "sampled_df['review'] = sampled_df['review'].fillna('')\n",
    "sampled_df['review'] = sampled_df['review'].astype(str)\n",
    "sampled_df = sampled_df[['review','rating']]\n",
    "\n",
    "X = sampled_df['review'].tolist()\n",
    "y = sampled_df['rating'].tolist() # binary classes\n",
    "\n",
    "\n",
    "#Train validation split\n",
    "X_train, X_val, y_train, y_val = train_test_split(X, y, test_size=0.2, random_state=42)\n",
    "#Train test split\n",
    "X_train, X_test, y_train, y_test = train_test_split(X_train, y_train, test_size=0.2, random_state=42)\n",
    "\n",
    "tokenizer = DistilBertTokenizer.from_pretrained('distilbert-base-uncased')\n",
    "distil_bert = TFDistilBertModel.from_pretrained('distilbert-base-uncased')\n",
    "\n",
    "#At first we freeze it, with distil_bert freeze all or none\n",
    "for layer in distil_bert.layers:\n",
    "    layer.trainable = True # we will freeze in fine tuning learning\n",
    "\n",
    "\n",
    "def extract_features_in_batches(reviews, batch_size=32):\n",
    "    all_features = []\n",
    "    \n",
    "    for i in range(0, len(reviews), batch_size):\n",
    "        batch_reviews = reviews[i:i+batch_size]\n",
    "        inputs = tokenizer(batch_reviews, padding=True, truncation=True, max_length=max_length, return_tensors=\"tf\")\n",
    "        outputs = distil_bert(inputs['input_ids'], attention_mask=inputs['attention_mask'])\n",
    "        features = outputs.last_hidden_state[:, 0, :].numpy()  # Extract \n",
    "        all_features.append(features)\n",
    "    \n",
    "    all_features = np.vstack(all_features)\n",
    "    return all_features\n",
    "\n",
    "\n",
    "\n"
   ]
  },
  {
   "cell_type": "code",
   "execution_count": 20,
   "metadata": {},
   "outputs": [],
   "source": [
    "def prep_labels(labels, batch_size=32):\n",
    "    all_labels = []\n",
    "    \n",
    "    for i in range(0, len(labels), batch_size):\n",
    "        batches= labels[i:i+batch_size]\n",
    "        all_labels.extend(batches)\n",
    "    \n",
    "    all_labels = np.vstack(all_labels)\n",
    "    return all_labels"
   ]
  },
  {
   "cell_type": "code",
   "execution_count": 21,
   "metadata": {},
   "outputs": [],
   "source": [
    "#Extract train features\n",
    "X_train_features = extract_features_in_batches(X_train, batch_size)\n",
    "# Save the bottleneck features and labels\n"
   ]
  },
  {
   "cell_type": "code",
   "execution_count": 22,
   "metadata": {},
   "outputs": [],
   "source": [
    "np.save('sc_results_temp0306/bottleneck_train_features.npy', X_train_features)"
   ]
  },
  {
   "cell_type": "code",
   "execution_count": 23,
   "metadata": {},
   "outputs": [],
   "source": [
    "y_train_labels = prep_labels(y_train, batch_size)\n",
    "np.save('sc_results_temp0306/train_ratings.npy', y_train_labels )\n"
   ]
  },
  {
   "cell_type": "code",
   "execution_count": 24,
   "metadata": {},
   "outputs": [],
   "source": [
    "#Extract validation features\n",
    "X_val_features = extract_features_in_batches(X_val, batch_size)\n",
    "np.save('sc_results_temp0306/bottleneck_val_features.npy', X_val_features)\n"
   ]
  },
  {
   "cell_type": "code",
   "execution_count": 25,
   "metadata": {},
   "outputs": [],
   "source": [
    "y_val_labels = prep_labels(y_val, batch_size)\n",
    "np.save('sc_results_temp0306/val_ratings.npy', y_val_labels )"
   ]
  },
  {
   "cell_type": "code",
   "execution_count": 26,
   "metadata": {},
   "outputs": [],
   "source": [
    "\n",
    "X_train_features = np.load('sc_results_temp0306/bottleneck_train_features.npy')\n",
    "y_train_labels = np.load('sc_results_temp0306/train_ratings.npy')\n",
    "\n",
    "X_val_features = np.load('sc_results_temp0306/bottleneck_val_features.npy')\n",
    "y_val_labels = np.load('sc_results_temp0306/val_ratings.npy')\n"
   ]
  },
  {
   "cell_type": "code",
   "execution_count": 27,
   "metadata": {},
   "outputs": [],
   "source": [
    "\n",
    "from keras.optimizers import Adam\n",
    "from keras.layers import Dropout\n",
    "top_model = Sequential()\n",
    "top_model.add(Dense(100, activation='relu', input_shape=(X_train_features.shape[1],)))\n",
    "top_model.add(Dropout(0.5))\n",
    "top_model.add(Dense(1, activation='sigmoid'))  # 2 rating classes\n",
    "optimizer = Adam(lr=0.001)\n",
    "top_model.compile(optimizer=optimizer,\n",
    "              loss='binary_crossentropy',\n",
    "              metrics=['accuracy',f1_m,precision_m, recall_m])\n",
    "\n",
    "\n"
   ]
  },
  {
   "cell_type": "code",
   "execution_count": 28,
   "metadata": {},
   "outputs": [
    {
     "name": "stdout",
     "output_type": "stream",
     "text": [
      "Model: \"sequential\"\n",
      "_________________________________________________________________\n",
      " Layer (type)                Output Shape              Param #   \n",
      "=================================================================\n",
      " dense (Dense)               (None, 100)               76900     \n",
      "                                                                 \n",
      " dropout_19 (Dropout)        (None, 100)               0         \n",
      "                                                                 \n",
      " dense_1 (Dense)             (None, 1)                 101       \n",
      "                                                                 \n",
      "=================================================================\n",
      "Total params: 77,001\n",
      "Trainable params: 77,001\n",
      "Non-trainable params: 0\n",
      "_________________________________________________________________\n"
     ]
    }
   ],
   "source": [
    "top_model.summary()"
   ]
  },
  {
   "cell_type": "code",
   "execution_count": 29,
   "metadata": {},
   "outputs": [
    {
     "name": "stdout",
     "output_type": "stream",
     "text": [
      "Epoch 1/100\n"
     ]
    },
    {
     "name": "stdout",
     "output_type": "stream",
     "text": [
      "1000/1000 [==============================] - 2s 2ms/step - loss: 0.5545 - accuracy: 0.7153 - f1_m: 0.7015 - precision_m: 0.7297 - recall_m: 0.6975 - val_loss: 0.5103 - val_accuracy: 0.7470 - val_f1_m: 0.7367 - val_precision_m: 0.7452 - val_recall_m: 0.7397\n",
      "Epoch 2/100\n",
      "1000/1000 [==============================] - 2s 2ms/step - loss: 0.5266 - accuracy: 0.7363 - f1_m: 0.7270 - precision_m: 0.7440 - recall_m: 0.7278 - val_loss: 0.5132 - val_accuracy: 0.7490 - val_f1_m: 0.7185 - val_precision_m: 0.7889 - val_recall_m: 0.6701\n",
      "Epoch 3/100\n",
      "1000/1000 [==============================] - 2s 2ms/step - loss: 0.5190 - accuracy: 0.7431 - f1_m: 0.7342 - precision_m: 0.7503 - recall_m: 0.7356 - val_loss: 0.4985 - val_accuracy: 0.7552 - val_f1_m: 0.7387 - val_precision_m: 0.7662 - val_recall_m: 0.7244\n",
      "Epoch 4/100\n",
      "1000/1000 [==============================] - 2s 2ms/step - loss: 0.5143 - accuracy: 0.7445 - f1_m: 0.7357 - precision_m: 0.7506 - recall_m: 0.7384 - val_loss: 0.4991 - val_accuracy: 0.7550 - val_f1_m: 0.7473 - val_precision_m: 0.7501 - val_recall_m: 0.7558\n",
      "Epoch 5/100\n",
      "1000/1000 [==============================] - 2s 2ms/step - loss: 0.5108 - accuracy: 0.7507 - f1_m: 0.7424 - precision_m: 0.7581 - recall_m: 0.7436 - val_loss: 0.4958 - val_accuracy: 0.7573 - val_f1_m: 0.7460 - val_precision_m: 0.7598 - val_recall_m: 0.7442\n",
      "Epoch 6/100\n",
      "1000/1000 [==============================] - 2s 2ms/step - loss: 0.5088 - accuracy: 0.7488 - f1_m: 0.7408 - precision_m: 0.7530 - recall_m: 0.7457 - val_loss: 0.5008 - val_accuracy: 0.7498 - val_f1_m: 0.7546 - val_precision_m: 0.7239 - val_recall_m: 0.8002\n",
      "Epoch 7/100\n",
      "1000/1000 [==============================] - 2s 2ms/step - loss: 0.5049 - accuracy: 0.7515 - f1_m: 0.7420 - precision_m: 0.7587 - recall_m: 0.7414 - val_loss: 0.4937 - val_accuracy: 0.7582 - val_f1_m: 0.7417 - val_precision_m: 0.7725 - val_recall_m: 0.7243\n",
      "Epoch 8/100\n",
      "1000/1000 [==============================] - 2s 2ms/step - loss: 0.5038 - accuracy: 0.7526 - f1_m: 0.7447 - precision_m: 0.7588 - recall_m: 0.7452 - val_loss: 0.4932 - val_accuracy: 0.7583 - val_f1_m: 0.7568 - val_precision_m: 0.7414 - val_recall_m: 0.7839\n",
      "Epoch 9/100\n",
      "1000/1000 [==============================] - 2s 2ms/step - loss: 0.5005 - accuracy: 0.7567 - f1_m: 0.7492 - precision_m: 0.7618 - recall_m: 0.7507 - val_loss: 0.4940 - val_accuracy: 0.7574 - val_f1_m: 0.7338 - val_precision_m: 0.7869 - val_recall_m: 0.6983\n",
      "Epoch 10/100\n",
      "1000/1000 [==============================] - 2s 2ms/step - loss: 0.5013 - accuracy: 0.7547 - f1_m: 0.7461 - precision_m: 0.7614 - recall_m: 0.7471 - val_loss: 0.4901 - val_accuracy: 0.7588 - val_f1_m: 0.7493 - val_precision_m: 0.7573 - val_recall_m: 0.7524\n",
      "Epoch 11/100\n",
      "1000/1000 [==============================] - 2s 2ms/step - loss: 0.4988 - accuracy: 0.7548 - f1_m: 0.7468 - precision_m: 0.7588 - recall_m: 0.7498 - val_loss: 0.4904 - val_accuracy: 0.7595 - val_f1_m: 0.7431 - val_precision_m: 0.7723 - val_recall_m: 0.7271\n",
      "Epoch 12/100\n",
      "1000/1000 [==============================] - 2s 2ms/step - loss: 0.4983 - accuracy: 0.7569 - f1_m: 0.7515 - precision_m: 0.7606 - recall_m: 0.7572 - val_loss: 0.4936 - val_accuracy: 0.7583 - val_f1_m: 0.7372 - val_precision_m: 0.7802 - val_recall_m: 0.7094\n",
      "Epoch 13/100\n",
      "1000/1000 [==============================] - 2s 2ms/step - loss: 0.4981 - accuracy: 0.7563 - f1_m: 0.7496 - precision_m: 0.7603 - recall_m: 0.7537 - val_loss: 0.4945 - val_accuracy: 0.7579 - val_f1_m: 0.7609 - val_precision_m: 0.7345 - val_recall_m: 0.8011\n",
      "Epoch 14/100\n",
      "1000/1000 [==============================] - 2s 2ms/step - loss: 0.4973 - accuracy: 0.7586 - f1_m: 0.7496 - precision_m: 0.7633 - recall_m: 0.7501 - val_loss: 0.4876 - val_accuracy: 0.7640 - val_f1_m: 0.7569 - val_precision_m: 0.7583 - val_recall_m: 0.7667\n",
      "Epoch 15/100\n",
      "1000/1000 [==============================] - 2s 2ms/step - loss: 0.4943 - accuracy: 0.7586 - f1_m: 0.7512 - precision_m: 0.7638 - recall_m: 0.7550 - val_loss: 0.4885 - val_accuracy: 0.7622 - val_f1_m: 0.7512 - val_precision_m: 0.7647 - val_recall_m: 0.7489\n",
      "Epoch 16/100\n",
      "1000/1000 [==============================] - 2s 2ms/step - loss: 0.4943 - accuracy: 0.7579 - f1_m: 0.7500 - precision_m: 0.7613 - recall_m: 0.7546 - val_loss: 0.4887 - val_accuracy: 0.7640 - val_f1_m: 0.7465 - val_precision_m: 0.7794 - val_recall_m: 0.7266\n",
      "Epoch 17/100\n",
      "1000/1000 [==============================] - 2s 2ms/step - loss: 0.4937 - accuracy: 0.7608 - f1_m: 0.7533 - precision_m: 0.7639 - recall_m: 0.7573 - val_loss: 0.4910 - val_accuracy: 0.7642 - val_f1_m: 0.7526 - val_precision_m: 0.7675 - val_recall_m: 0.7491\n",
      "Epoch 18/100\n",
      "1000/1000 [==============================] - 2s 2ms/step - loss: 0.4947 - accuracy: 0.7583 - f1_m: 0.7501 - precision_m: 0.7650 - recall_m: 0.7510 - val_loss: 0.4898 - val_accuracy: 0.7635 - val_f1_m: 0.7570 - val_precision_m: 0.7583 - val_recall_m: 0.7672\n",
      "Epoch 19/100\n",
      "1000/1000 [==============================] - 2s 2ms/step - loss: 0.4912 - accuracy: 0.7604 - f1_m: 0.7537 - precision_m: 0.7659 - recall_m: 0.7563 - val_loss: 0.4881 - val_accuracy: 0.7628 - val_f1_m: 0.7586 - val_precision_m: 0.7517 - val_recall_m: 0.7776\n",
      "Epoch 20/100\n",
      "1000/1000 [==============================] - 2s 2ms/step - loss: 0.4895 - accuracy: 0.7620 - f1_m: 0.7551 - precision_m: 0.7668 - recall_m: 0.7579 - val_loss: 0.4902 - val_accuracy: 0.7591 - val_f1_m: 0.7392 - val_precision_m: 0.7798 - val_recall_m: 0.7136\n",
      "Epoch 21/100\n",
      "1000/1000 [==============================] - 2s 2ms/step - loss: 0.4885 - accuracy: 0.7643 - f1_m: 0.7571 - precision_m: 0.7696 - recall_m: 0.7586 - val_loss: 0.4877 - val_accuracy: 0.7602 - val_f1_m: 0.7568 - val_precision_m: 0.7466 - val_recall_m: 0.7781\n",
      "Epoch 22/100\n",
      "1000/1000 [==============================] - 2s 2ms/step - loss: 0.4879 - accuracy: 0.7624 - f1_m: 0.7559 - precision_m: 0.7669 - recall_m: 0.7593 - val_loss: 0.4927 - val_accuracy: 0.7607 - val_f1_m: 0.7347 - val_precision_m: 0.7942 - val_recall_m: 0.6946\n",
      "Epoch 23/100\n",
      "1000/1000 [==============================] - 2s 2ms/step - loss: 0.4891 - accuracy: 0.7640 - f1_m: 0.7570 - precision_m: 0.7720 - recall_m: 0.7571 - val_loss: 0.4879 - val_accuracy: 0.7620 - val_f1_m: 0.7527 - val_precision_m: 0.7595 - val_recall_m: 0.7574\n",
      "Epoch 24/100\n",
      "1000/1000 [==============================] - 2s 2ms/step - loss: 0.4858 - accuracy: 0.7648 - f1_m: 0.7579 - precision_m: 0.7699 - recall_m: 0.7601 - val_loss: 0.4874 - val_accuracy: 0.7625 - val_f1_m: 0.7474 - val_precision_m: 0.7730 - val_recall_m: 0.7343\n",
      "Epoch 25/100\n",
      "1000/1000 [==============================] - 2s 2ms/step - loss: 0.4872 - accuracy: 0.7648 - f1_m: 0.7583 - precision_m: 0.7678 - recall_m: 0.7615 - val_loss: 0.4877 - val_accuracy: 0.7643 - val_f1_m: 0.7490 - val_precision_m: 0.7754 - val_recall_m: 0.7346\n",
      "Epoch 26/100\n",
      "1000/1000 [==============================] - 2s 2ms/step - loss: 0.4859 - accuracy: 0.7642 - f1_m: 0.7575 - precision_m: 0.7691 - recall_m: 0.7603 - val_loss: 0.4882 - val_accuracy: 0.7629 - val_f1_m: 0.7631 - val_precision_m: 0.7431 - val_recall_m: 0.7962\n",
      "Epoch 27/100\n",
      "1000/1000 [==============================] - 2s 2ms/step - loss: 0.4851 - accuracy: 0.7642 - f1_m: 0.7552 - precision_m: 0.7697 - recall_m: 0.7553 - val_loss: 0.4845 - val_accuracy: 0.7672 - val_f1_m: 0.7615 - val_precision_m: 0.7582 - val_recall_m: 0.7762\n",
      "Epoch 28/100\n",
      "1000/1000 [==============================] - 2s 2ms/step - loss: 0.4831 - accuracy: 0.7686 - f1_m: 0.7594 - precision_m: 0.7746 - recall_m: 0.7578 - val_loss: 0.4862 - val_accuracy: 0.7638 - val_f1_m: 0.7474 - val_precision_m: 0.7778 - val_recall_m: 0.7297\n",
      "Epoch 29/100\n",
      "1000/1000 [==============================] - 2s 2ms/step - loss: 0.4842 - accuracy: 0.7686 - f1_m: 0.7604 - precision_m: 0.7743 - recall_m: 0.7612 - val_loss: 0.4894 - val_accuracy: 0.7603 - val_f1_m: 0.7641 - val_precision_m: 0.7340 - val_recall_m: 0.8093\n",
      "Epoch 30/100\n",
      "1000/1000 [==============================] - 2s 2ms/step - loss: 0.4810 - accuracy: 0.7678 - f1_m: 0.7603 - precision_m: 0.7709 - recall_m: 0.7638 - val_loss: 0.4879 - val_accuracy: 0.7624 - val_f1_m: 0.7600 - val_precision_m: 0.7466 - val_recall_m: 0.7852\n",
      "Epoch 31/100\n",
      "1000/1000 [==============================] - 2s 2ms/step - loss: 0.4811 - accuracy: 0.7665 - f1_m: 0.7596 - precision_m: 0.7716 - recall_m: 0.7624 - val_loss: 0.4843 - val_accuracy: 0.7642 - val_f1_m: 0.7534 - val_precision_m: 0.7661 - val_recall_m: 0.7519\n",
      "Epoch 32/100\n",
      "1000/1000 [==============================] - 2s 2ms/step - loss: 0.4819 - accuracy: 0.7665 - f1_m: 0.7590 - precision_m: 0.7719 - recall_m: 0.7610 - val_loss: 0.4945 - val_accuracy: 0.7607 - val_f1_m: 0.7676 - val_precision_m: 0.7273 - val_recall_m: 0.8251\n",
      "Epoch 33/100\n",
      "1000/1000 [==============================] - 2s 2ms/step - loss: 0.4803 - accuracy: 0.7684 - f1_m: 0.7588 - precision_m: 0.7783 - recall_m: 0.7545 - val_loss: 0.4922 - val_accuracy: 0.7613 - val_f1_m: 0.7348 - val_precision_m: 0.7966 - val_recall_m: 0.6928\n",
      "Epoch 34/100\n",
      "1000/1000 [==============================] - 2s 2ms/step - loss: 0.4796 - accuracy: 0.7686 - f1_m: 0.7603 - precision_m: 0.7754 - recall_m: 0.7603 - val_loss: 0.5004 - val_accuracy: 0.7558 - val_f1_m: 0.7171 - val_precision_m: 0.8136 - val_recall_m: 0.6513\n",
      "Epoch 35/100\n",
      "1000/1000 [==============================] - 2s 2ms/step - loss: 0.4803 - accuracy: 0.7698 - f1_m: 0.7620 - precision_m: 0.7784 - recall_m: 0.7605 - val_loss: 0.4872 - val_accuracy: 0.7670 - val_f1_m: 0.7523 - val_precision_m: 0.7765 - val_recall_m: 0.7400\n",
      "Epoch 36/100\n",
      "1000/1000 [==============================] - 2s 2ms/step - loss: 0.4771 - accuracy: 0.7692 - f1_m: 0.7607 - precision_m: 0.7758 - recall_m: 0.7601 - val_loss: 0.4880 - val_accuracy: 0.7632 - val_f1_m: 0.7392 - val_precision_m: 0.7921 - val_recall_m: 0.7031\n",
      "Epoch 37/100\n",
      "1000/1000 [==============================] - 2s 2ms/step - loss: 0.4790 - accuracy: 0.7665 - f1_m: 0.7585 - precision_m: 0.7751 - recall_m: 0.7557 - val_loss: 0.4866 - val_accuracy: 0.7640 - val_f1_m: 0.7624 - val_precision_m: 0.7459 - val_recall_m: 0.7915\n",
      "Epoch 38/100\n",
      "1000/1000 [==============================] - 2s 2ms/step - loss: 0.4769 - accuracy: 0.7700 - f1_m: 0.7614 - precision_m: 0.7765 - recall_m: 0.7604 - val_loss: 0.4861 - val_accuracy: 0.7663 - val_f1_m: 0.7621 - val_precision_m: 0.7532 - val_recall_m: 0.7823\n",
      "Epoch 39/100\n",
      "1000/1000 [==============================] - 2s 2ms/step - loss: 0.4769 - accuracy: 0.7703 - f1_m: 0.7631 - precision_m: 0.7767 - recall_m: 0.7625 - val_loss: 0.4908 - val_accuracy: 0.7640 - val_f1_m: 0.7668 - val_precision_m: 0.7379 - val_recall_m: 0.8098\n",
      "Epoch 40/100\n",
      "1000/1000 [==============================] - 2s 2ms/step - loss: 0.4765 - accuracy: 0.7702 - f1_m: 0.7621 - precision_m: 0.7760 - recall_m: 0.7617 - val_loss: 0.4902 - val_accuracy: 0.7667 - val_f1_m: 0.7535 - val_precision_m: 0.7732 - val_recall_m: 0.7455\n",
      "Epoch 41/100\n",
      "1000/1000 [==============================] - 2s 2ms/step - loss: 0.4743 - accuracy: 0.7704 - f1_m: 0.7608 - precision_m: 0.7774 - recall_m: 0.7587 - val_loss: 0.4980 - val_accuracy: 0.7570 - val_f1_m: 0.7220 - val_precision_m: 0.8114 - val_recall_m: 0.6609\n",
      "Epoch 42/100\n",
      "1000/1000 [==============================] - 2s 2ms/step - loss: 0.4736 - accuracy: 0.7717 - f1_m: 0.7635 - precision_m: 0.7801 - recall_m: 0.7613 - val_loss: 0.4846 - val_accuracy: 0.7668 - val_f1_m: 0.7499 - val_precision_m: 0.7828 - val_recall_m: 0.7302\n",
      "Epoch 43/100\n",
      "1000/1000 [==============================] - 2s 2ms/step - loss: 0.4748 - accuracy: 0.7716 - f1_m: 0.7632 - precision_m: 0.7796 - recall_m: 0.7599 - val_loss: 0.4853 - val_accuracy: 0.7637 - val_f1_m: 0.7497 - val_precision_m: 0.7718 - val_recall_m: 0.7399\n",
      "Epoch 44/100\n",
      "1000/1000 [==============================] - 2s 2ms/step - loss: 0.4736 - accuracy: 0.7717 - f1_m: 0.7632 - precision_m: 0.7817 - recall_m: 0.7590 - val_loss: 0.4935 - val_accuracy: 0.7619 - val_f1_m: 0.7674 - val_precision_m: 0.7332 - val_recall_m: 0.8181\n",
      "Epoch 45/100\n",
      "1000/1000 [==============================] - 2s 2ms/step - loss: 0.4720 - accuracy: 0.7741 - f1_m: 0.7667 - precision_m: 0.7810 - recall_m: 0.7654 - val_loss: 0.4860 - val_accuracy: 0.7629 - val_f1_m: 0.7502 - val_precision_m: 0.7664 - val_recall_m: 0.7456\n",
      "Epoch 46/100\n",
      "1000/1000 [==============================] - 2s 2ms/step - loss: 0.4744 - accuracy: 0.7726 - f1_m: 0.7631 - precision_m: 0.7813 - recall_m: 0.7592 - val_loss: 0.4848 - val_accuracy: 0.7640 - val_f1_m: 0.7521 - val_precision_m: 0.7665 - val_recall_m: 0.7496\n",
      "Epoch 47/100\n",
      "1000/1000 [==============================] - 2s 2ms/step - loss: 0.4716 - accuracy: 0.7750 - f1_m: 0.7668 - precision_m: 0.7810 - recall_m: 0.7663 - val_loss: 0.4873 - val_accuracy: 0.7650 - val_f1_m: 0.7506 - val_precision_m: 0.7717 - val_recall_m: 0.7415\n",
      "Epoch 48/100\n",
      "1000/1000 [==============================] - 2s 2ms/step - loss: 0.4699 - accuracy: 0.7756 - f1_m: 0.7682 - precision_m: 0.7827 - recall_m: 0.7668 - val_loss: 0.4910 - val_accuracy: 0.7635 - val_f1_m: 0.7399 - val_precision_m: 0.7916 - val_recall_m: 0.7050\n",
      "Epoch 49/100\n",
      "1000/1000 [==============================] - 2s 2ms/step - loss: 0.4721 - accuracy: 0.7741 - f1_m: 0.7646 - precision_m: 0.7826 - recall_m: 0.7597 - val_loss: 0.4875 - val_accuracy: 0.7628 - val_f1_m: 0.7492 - val_precision_m: 0.7694 - val_recall_m: 0.7412\n",
      "Epoch 50/100\n",
      "1000/1000 [==============================] - 2s 2ms/step - loss: 0.4717 - accuracy: 0.7742 - f1_m: 0.7665 - precision_m: 0.7810 - recall_m: 0.7648 - val_loss: 0.4871 - val_accuracy: 0.7643 - val_f1_m: 0.7452 - val_precision_m: 0.7842 - val_recall_m: 0.7203\n",
      "Epoch 51/100\n",
      "1000/1000 [==============================] - 2s 2ms/step - loss: 0.4695 - accuracy: 0.7769 - f1_m: 0.7678 - precision_m: 0.7843 - recall_m: 0.7651 - val_loss: 0.4856 - val_accuracy: 0.7659 - val_f1_m: 0.7533 - val_precision_m: 0.7692 - val_recall_m: 0.7487\n",
      "Epoch 52/100\n",
      "1000/1000 [==============================] - 2s 2ms/step - loss: 0.4669 - accuracy: 0.7768 - f1_m: 0.7679 - precision_m: 0.7853 - recall_m: 0.7636 - val_loss: 0.5013 - val_accuracy: 0.7627 - val_f1_m: 0.7463 - val_precision_m: 0.7765 - val_recall_m: 0.7294\n",
      "Epoch 53/100\n",
      "1000/1000 [==============================] - 2s 2ms/step - loss: 0.4678 - accuracy: 0.7738 - f1_m: 0.7657 - precision_m: 0.7820 - recall_m: 0.7635 - val_loss: 0.4862 - val_accuracy: 0.7649 - val_f1_m: 0.7489 - val_precision_m: 0.7772 - val_recall_m: 0.7329\n",
      "Epoch 54/100\n",
      "1000/1000 [==============================] - 2s 2ms/step - loss: 0.4686 - accuracy: 0.7728 - f1_m: 0.7638 - precision_m: 0.7811 - recall_m: 0.7608 - val_loss: 0.4864 - val_accuracy: 0.7666 - val_f1_m: 0.7521 - val_precision_m: 0.7744 - val_recall_m: 0.7417\n",
      "Epoch 55/100\n",
      "1000/1000 [==============================] - 2s 2ms/step - loss: 0.4672 - accuracy: 0.7751 - f1_m: 0.7671 - precision_m: 0.7803 - recall_m: 0.7675 - val_loss: 0.4872 - val_accuracy: 0.7637 - val_f1_m: 0.7437 - val_precision_m: 0.7842 - val_recall_m: 0.7176\n",
      "Epoch 56/100\n",
      "1000/1000 [==============================] - 2s 2ms/step - loss: 0.4644 - accuracy: 0.7768 - f1_m: 0.7678 - precision_m: 0.7869 - recall_m: 0.7629 - val_loss: 0.4899 - val_accuracy: 0.7663 - val_f1_m: 0.7580 - val_precision_m: 0.7630 - val_recall_m: 0.7646\n",
      "Epoch 57/100\n",
      "1000/1000 [==============================] - 2s 2ms/step - loss: 0.4639 - accuracy: 0.7752 - f1_m: 0.7667 - precision_m: 0.7836 - recall_m: 0.7634 - val_loss: 0.4893 - val_accuracy: 0.7644 - val_f1_m: 0.7591 - val_precision_m: 0.7535 - val_recall_m: 0.7764\n",
      "Epoch 58/100\n",
      "1000/1000 [==============================] - 2s 2ms/step - loss: 0.4617 - accuracy: 0.7799 - f1_m: 0.7707 - precision_m: 0.7897 - recall_m: 0.7643 - val_loss: 0.5042 - val_accuracy: 0.7640 - val_f1_m: 0.7523 - val_precision_m: 0.7644 - val_recall_m: 0.7518\n",
      "Epoch 59/100\n",
      "1000/1000 [==============================] - 2s 2ms/step - loss: 0.4643 - accuracy: 0.7755 - f1_m: 0.7668 - precision_m: 0.7859 - recall_m: 0.7632 - val_loss: 0.4887 - val_accuracy: 0.7667 - val_f1_m: 0.7587 - val_precision_m: 0.7619 - val_recall_m: 0.7669\n",
      "Epoch 60/100\n",
      "1000/1000 [==============================] - 2s 2ms/step - loss: 0.4635 - accuracy: 0.7758 - f1_m: 0.7661 - precision_m: 0.7850 - recall_m: 0.7613 - val_loss: 0.4911 - val_accuracy: 0.7659 - val_f1_m: 0.7486 - val_precision_m: 0.7822 - val_recall_m: 0.7278\n",
      "Epoch 61/100\n",
      "1000/1000 [==============================] - 2s 2ms/step - loss: 0.4631 - accuracy: 0.7774 - f1_m: 0.7685 - precision_m: 0.7893 - recall_m: 0.7615 - val_loss: 0.5005 - val_accuracy: 0.7617 - val_f1_m: 0.7701 - val_precision_m: 0.7266 - val_recall_m: 0.8323\n",
      "Epoch 62/100\n",
      "1000/1000 [==============================] - 2s 2ms/step - loss: 0.4634 - accuracy: 0.7776 - f1_m: 0.7689 - precision_m: 0.7878 - recall_m: 0.7633 - val_loss: 0.4883 - val_accuracy: 0.7675 - val_f1_m: 0.7487 - val_precision_m: 0.7864 - val_recall_m: 0.7250\n",
      "Epoch 63/100\n",
      "1000/1000 [==============================] - 2s 2ms/step - loss: 0.4628 - accuracy: 0.7797 - f1_m: 0.7705 - precision_m: 0.7892 - recall_m: 0.7656 - val_loss: 0.4956 - val_accuracy: 0.7642 - val_f1_m: 0.7378 - val_precision_m: 0.7979 - val_recall_m: 0.6965\n",
      "Epoch 64/100\n",
      "1000/1000 [==============================] - 2s 2ms/step - loss: 0.4615 - accuracy: 0.7783 - f1_m: 0.7696 - precision_m: 0.7891 - recall_m: 0.7632 - val_loss: 0.4906 - val_accuracy: 0.7625 - val_f1_m: 0.7498 - val_precision_m: 0.7671 - val_recall_m: 0.7447\n",
      "Epoch 65/100\n",
      "1000/1000 [==============================] - 2s 2ms/step - loss: 0.4608 - accuracy: 0.7792 - f1_m: 0.7698 - precision_m: 0.7913 - recall_m: 0.7630 - val_loss: 0.4920 - val_accuracy: 0.7633 - val_f1_m: 0.7362 - val_precision_m: 0.7995 - val_recall_m: 0.6918\n",
      "Epoch 66/100\n",
      "1000/1000 [==============================] - 2s 2ms/step - loss: 0.4601 - accuracy: 0.7791 - f1_m: 0.7695 - precision_m: 0.7907 - recall_m: 0.7627 - val_loss: 0.4951 - val_accuracy: 0.7599 - val_f1_m: 0.7620 - val_precision_m: 0.7342 - val_recall_m: 0.8038\n",
      "Epoch 67/100\n",
      "1000/1000 [==============================] - 2s 2ms/step - loss: 0.4600 - accuracy: 0.7793 - f1_m: 0.7697 - precision_m: 0.7891 - recall_m: 0.7635 - val_loss: 0.4929 - val_accuracy: 0.7620 - val_f1_m: 0.7585 - val_precision_m: 0.7477 - val_recall_m: 0.7810\n",
      "Epoch 68/100\n",
      "1000/1000 [==============================] - 2s 2ms/step - loss: 0.4603 - accuracy: 0.7789 - f1_m: 0.7687 - precision_m: 0.7938 - recall_m: 0.7590 - val_loss: 0.4949 - val_accuracy: 0.7608 - val_f1_m: 0.7572 - val_precision_m: 0.7460 - val_recall_m: 0.7811\n",
      "Epoch 69/100\n",
      "1000/1000 [==============================] - 2s 2ms/step - loss: 0.4576 - accuracy: 0.7813 - f1_m: 0.7718 - precision_m: 0.7939 - recall_m: 0.7632 - val_loss: 0.4897 - val_accuracy: 0.7646 - val_f1_m: 0.7496 - val_precision_m: 0.7740 - val_recall_m: 0.7375\n",
      "Epoch 70/100\n",
      "1000/1000 [==============================] - 1s 1ms/step - loss: 0.4593 - accuracy: 0.7811 - f1_m: 0.7712 - precision_m: 0.7915 - recall_m: 0.7652 - val_loss: 0.4895 - val_accuracy: 0.7634 - val_f1_m: 0.7567 - val_precision_m: 0.7556 - val_recall_m: 0.7689\n",
      "Epoch 71/100\n",
      "1000/1000 [==============================] - 2s 2ms/step - loss: 0.4571 - accuracy: 0.7797 - f1_m: 0.7705 - precision_m: 0.7892 - recall_m: 0.7665 - val_loss: 0.4905 - val_accuracy: 0.7638 - val_f1_m: 0.7495 - val_precision_m: 0.7731 - val_recall_m: 0.7378\n",
      "Epoch 72/100\n",
      "1000/1000 [==============================] - 2s 2ms/step - loss: 0.4547 - accuracy: 0.7836 - f1_m: 0.7730 - precision_m: 0.7954 - recall_m: 0.7643 - val_loss: 0.4958 - val_accuracy: 0.7613 - val_f1_m: 0.7603 - val_precision_m: 0.7430 - val_recall_m: 0.7896\n",
      "Epoch 73/100\n",
      "1000/1000 [==============================] - 2s 2ms/step - loss: 0.4553 - accuracy: 0.7813 - f1_m: 0.7711 - precision_m: 0.7972 - recall_m: 0.7594 - val_loss: 0.4933 - val_accuracy: 0.7656 - val_f1_m: 0.7606 - val_precision_m: 0.7546 - val_recall_m: 0.7780\n",
      "Epoch 74/100\n",
      "1000/1000 [==============================] - 2s 2ms/step - loss: 0.4553 - accuracy: 0.7811 - f1_m: 0.7708 - precision_m: 0.7924 - recall_m: 0.7627 - val_loss: 0.4917 - val_accuracy: 0.7654 - val_f1_m: 0.7578 - val_precision_m: 0.7600 - val_recall_m: 0.7661\n",
      "Epoch 75/100\n",
      "1000/1000 [==============================] - 1s 1ms/step - loss: 0.4559 - accuracy: 0.7828 - f1_m: 0.7723 - precision_m: 0.7957 - recall_m: 0.7625 - val_loss: 0.4927 - val_accuracy: 0.7651 - val_f1_m: 0.7600 - val_precision_m: 0.7544 - val_recall_m: 0.7775\n",
      "Epoch 76/100\n",
      "1000/1000 [==============================] - 2s 2ms/step - loss: 0.4541 - accuracy: 0.7828 - f1_m: 0.7734 - precision_m: 0.7959 - recall_m: 0.7647 - val_loss: 0.4984 - val_accuracy: 0.7600 - val_f1_m: 0.7641 - val_precision_m: 0.7337 - val_recall_m: 0.8094\n",
      "Epoch 77/100\n",
      "1000/1000 [==============================] - 2s 2ms/step - loss: 0.4524 - accuracy: 0.7844 - f1_m: 0.7752 - precision_m: 0.7966 - recall_m: 0.7671 - val_loss: 0.4923 - val_accuracy: 0.7639 - val_f1_m: 0.7557 - val_precision_m: 0.7578 - val_recall_m: 0.7649\n",
      "Epoch 78/100\n",
      "1000/1000 [==============================] - 1s 1ms/step - loss: 0.4518 - accuracy: 0.7823 - f1_m: 0.7724 - precision_m: 0.7962 - recall_m: 0.7618 - val_loss: 0.4937 - val_accuracy: 0.7626 - val_f1_m: 0.7636 - val_precision_m: 0.7393 - val_recall_m: 0.8007\n",
      "Epoch 79/100\n",
      "1000/1000 [==============================] - 2s 2ms/step - loss: 0.4524 - accuracy: 0.7813 - f1_m: 0.7719 - precision_m: 0.7934 - recall_m: 0.7641 - val_loss: 0.4957 - val_accuracy: 0.7687 - val_f1_m: 0.7572 - val_precision_m: 0.7721 - val_recall_m: 0.7532\n",
      "Epoch 80/100\n",
      "1000/1000 [==============================] - 1s 1ms/step - loss: 0.4536 - accuracy: 0.7805 - f1_m: 0.7703 - precision_m: 0.7924 - recall_m: 0.7611 - val_loss: 0.4958 - val_accuracy: 0.7647 - val_f1_m: 0.7415 - val_precision_m: 0.7915 - val_recall_m: 0.7079\n",
      "Epoch 81/100\n",
      "1000/1000 [==============================] - 2s 2ms/step - loss: 0.4496 - accuracy: 0.7832 - f1_m: 0.7743 - precision_m: 0.7957 - recall_m: 0.7662 - val_loss: 0.4946 - val_accuracy: 0.7642 - val_f1_m: 0.7467 - val_precision_m: 0.7767 - val_recall_m: 0.7298\n",
      "Epoch 82/100\n",
      "1000/1000 [==============================] - 2s 2ms/step - loss: 0.4528 - accuracy: 0.7828 - f1_m: 0.7724 - precision_m: 0.8005 - recall_m: 0.7591 - val_loss: 0.4968 - val_accuracy: 0.7626 - val_f1_m: 0.7576 - val_precision_m: 0.7501 - val_recall_m: 0.7772\n",
      "Epoch 83/100\n",
      "1000/1000 [==============================] - 2s 2ms/step - loss: 0.4516 - accuracy: 0.7856 - f1_m: 0.7757 - precision_m: 0.7946 - recall_m: 0.7695 - val_loss: 0.4976 - val_accuracy: 0.7641 - val_f1_m: 0.7597 - val_precision_m: 0.7514 - val_recall_m: 0.7795\n",
      "Epoch 84/100\n",
      "1000/1000 [==============================] - 2s 2ms/step - loss: 0.4453 - accuracy: 0.7862 - f1_m: 0.7756 - precision_m: 0.8026 - recall_m: 0.7619 - val_loss: 0.4906 - val_accuracy: 0.7660 - val_f1_m: 0.7515 - val_precision_m: 0.7740 - val_recall_m: 0.7402\n",
      "Epoch 85/100\n",
      "1000/1000 [==============================] - 2s 2ms/step - loss: 0.4495 - accuracy: 0.7839 - f1_m: 0.7736 - precision_m: 0.7971 - recall_m: 0.7625 - val_loss: 0.4954 - val_accuracy: 0.7661 - val_f1_m: 0.7591 - val_precision_m: 0.7574 - val_recall_m: 0.7722\n",
      "Epoch 86/100\n",
      "1000/1000 [==============================] - 2s 2ms/step - loss: 0.4494 - accuracy: 0.7858 - f1_m: 0.7763 - precision_m: 0.8000 - recall_m: 0.7657 - val_loss: 0.4943 - val_accuracy: 0.7638 - val_f1_m: 0.7560 - val_precision_m: 0.7570 - val_recall_m: 0.7666\n",
      "Epoch 87/100\n",
      "1000/1000 [==============================] - 2s 2ms/step - loss: 0.4506 - accuracy: 0.7838 - f1_m: 0.7733 - precision_m: 0.7962 - recall_m: 0.7641 - val_loss: 0.5049 - val_accuracy: 0.7652 - val_f1_m: 0.7439 - val_precision_m: 0.7876 - val_recall_m: 0.7152\n",
      "Epoch 88/100\n",
      "1000/1000 [==============================] - 1s 1ms/step - loss: 0.4474 - accuracy: 0.7864 - f1_m: 0.7762 - precision_m: 0.7995 - recall_m: 0.7658 - val_loss: 0.4998 - val_accuracy: 0.7631 - val_f1_m: 0.7588 - val_precision_m: 0.7504 - val_recall_m: 0.7786\n",
      "Epoch 89/100\n",
      "1000/1000 [==============================] - 2s 2ms/step - loss: 0.4497 - accuracy: 0.7857 - f1_m: 0.7749 - precision_m: 0.8009 - recall_m: 0.7630 - val_loss: 0.4980 - val_accuracy: 0.7646 - val_f1_m: 0.7541 - val_precision_m: 0.7661 - val_recall_m: 0.7531\n",
      "Epoch 90/100\n",
      "1000/1000 [==============================] - 2s 2ms/step - loss: 0.4481 - accuracy: 0.7859 - f1_m: 0.7766 - precision_m: 0.8011 - recall_m: 0.7658 - val_loss: 0.4959 - val_accuracy: 0.7636 - val_f1_m: 0.7488 - val_precision_m: 0.7727 - val_recall_m: 0.7372\n",
      "Epoch 91/100\n",
      "1000/1000 [==============================] - 2s 2ms/step - loss: 0.4446 - accuracy: 0.7856 - f1_m: 0.7745 - precision_m: 0.7997 - recall_m: 0.7626 - val_loss: 0.4950 - val_accuracy: 0.7632 - val_f1_m: 0.7572 - val_precision_m: 0.7555 - val_recall_m: 0.7711\n",
      "Epoch 92/100\n",
      "1000/1000 [==============================] - 1s 1ms/step - loss: 0.4467 - accuracy: 0.7879 - f1_m: 0.7781 - precision_m: 0.8010 - recall_m: 0.7686 - val_loss: 0.4955 - val_accuracy: 0.7642 - val_f1_m: 0.7461 - val_precision_m: 0.7776 - val_recall_m: 0.7282\n",
      "Epoch 93/100\n",
      "1000/1000 [==============================] - 2s 2ms/step - loss: 0.4447 - accuracy: 0.7864 - f1_m: 0.7766 - precision_m: 0.7987 - recall_m: 0.7671 - val_loss: 0.4991 - val_accuracy: 0.7664 - val_f1_m: 0.7607 - val_precision_m: 0.7556 - val_recall_m: 0.7770\n",
      "Epoch 94/100\n",
      "1000/1000 [==============================] - 1s 1ms/step - loss: 0.4441 - accuracy: 0.7898 - f1_m: 0.7783 - precision_m: 0.8040 - recall_m: 0.7660 - val_loss: 0.5097 - val_accuracy: 0.7586 - val_f1_m: 0.7630 - val_precision_m: 0.7298 - val_recall_m: 0.8113\n",
      "Epoch 95/100\n",
      "1000/1000 [==============================] - 2s 2ms/step - loss: 0.4431 - accuracy: 0.7874 - f1_m: 0.7777 - precision_m: 0.8000 - recall_m: 0.7695 - val_loss: 0.5008 - val_accuracy: 0.7633 - val_f1_m: 0.7515 - val_precision_m: 0.7674 - val_recall_m: 0.7476\n",
      "Epoch 96/100\n",
      "1000/1000 [==============================] - 2s 2ms/step - loss: 0.4443 - accuracy: 0.7860 - f1_m: 0.7742 - precision_m: 0.8012 - recall_m: 0.7604 - val_loss: 0.5006 - val_accuracy: 0.7642 - val_f1_m: 0.7522 - val_precision_m: 0.7677 - val_recall_m: 0.7485\n",
      "Epoch 97/100\n",
      "1000/1000 [==============================] - 2s 2ms/step - loss: 0.4440 - accuracy: 0.7882 - f1_m: 0.7772 - precision_m: 0.8014 - recall_m: 0.7659 - val_loss: 0.4975 - val_accuracy: 0.7652 - val_f1_m: 0.7573 - val_precision_m: 0.7593 - val_recall_m: 0.7664\n",
      "Epoch 98/100\n",
      "1000/1000 [==============================] - 1s 1ms/step - loss: 0.4429 - accuracy: 0.7895 - f1_m: 0.7790 - precision_m: 0.8047 - recall_m: 0.7674 - val_loss: 0.4991 - val_accuracy: 0.7663 - val_f1_m: 0.7544 - val_precision_m: 0.7688 - val_recall_m: 0.7511\n",
      "Epoch 99/100\n",
      "1000/1000 [==============================] - 1s 1ms/step - loss: 0.4411 - accuracy: 0.7898 - f1_m: 0.7800 - precision_m: 0.8044 - recall_m: 0.7699 - val_loss: 0.5013 - val_accuracy: 0.7620 - val_f1_m: 0.7595 - val_precision_m: 0.7453 - val_recall_m: 0.7868\n",
      "Epoch 100/100\n",
      "1000/1000 [==============================] - 2s 2ms/step - loss: 0.4389 - accuracy: 0.7910 - f1_m: 0.7805 - precision_m: 0.8074 - recall_m: 0.7668 - val_loss: 0.5002 - val_accuracy: 0.7664 - val_f1_m: 0.7579 - val_precision_m: 0.7600 - val_recall_m: 0.7663\n",
      "Training took 157.52 seconds.\n"
     ]
    }
   ],
   "source": [
    "#Fit\n",
    "\n",
    "import time\n",
    "\n",
    "start_time = time.time()\n",
    "history = top_model.fit(X_train_features, y_train_labels,\n",
    "                    epochs=100,\n",
    "                    batch_size=32\n",
    "                    ,validation_data=(X_val_features, y_val_labels)\n",
    "                    ) \n",
    "\n",
    "elapsed_time = time.time() - start_time\n",
    "\n",
    "print(f\"Training took {elapsed_time:.2f} seconds.\")\n",
    "\n",
    "# Save the training history to a CSV file\n",
    "histdf = pd.DataFrame(history.history)\n",
    "histdf.to_csv('sc_results_temp0306/distilbert_model_training_history.csv', index=False)"
   ]
  },
  {
   "cell_type": "code",
   "execution_count": 30,
   "metadata": {},
   "outputs": [],
   "source": [
    "# Save the Keras model\n",
    "top_model.save('sc_results_temp0306/distilbert_model_training_history2bin.keras')"
   ]
  },
  {
   "cell_type": "code",
   "execution_count": 31,
   "metadata": {},
   "outputs": [
    {
     "data": {
      "image/png": "[encoded data removed]",
      "text/plain": [
       "<Figure size 640x480 with 1 Axes>"
      ]
     },
     "metadata": {},
     "output_type": "display_data"
    },
    {
     "data": {
      "image/png": "[encoded data removed]",
      "text/plain": [
       "<Figure size 640x480 with 1 Axes>"
      ]
     },
     "metadata": {},
     "output_type": "display_data"
    }
   ],
   "source": [
    "plothistory(history, 'Training', 'Validation')"
   ]
  },
  {
   "cell_type": "code",
   "execution_count": 32,
   "metadata": {},
   "outputs": [
    {
     "name": "stdout",
     "output_type": "stream",
     "text": [
      "INFO:tensorflow:Assets written to: models/topmodel_full\\assets\n"
     ]
    }
   ],
   "source": [
    "top_model_weights_path = 'models/db_bin.h5'\n",
    "top_model.save_weights(top_model_weights_path)\n",
    "\n",
    "top_model.save('models/topmodel_full')"
   ]
  },
  {
   "cell_type": "code",
   "execution_count": null,
   "metadata": {},
   "outputs": [],
   "source": []
  },
  {
   "cell_type": "code",
   "execution_count": null,
   "metadata": {},
   "outputs": [],
   "source": []
  },
  {
   "cell_type": "code",
   "execution_count": null,
   "metadata": {},
   "outputs": [],
   "source": []
  },
  {
   "cell_type": "code",
   "execution_count": null,
   "metadata": {},
   "outputs": [],
   "source": []
  },
  {
   "cell_type": "code",
   "execution_count": 33,
   "metadata": {},
   "outputs": [
    {
     "name": "stdout",
     "output_type": "stream",
     "text": [
      "You must install pydot (`pip install pydot`) and install graphviz (see instructions at https://graphviz.gitlab.io/download/) for plot_model to work.\n"
     ]
    }
   ],
   "source": [
    "import keras\n",
    "keras.utils.plot_model(top_model, to_file='distilbert_model_bin2.png', show_shapes=True, show_layer_names=True)"
   ]
  },
  {
   "cell_type": "markdown",
   "metadata": {},
   "source": [
    "<a href=\"#top\">Back to Top</a>\n",
    "<a id=\"P6\"></a>\n",
    "## 6.0 Fine-Tuning the Model \n",
    "#### Perform fine tuning upon the model by training some layers within the foundational model. Verify that the model converges. \n",
    "\n",
    "One approach to performing this can be found in: https://classic.d2l.ai/chapter_natural-language-processing-applications/finetuning-bert.html.\n"
   ]
  },
  {
   "cell_type": "code",
   "execution_count": 113,
   "metadata": {},
   "outputs": [],
   "source": [
    "#train_tokens = tokenizer(X_train, truncation=True, padding=True)\n"
   ]
  },
  {
   "cell_type": "code",
   "execution_count": 114,
   "metadata": {},
   "outputs": [],
   "source": [
    "#val_tokens = tokenizer(X_val, truncation=True, padding=True)\n"
   ]
  },
  {
   "cell_type": "code",
   "execution_count": 115,
   "metadata": {},
   "outputs": [],
   "source": [
    "# train_dataset = tf.data.Dataset.from_tensor_slices((\n",
    "#      dict(train_tokens),\n",
    "#      y_train\n",
    "# ))\n",
    "# val_dataset = tf.data.Dataset.from_tensor_slices((\n",
    "#      dict(val_tokens),\n",
    "#      y_val\n",
    "# ))"
   ]
  },
  {
   "cell_type": "code",
   "execution_count": 116,
   "metadata": {},
   "outputs": [],
   "source": [
    "#https://towardsdatascience.com/hugging-face-transformers-fine-tuning-distilbert-for-binary-classification-tasks-490f1d192379\n",
    "# Define the maximum number of words to tokenize (DistilBERT can tokenize up to 512)\n",
    "MAX_LENGTH = 100\n",
    "\n",
    "\n",
    "# Define function to encode text data in batches\n",
    "def batch_encode(tokenizer, texts, batch_size=256, max_length=MAX_LENGTH):\n",
    "    \"\"\"\"\"\"\"\"\"\n",
    "    A function that encodes a batch of texts and returns the texts'\n",
    "    corresponding encodings and attention masks that are ready to be fed \n",
    "    into a pre-trained transformer model.\n",
    "    \n",
    "    Input:\n",
    "        - tokenizer:   Tokenizer object from the PreTrainedTokenizer Class\n",
    "        - texts:       List of strings where each string represents a text\n",
    "        - batch_size:  Integer controlling number of texts in a batch\n",
    "        - max_length:  Integer controlling max number of words to tokenize in a given text\n",
    "    Output:\n",
    "        - input_ids:       sequence of texts encoded as a tf.Tensor object\n",
    "        - attention_mask:  the texts' attention mask encoded as a tf.Tensor object\n",
    "    \"\"\"\"\"\"\"\"\"\n",
    "    \n",
    "    input_ids = []\n",
    "    attention_mask = []\n",
    "    \n",
    "    for i in range(0, len(texts), batch_size):\n",
    "        batch = texts[i:i+batch_size]\n",
    "        inputs = tokenizer.batch_encode_plus(batch,\n",
    "                                             max_length=max_length,\n",
    "                                             padding='longest', #implements dynamic padding\n",
    "                                             truncation=True,\n",
    "                                             return_attention_mask=True,\n",
    "                                             return_token_type_ids=False\n",
    "                                             )\n",
    "        input_ids.extend(inputs['input_ids'])\n",
    "        attention_mask.extend(inputs['attention_mask'])\n",
    "    \n",
    "    \n",
    "    return tf.convert_to_tensor(input_ids), tf.convert_to_tensor(attention_mask)\n",
    "    \n",
    "    \n",
    "# Encode X_train\n",
    "X_train_ids, X_train_attention = batch_encode(tokenizer, X_train)\n",
    "\n",
    "# Encode X_valid\n",
    "X_valid_ids, X_valid_attention = batch_encode(tokenizer, X_val)\n",
    "\n",
    "# Encode X_test\n",
    "X_test_ids, X_test_attention = batch_encode(tokenizer, X_test)"
   ]
  },
  {
   "cell_type": "code",
   "execution_count": 117,
   "metadata": {},
   "outputs": [],
   "source": [
    "#Load the saved files to be added later\n",
    "from tensorflow.keras.models import Model\n",
    "# Input layers\n",
    "input_ids = tf.keras.layers.Input(shape=(max_length,), dtype=tf.int32, name='input_ids')\n",
    "attention_masks = tf.keras.layers.Input(shape=(max_length,), dtype=tf.int32, name='attention_mask')\n",
    "\n",
    "# BERT layer\n",
    "#bert_output = distil_bert(input_ids, attention_mask=attention_masks)\n",
    "last_hidden_state = distil_bert(input_ids, attention_mask=attention_masks)[0]\n",
    "cls_token = last_hidden_state[:, 0, :]\n",
    "# BERT layer\n",
    "#bert_last_hidden_state = bert_output.last_hidden_state\n",
    "\n",
    "# Custom layers on top of BERT output...\n",
    "#fine_output = top_model(sequence_output)\n",
    "x= Dense(100, activation='relu')(cls_token)\n",
    "x = Dropout(0.5)(x)\n",
    "fine_output=Dense(1, activation='sigmoid')(x)\n",
    "#fine_output=Dense(1, activation='sigmoid')(cls_token)  # 2 rating classes\n",
    "\n",
    "fine_model = Model(inputs=[input_ids, attention_masks], outputs=fine_output)"
   ]
  },
  {
   "cell_type": "code",
   "execution_count": 118,
   "metadata": {},
   "outputs": [
    {
     "name": "stdout",
     "output_type": "stream",
     "text": [
      "False\n",
      "True\n",
      "Model: \"model_11\"\n",
      "__________________________________________________________________________________________________\n",
      " Layer (type)                   Output Shape         Param #     Connected to                     \n",
      "==================================================================================================\n",
      " input_ids (InputLayer)         [(None, 100)]        0           []                               \n",
      "                                                                                                  \n",
      " attention_mask (InputLayer)    [(None, 100)]        0           []                               \n",
      "                                                                                                  \n",
      " tf_distil_bert_model (TFDistil  TFBaseModelOutput(l  66362880   ['input_ids[0][0]',              \n",
      " BertModel)                     ast_hidden_state=(N               'attention_mask[0][0]']         \n",
      "                                one, 100, 768),                                                   \n",
      "                                 hidden_states=None                                               \n",
      "                                , attentions=None)                                                \n",
      "                                                                                                  \n",
      " tf.__operators__.getitem_5 (Sl  (None, 768)         0           ['tf_distil_bert_model[14][0]']  \n",
      " icingOpLambda)                                                                                   \n",
      "                                                                                                  \n",
      " dense_17 (Dense)               (None, 100)          76900       ['tf.__operators__.getitem_5[0][0\n",
      "                                                                 ]']                              \n",
      "                                                                                                  \n",
      " dropout_26 (Dropout)           (None, 100)          0           ['dense_17[0][0]']               \n",
      "                                                                                                  \n",
      " dense_18 (Dense)               (None, 1)            101         ['dropout_26[0][0]']             \n",
      "                                                                                                  \n",
      "==================================================================================================\n",
      "Total params: 66,439,881\n",
      "Trainable params: 77,001\n",
      "Non-trainable params: 66,362,880\n",
      "__________________________________________________________________________________________________\n"
     ]
    }
   ],
   "source": [
    "# Freeze all layers in the DistilBERT model\n",
    "for layer in distil_bert.layers:\n",
    "    layer.trainable = False\n",
    "\n",
    "print(distil_bert.distilbert.transformer.layer[-1].trainable)\n",
    "# Unfreeze the last transformer layer\n",
    "distil_bert.distilbert.transformer.layer[-1].trainable = True\n",
    "\n",
    "print(distil_bert.distilbert.transformer.layer[-1].trainable)\n",
    "optimizer = Adam(lr=0.01)\n",
    "fine_model.compile(loss='binary_crossentropy', optimizer =optimizer,\n",
    "              #optimizer=tf.keras.optimizers.SGD(learning_rate=1e-4, momentum=0.9),\n",
    "               metrics=['accuracy',f1_m,precision_m, recall_m])\n",
    "\n",
    "\n",
    "fine_model.summary()"
   ]
  },
  {
   "cell_type": "code",
   "execution_count": 119,
   "metadata": {},
   "outputs": [
    {
     "name": "stdout",
     "output_type": "stream",
     "text": [
      "Fine tuning combined model...\n",
      "Epoch 1/30\n"
     ]
    },
    {
     "name": "stdout",
     "output_type": "stream",
     "text": [
      " 109/1000 [==>...........................] - ETA: 28:20 - loss: 0.6810 - accuracy: 0.5897 - f1_m: 0.5719 - precision_m: 0.5775 - recall_m: 0.6145"
     ]
    }
   ],
   "source": [
    "# X_train_data = np.load('sc_results_temp0306/bottleneck_train_features.npy')\n",
    "# X_train_features = np.array(X_train_data)\n",
    "# X_val_data = np.load('sc_results_temp0306/bottleneck_val_features.npy')\n",
    "# X_val_features = np.array(X_val_data)\n",
    "epochs = 30\n",
    "\n",
    "checkpoint_filepath = 'models/checkpoint'\n",
    "model_checkpoint_callback = tf.keras.callbacks.ModelCheckpoint(\n",
    "    filepath=checkpoint_filepath,\n",
    "    save_weights_only=True,\n",
    "    monitor='val_accuracy',\n",
    "    mode='max',\n",
    "    save_best_only=True)\n",
    "\n",
    "print('Fine tuning combined model...')\n",
    "history = fine_model.fit(       \n",
    "                x=[X_train_ids, X_train_attention],\n",
    "                y= y_train_labels,\n",
    "                epochs=epochs,\n",
    "                batch_size=32,\n",
    "                callbacks=[model_checkpoint_callback],                \n",
    "                validation_data = ([X_valid_ids, X_valid_attention], y_val_labels),\n",
    "                verbose=1)\n",
    "\n",
    "# history = fine_model.fit(train_dataset,\n",
    "#               epochs=epochs,\n",
    "#               batch_size=batch_size,\n",
    "#               callbacks=[model_checkpoint_callback],\n",
    "#               validation_data=val_dataset,\n",
    "#               verbose=1)"
   ]
  },
  {
   "cell_type": "markdown",
   "metadata": {},
   "source": [
    "<a href=\"#top\">Back to Top</a>\n",
    "<a id=\"P7\"></a>\n",
    "## 7.0 Results: Comparing All Investigated Models \n",
    "#### Report the results of all models using the evaluation procedure that you argued for at the beginning of the lab. Compare the convergence of the models and the running time. Results should be reported with proper statistical comparisons and proper visualizations.\n",
    "xx"
   ]
  },
  {
   "cell_type": "code",
   "execution_count": null,
   "metadata": {},
   "outputs": [],
   "source": []
  }
 ],
 "metadata": {
  "kernelspec": {
   "display_name": "Python 3 (ipykernel)",
   "language": "python",
   "name": "python3"
  },
  "language_info": {
   "codemirror_mode": {
    "name": "ipython",
    "version": 3
   },
   "file_extension": ".py",
   "mimetype": "text/x-python",
   "name": "python",
   "nbconvert_exporter": "python",
   "pygments_lexer": "ipython3",
   "version": "3.11.8"
  }
 },
 "nbformat": 4,
 "nbformat_minor": 2
}
