{
 "cells": [
  {
   "cell_type": "markdown",
   "metadata": {},
   "source": [
    "# Lab 2: Transfer Learning & Transformers: Comparison of Transformer Architecture to Other Neural Networks in Evaluation of Movie Reviews and Ratings\n",
    "\n",
    "Group Members:\n",
    "\n",
    "- Parker Brown\n",
    "\n",
    "- Suma Chackola\n",
    "\n",
    "- Chris Peters\n",
    "\n",
    "- Oliver Raney\n",
    "\n",
    "\n",
    "\n",
    "**The execution of this lab was performed collaboratively across 4 computers. Therefore, while the individual cells are not all shown with the direct execution results, the code presented in those cells was utilized to produce the results in this notebook.**\n"
   ]
  },
  {
   "cell_type": "markdown",
   "metadata": {},
   "source": [
    "<a id=\"top\"></a>\n",
    "## Contents\n",
    "* <a href=\"#P1\">1.0 Introduction & Dataset Overview</a>\n",
    "* <a href=\"#P2\">2.0 Transfer Learning Foundational Model </a>\n",
    "* <a href=\"#P3\">3.0 Splitting the Data </a>\n",
    "* <a href=\"#P4\">4.0 Training a Model from Scratch </a>\n",
    "* <a href=\"#P5\">5.0 Training a Model by Transfer Learning from Foundational Model </a>\n",
    "* <a href=\"#P6\">6.0 Fine-Tuning the Model </a>\n",
    "* <a href=\"#P6\">7.0 Results: Comparing All Investigated Models </a>\n",
    "________________________________________________________________________________________________________\n"
   ]
  },
  {
   "cell_type": "markdown",
   "metadata": {},
   "source": [
    "<a href=\"#top\">Back to Top</a>\n",
    "<a id=\"P1\"></a>\n",
    "## 1.0 Introduction & Dataset Overview\n",
    "#### Give an overview of the dataset you have chosen to use. What is the classification task. Is this multi-task? Explain. What is the feature data? Who collected the data? Why? When? Is the data multi-modal? What evaluation criteria will you be using and why? \n",
    "\n",
    "In this lab, we are performing classification on Movie Review text to associate the text of the review with an overall \"positivity\" rating of Positive, Neutral, or Negative. By reviewing the text as a whole instead of sets of words or phrases, we are evaluating a sequential text to classify it into a distinct category.  \n",
    "\n",
    "### Dataset Overview\n",
    "The dataset we are using for this analysis comes from an IEEE Open Access repository at the following source: \n",
    "- Data Source: https://ieee-dataport.org/open-access/imdb-movie-reviews-dataset\n",
    "\n",
    "The dataset compiles movie reviews from the Internet Movie Database (IMDb),  https://www.imdb.com/, and contains 1 million reviews from 1150 movies spread across 17 genres. In this dataset is other metadata such as the IMDb rating and movie rating. The data was compiled by Pal, Barigidad, and Mustafi and utilized and presented as a paper at the 2020 International Conference on Computing, Communication, and Security (ICCCS). In their analysis, they used the content of the movie reviews to classify the genre of the movie through word tokenization and a keyword list specific to the genre, and from their results they created a \"Movie Recommender\" based on a genre input from a user.\n",
    "\n",
    "This is not a multi-modal dataset because it only contains textual data. We did not choose a multi-modal dataset, although there are other IMDb datasets that do contain multi-modal data, such as this one: https://arxiv.org/abs/1702.01992, which contains images of the poster of the movie, in addition to the movie genre, rating, and other text. \n",
    "\n",
    "### Classification Task\n",
    "We utilized this dataset in Lab 1 for this course, where we performed sentiment analysis on the movie reviews and compared that sentiment to the movie positivity rating. For this lab, we differentiate that approach by using neural networks with a word embedding vectorizer to train a model. The training will analyze the sequential text in the review and use the associated rating to learn how the overall sequence relates to the positivity with respect to the vectorization of the sequence. Once that association is learned, the model evaluates new review sequences to classify those to an appropriate rating using the same vectorization analysis approach. \n",
    "\n",
    "In the dataset, the reviews are rated on a scale of 1-10. With our classifier, we will expect to get a similar scale, so that it is a multi-class classification task. We have considered whether to segment the results into generalized score categories of: Score < 3.5 -> \"Negative\" , - 3.5 < Score < 6.5 -> \"Neutral\" , - 6.5 < Score -> \"Positive\"\n",
    "However, we don't believe there is much utility in generalizing the results because it could mask the underlying performance of the models. \n",
    "\n",
    "### Evaluation Criteria\n",
    "We are considering a few aspects to evaluate throughout this analysis. First, we will evaluate the model as it is fitting by reviewing the performance of the accuracy and the loss on the training and test datasets so we can ensure the model is both converging and not overfitting. Further, we will consider the convergence time on each model to evaluate the model efficiency (with some allowance/forgiveness to the performance differences of the processors on each of our computers, since it is not guaranteed that the same computer is performing all of the evaluations).\n",
    "\n",
    "Once each model completes training, we will then utilize the F-score statistical testing as a metric to compare the performance of the models. F-score is an analysis of variance approach (ANOVA) that determines the statistical difference of two or more populations in hypothesis testing by comparing their variances. To do this, we divide the population sample variance between the groups by the variance within the groups to generate the F-score. If the F-score exceeds a certain value, then the null hypothesis can be rejected because the null hypothesis assumes that the variances are equal. If the F-score does not exceed this value, we cannot reject the null hypothesis because the evidence does not provide the conclusion that there is significant differnce in the variance. Source: https://www.geeksforgeeks.org/how-to-perform-an-f-test-in-python/\n",
    "\n",
    "In the case of this analysis, our null hypothesis is that the use of a transformer model, such as BERT, to analyze review text sequences to predict the overall rating will provide a more accurate classification performance than that of a traditional multi-layer perceptron. Further, we hypothesize that fine tuning BERT for our specific model will show an improved performance over BERT in its unchanged, transferred state.\n",
    "\n",
    "Because we're ultimately performing a classification task, we should consider not only the accuracy of the predcition, but we should consider the precision & the recall of the classification. For this task, we should consider both False Positives and False Negatives, with the assumption that the rating provided is the true rating for the movie. From a False Positive perspective, if a review provides a rating that is high whereas the rating is low, then the perception of the film is inverted, and a person may expect a masterpiece and instead experience an unsatisfying film. This would be a similar case for the False Negatives, where a review that reads with a low rating but actually has a high rating could lead to a person not experiencing an entertaining movie. Because either of these would defeat the purpose of the model, we should evaluate both Precision, which measures the model performance with respect to False Positives, and Recall, which measures the False Negative rate of the model. Therefore, we will look at maximizing the overall F1 score, which provides a weighted performance of both Precision & Recall so that it takes into account the performance of True Positives, True Negatives, False Positives, and False Negatives. \n",
    "We implement this approach using the following source: https://datascience.stackexchange.com/questions/45165/how-to-get-accuracy-f1-precision-and-recall-for-a-keras-model"
   ]
  },
  {
   "cell_type": "markdown",
   "metadata": {},
   "source": [
    "<a href=\"#top\">Back to Top</a>\n",
    "<a id=\"P2\"></a>\n",
    "## 2.0 Transfer Learning Foundational Model\n",
    "#### Describe the foundational model that you will be using to transfer learn from. What tasks was this foundational model trained upon? Explain if the new task is within the same domain, across domains, etc. \n",
    "\n",
    "### Foundational Model: BERT\n",
    "In this analysis, we will perform transfer learning with the Bidrectional Encoder Representation (BERT) model (source: https://arxiv.org/abs/1810.04805). BERT was developed by Google for text sequences, and it provides an architecture that can be utilized for a variety of natural language processing tasks and is able to encode the context of statements in two directions, which ensures a greater understanding of the message in the text. BERT has a base version that includes 12 encoder layers with 12 heads per layer and 110M parameters, and it has a large version that includes 24 encoder layers with 16 heads per layer and 340M parameters.\n",
    "\n",
    "From the original paper, BERT performs bidirectional encoding by using a masked language model that randomly masks tokens in the input to predict the original vocabulary based only on context. The BERT framework can be utilized in two steps: pre-training & fine-tuning, where the model is trained on unlabled data and then fine-tuned with labeled data from downstream tasks. In the paper, the WordPiece embeddings (30k tokens, referenced in BERT paper above) were used to provide the foundational tokenization. For the pre-training, BERT used the BooksCorpus and English Wikipedia, which have 800M and 2500M words, respectively (all referenced in BERT paper above). From Wikipedia, only the text passages were utilized.\n",
    "\n",
    "Because BERT can be used for a variety of tasks and is text-based, we can say that it is within the same domain as the task we are performing. From its original paper, BERT was built for, among others, question-answering tasks, hypothesis-premise tasks, and sentiment analysis tasks. Our goal is effectively sentiment analysis, where we are evaluating the overall context of the review and to what extent a film was perceived as \"good\". \n",
    "\n",
    "### Fine-Tuning Approach\n",
    "One advantage of BERT is that it can be fine tuned for a given task. This fine-tuning is readily-available because BERT contains a self-attention mechanism that allows it to model many downstream tasks so that it can encode a concatenated text pair with bidirectional cross attention between two sentences. The fine-tuning tasks are relatively efficient processing-wise compared to the pre-training. One approach to performing this can be found in: https://classic.d2l.ai/chapter_natural-language-processing-applications/finetuning-bert.html.\n",
    "\n",
    "We will perform fine-tuning through...."
   ]
  },
  {
   "cell_type": "markdown",
   "metadata": {},
   "source": [
    "<a href=\"#top\">Back to Top</a>\n",
    "<a id=\"P3\"></a>\n",
    "## 3.0 Splitting the Data \n",
    "#### Split the data into training and testing. Be sure to explain how you performed this operation and why you think it is reasonable to split this particular dataset this way. For multi-task datasets, be sure to explain if it is appropriate to stratify within each task. If the dataset is already split for you, explain how the split was achieved and how it is stratified.\n",
    "\n",
    "The dataset was compiled without regard to the distribution of the rating. In a plot below, we show that the data is heaviliy weighted towards positive reviews (with the majority ratings of 9 or 10). However, there is a substantial number of reviews for all cases. One question to ask is if it is important to maintain the distribution of the ratings, or if it is more important to provide a classifier that can perform equally well regardless of the rating. Because of the distribution, we have a few options for the data:\n",
    "1) Do no data augmentation & perform a random 80/20 split for Training & Test Data. From a positive perspective, this maintains all the data for evaluation, and the randomness should remove some bias in the results. Further, this is a straightforward splitting task. However, from a negative perspective, we expect bias in the results to remain and be pointed towards the positive entries.\n",
    "\n",
    "2) Keep an equal number of entries for each rating (Rating of 2 was the lowest quantity). From a positive perspective, this is very significant statistically and should provide satisfactory data. From a negative perspective, we may lose data quality from the diversity of the text provided for different rating values.\n",
    "\n",
    "3) Perform stratified shuffling & splitting. From a positive perspective, this is an improvement of option 1) in that new, \"unexpected\" bias, is not introduced through a random sampling. From a negative perspective, it still hold the bias towards the positive entries. However, one could argue that this bias towards a positive rating should be considered a \"feature\" of the data and perhaps means we should re-evaluate our \"upper limit\" for a \"Neutral\" rating. \n",
    "\n",
    "We ultimately decided to go with 2) above, where we removed many entries to keep the dataset with an even distribution. We ended with 5000 samples for each of the 10 ratings, which we believe is still statistically significant for this analysis."
   ]
  },
  {
   "cell_type": "markdown",
   "metadata": {},
   "source": [
    "### Preparing Data"
   ]
  },
  {
   "cell_type": "code",
   "execution_count": 2,
   "metadata": {},
   "outputs": [],
   "source": [
    "#imports\n",
    "import os\n",
    "import pandas as pd\n",
    "import warnings\n",
    "import matplotlib.pyplot as plt \n",
    "\n",
    "\n",
    "warnings.filterwarnings('ignore')\n",
    "\n",
    "from sklearn.model_selection import train_test_split\n",
    "from sklearn.metrics import accuracy_score"
   ]
  },
  {
   "cell_type": "code",
   "execution_count": 17,
   "metadata": {},
   "outputs": [
    {
     "data": {
      "text/html": [
       "<div>\n",
       "<style scoped>\n",
       "    .dataframe tbody tr th:only-of-type {\n",
       "        vertical-align: middle;\n",
       "    }\n",
       "\n",
       "    .dataframe tbody tr th {\n",
       "        vertical-align: top;\n",
       "    }\n",
       "\n",
       "    .dataframe thead th {\n",
       "        text-align: right;\n",
       "    }\n",
       "</style>\n",
       "<table border=\"1\" class=\"dataframe\">\n",
       "  <thead>\n",
       "    <tr style=\"text-align: right;\">\n",
       "      <th></th>\n",
       "      <th>username</th>\n",
       "      <th>rating</th>\n",
       "      <th>helpful</th>\n",
       "      <th>total</th>\n",
       "      <th>date</th>\n",
       "      <th>title</th>\n",
       "      <th>review</th>\n",
       "    </tr>\n",
       "  </thead>\n",
       "  <tbody>\n",
       "    <tr>\n",
       "      <th>0</th>\n",
       "      <td>Imme-van-Gorp</td>\n",
       "      <td>7</td>\n",
       "      <td>102</td>\n",
       "      <td>123</td>\n",
       "      <td>30 January 2019</td>\n",
       "      <td>Unfortunately the ending ruined an otherwise ...</td>\n",
       "      <td>This movie is full of suspense. It makes you g...</td>\n",
       "    </tr>\n",
       "    <tr>\n",
       "      <th>1</th>\n",
       "      <td>sonofocelot-1</td>\n",
       "      <td>5</td>\n",
       "      <td>385</td>\n",
       "      <td>500</td>\n",
       "      <td>10 May 2016</td>\n",
       "      <td>...oh dear Abrams. Again.\\n</td>\n",
       "      <td>I'll leave this review fairly concise. &lt;br/&gt;&lt;b...</td>\n",
       "    </tr>\n",
       "    <tr>\n",
       "      <th>2</th>\n",
       "      <td>mhodaee</td>\n",
       "      <td>5</td>\n",
       "      <td>110</td>\n",
       "      <td>143</td>\n",
       "      <td>4 August 2017</td>\n",
       "      <td>Fantastic, gripping, thoroughly enjoyable, un...</td>\n",
       "      <td>I give the 5/10 out of the credit I owe to the...</td>\n",
       "    </tr>\n",
       "    <tr>\n",
       "      <th>3</th>\n",
       "      <td>fil-nik09</td>\n",
       "      <td>5</td>\n",
       "      <td>73</td>\n",
       "      <td>100</td>\n",
       "      <td>5 October 2016</td>\n",
       "      <td>Hmmm...\\n</td>\n",
       "      <td>First of all, I must say that I was expecting ...</td>\n",
       "    </tr>\n",
       "    <tr>\n",
       "      <th>4</th>\n",
       "      <td>DVR_Brale</td>\n",
       "      <td>7</td>\n",
       "      <td>42</td>\n",
       "      <td>56</td>\n",
       "      <td>27 July 2016</td>\n",
       "      <td>Slow building &amp; plot alternating claustrophob...</td>\n",
       "      <td>I've always loved movies with strong atmospher...</td>\n",
       "    </tr>\n",
       "  </tbody>\n",
       "</table>\n",
       "</div>"
      ],
      "text/plain": [
       "        username rating  helpful  total             date  \\\n",
       "0  Imme-van-Gorp      7      102    123  30 January 2019   \n",
       "1  sonofocelot-1      5      385    500      10 May 2016   \n",
       "2        mhodaee      5      110    143    4 August 2017   \n",
       "3      fil-nik09      5       73    100   5 October 2016   \n",
       "4      DVR_Brale      7       42     56     27 July 2016   \n",
       "\n",
       "                                               title  \\\n",
       "0   Unfortunately the ending ruined an otherwise ...   \n",
       "1                        ...oh dear Abrams. Again.\\n   \n",
       "2   Fantastic, gripping, thoroughly enjoyable, un...   \n",
       "3                                          Hmmm...\\n   \n",
       "4   Slow building & plot alternating claustrophob...   \n",
       "\n",
       "                                              review  \n",
       "0  This movie is full of suspense. It makes you g...  \n",
       "1  I'll leave this review fairly concise. <br/><b...  \n",
       "2  I give the 5/10 out of the credit I owe to the...  \n",
       "3  First of all, I must say that I was expecting ...  \n",
       "4  I've always loved movies with strong atmospher...  "
      ]
     },
     "execution_count": 17,
     "metadata": {},
     "output_type": "execute_result"
    }
   ],
   "source": [
    "#https://www.geeksforgeeks.org/how-to-iterate-over-files-in-directory-using-python/\n",
    "# and https://stackoverflow.com/questions/20906474/import-multiple-csv-files-into-pandas-and-concatenate-into-one-dataframe\n",
    "\n",
    "\n",
    "\n",
    "directory = 'data/movie_dataset/2_reviews_per_movie_raw'\n",
    "\n",
    "dfs = list()\n",
    "\n",
    "#Concatenate data into one pandas dataframe\n",
    "for filename in os.listdir(directory):\t\n",
    "\tdata = pd.read_csv(os.path.join(directory, filename), header='infer')\t\n",
    "\tdfs.append(data)\n",
    "df = pd.concat(dfs, ignore_index=True)\n",
    "\n",
    "\n",
    "df.head()\n",
    "\n"
   ]
  },
  {
   "cell_type": "code",
   "execution_count": 18,
   "metadata": {},
   "outputs": [
    {
     "data": {
      "text/plain": [
       "array(['7', '5', '9', '8', '10', 'Null', '6', '1', '4', '3', '2'],\n",
       "      dtype=object)"
      ]
     },
     "execution_count": 18,
     "metadata": {},
     "output_type": "execute_result"
    }
   ],
   "source": [
    "# retain only rating and review\n",
    "df = df.drop(columns=['username', 'helpful', 'total', 'date','title'], errors='ignore')\n",
    "\n",
    "#print unique ratings\n",
    "df.rating.unique()\n"
   ]
  },
  {
   "cell_type": "code",
   "execution_count": 19,
   "metadata": {},
   "outputs": [
    {
     "data": {
      "text/plain": [
       "array([ 7,  5,  9,  8, 10,  6,  1,  4,  3,  2])"
      ]
     },
     "execution_count": 19,
     "metadata": {},
     "output_type": "execute_result"
    }
   ],
   "source": [
    "#drop Null ratings\n",
    "df = df[~df['rating'].str.contains('Null')]\n",
    "\n",
    "# Convert \"rating\" to int\n",
    "df= df.astype({'rating':'int'})\n",
    "df.rating.unique()\n",
    "\n"
   ]
  },
  {
   "cell_type": "code",
   "execution_count": 20,
   "metadata": {},
   "outputs": [
    {
     "data": {
      "text/html": [
       "<div>\n",
       "<style scoped>\n",
       "    .dataframe tbody tr th:only-of-type {\n",
       "        vertical-align: middle;\n",
       "    }\n",
       "\n",
       "    .dataframe tbody tr th {\n",
       "        vertical-align: top;\n",
       "    }\n",
       "\n",
       "    .dataframe thead th {\n",
       "        text-align: right;\n",
       "    }\n",
       "</style>\n",
       "<table border=\"1\" class=\"dataframe\">\n",
       "  <thead>\n",
       "    <tr style=\"text-align: right;\">\n",
       "      <th></th>\n",
       "      <th>rating</th>\n",
       "      <th>review</th>\n",
       "    </tr>\n",
       "  </thead>\n",
       "  <tbody>\n",
       "    <tr>\n",
       "      <th>0</th>\n",
       "      <td>7</td>\n",
       "      <td>This movie is full of suspense. It makes you g...</td>\n",
       "    </tr>\n",
       "    <tr>\n",
       "      <th>1</th>\n",
       "      <td>5</td>\n",
       "      <td>I'll leave this review fairly concise. &lt;br/&gt;&lt;b...</td>\n",
       "    </tr>\n",
       "    <tr>\n",
       "      <th>2</th>\n",
       "      <td>5</td>\n",
       "      <td>I give the 5/10 out of the credit I owe to the...</td>\n",
       "    </tr>\n",
       "    <tr>\n",
       "      <th>3</th>\n",
       "      <td>5</td>\n",
       "      <td>First of all, I must say that I was expecting ...</td>\n",
       "    </tr>\n",
       "    <tr>\n",
       "      <th>4</th>\n",
       "      <td>7</td>\n",
       "      <td>I've always loved movies with strong atmospher...</td>\n",
       "    </tr>\n",
       "  </tbody>\n",
       "</table>\n",
       "</div>"
      ],
      "text/plain": [
       "   rating                                             review\n",
       "0       7  This movie is full of suspense. It makes you g...\n",
       "1       5  I'll leave this review fairly concise. <br/><b...\n",
       "2       5  I give the 5/10 out of the credit I owe to the...\n",
       "3       5  First of all, I must say that I was expecting ...\n",
       "4       7  I've always loved movies with strong atmospher..."
      ]
     },
     "execution_count": 20,
     "metadata": {},
     "output_type": "execute_result"
    }
   ],
   "source": [
    "\n",
    "# Drop rows where \"rating\" is NaN or reviews are missing\n",
    "df = df.dropna(subset=['rating'])\n",
    "df = df.dropna(subset=['review'])\n",
    "\n",
    "df.head()"
   ]
  },
  {
   "cell_type": "code",
   "execution_count": 21,
   "metadata": {},
   "outputs": [
    {
     "data": {
      "text/html": [
       "<div>\n",
       "<style scoped>\n",
       "    .dataframe tbody tr th:only-of-type {\n",
       "        vertical-align: middle;\n",
       "    }\n",
       "\n",
       "    .dataframe tbody tr th {\n",
       "        vertical-align: top;\n",
       "    }\n",
       "\n",
       "    .dataframe thead th {\n",
       "        text-align: right;\n",
       "    }\n",
       "</style>\n",
       "<table border=\"1\" class=\"dataframe\">\n",
       "  <thead>\n",
       "    <tr style=\"text-align: right;\">\n",
       "      <th></th>\n",
       "      <th>rating</th>\n",
       "      <th>review</th>\n",
       "    </tr>\n",
       "  </thead>\n",
       "  <tbody>\n",
       "    <tr>\n",
       "      <th>0</th>\n",
       "      <td>7</td>\n",
       "      <td>this movie is full of suspense. it makes you g...</td>\n",
       "    </tr>\n",
       "    <tr>\n",
       "      <th>1</th>\n",
       "      <td>5</td>\n",
       "      <td>i'll leave this review fairly concise. &lt;br/&gt;&lt;b...</td>\n",
       "    </tr>\n",
       "    <tr>\n",
       "      <th>2</th>\n",
       "      <td>5</td>\n",
       "      <td>i give the 5/10 out of the credit i owe to the...</td>\n",
       "    </tr>\n",
       "    <tr>\n",
       "      <th>3</th>\n",
       "      <td>5</td>\n",
       "      <td>first of all, i must say that i was expecting ...</td>\n",
       "    </tr>\n",
       "    <tr>\n",
       "      <th>4</th>\n",
       "      <td>7</td>\n",
       "      <td>i've always loved movies with strong atmospher...</td>\n",
       "    </tr>\n",
       "  </tbody>\n",
       "</table>\n",
       "</div>"
      ],
      "text/plain": [
       "   rating                                             review\n",
       "0       7  this movie is full of suspense. it makes you g...\n",
       "1       5  i'll leave this review fairly concise. <br/><b...\n",
       "2       5  i give the 5/10 out of the credit i owe to the...\n",
       "3       5  first of all, i must say that i was expecting ...\n",
       "4       7  i've always loved movies with strong atmospher..."
      ]
     },
     "execution_count": 21,
     "metadata": {},
     "output_type": "execute_result"
    }
   ],
   "source": [
    "df['review'] = df['review'].str.lower() \n",
    "df.head()"
   ]
  },
  {
   "cell_type": "code",
   "execution_count": 22,
   "metadata": {},
   "outputs": [
    {
     "data": {
      "image/png": "[encoded data removed]",
      "text/plain": [
       "<Figure size 640x480 with 1 Axes>"
      ]
     },
     "metadata": {},
     "output_type": "display_data"
    }
   ],
   "source": [
    "hist = df['rating'].hist(bins=10)\n",
    "plt.title('Histogram of Movie Rating Distribution') \n",
    "plt.xlabel('Movie Rating') \n",
    "plt.xlim(1, 10)\n",
    "plt.show()"
   ]
  },
  {
   "cell_type": "markdown",
   "metadata": {},
   "source": [
    "We now trim down the dataset so that we have an equal distribution of all ratings."
   ]
  },
  {
   "cell_type": "code",
   "execution_count": 23,
   "metadata": {},
   "outputs": [
    {
     "name": "stdout",
     "output_type": "stream",
     "text": [
      "Final sample size: 50000\n",
      "1     5000\n",
      "2     5000\n",
      "3     5000\n",
      "4     5000\n",
      "5     5000\n",
      "6     5000\n",
      "7     5000\n",
      "8     5000\n",
      "9     5000\n",
      "10    5000\n",
      "Name: rating, dtype: int64\n"
     ]
    }
   ],
   "source": [
    "total_sample_size = 50000\n",
    "unique_ratings = df['rating'].nunique()\n",
    "samples_per_category = total_sample_size // unique_ratings  # Integer division to get samples per category\n",
    "\n",
    "if total_sample_size % unique_ratings != 0:\n",
    "    print(f\"Warning: {total_sample_size} is not evenly divisible by {unique_ratings} categories. \" +\n",
    "          f\"Actual total sample size will be {samples_per_category * unique_ratings}.\")\n",
    "\n",
    "# Uniformly sample rows from each rating category\n",
    "sampled_df = df.groupby('rating').apply(lambda x: x.sample(n=samples_per_category)).reset_index(drop=True)\n",
    "\n",
    "# Check the final sample size and distribution\n",
    "print(f\"Final sample size: {len(sampled_df)}\")\n",
    "print(sampled_df['rating'].value_counts())\n",
    "sampled_df.to_csv('sampled_df.csv', index=False)"
   ]
  },
  {
   "cell_type": "code",
   "execution_count": 24,
   "metadata": {},
   "outputs": [
    {
     "data": {
      "image/png": "[encoded data removed]",
      "text/plain": [
       "<Figure size 640x480 with 1 Axes>"
      ]
     },
     "metadata": {},
     "output_type": "display_data"
    }
   ],
   "source": [
    "hist = sampled_df['rating'].hist(bins=10)\n",
    "plt.title('Histogram of Movie Rating Distribution') \n",
    "plt.xlabel('Movie Rating') \n",
    "plt.xlim(1, 10)\n",
    "plt.show()"
   ]
  },
  {
   "cell_type": "markdown",
   "metadata": {},
   "source": [
    "<a href=\"#top\">Back to Top</a>\n",
    "<a id=\"P4\"></a>\n",
    "## 4.0 Training a Model from Scratch \n",
    "#### Train a model from scratch to perform the classification task (this does NOT need to be a transformer). That is, do not use transfer learning for the classification task. Verify the model converges (even if the model is overfit). This does NOT need to mirror the foundational model. This model may be far less computational to train."
   ]
  },
  {
   "cell_type": "markdown",
   "metadata": {},
   "source": [
    "### Model"
   ]
  },
  {
   "cell_type": "code",
   "execution_count": 25,
   "metadata": {},
   "outputs": [],
   "source": [
    "sampled_df = pd.read_csv('sampled_df.csv')"
   ]
  },
  {
   "cell_type": "code",
   "execution_count": 32,
   "metadata": {},
   "outputs": [
    {
     "name": "stdout",
     "output_type": "stream",
     "text": [
      "Model: \"sequential_2\"\n",
      "_________________________________________________________________\n",
      "Layer (type)                 Output Shape              Param #   \n",
      "=================================================================\n",
      "embedding_2 (Embedding)      (None, 100, 100)          10236800  \n",
      "_________________________________________________________________\n",
      "conv1d_2 (Conv1D)            (None, 100, 128)          64128     \n",
      "_________________________________________________________________\n",
      "global_max_pooling1d_2 (Glob (None, 128)               0         \n",
      "_________________________________________________________________\n",
      "dense_4 (Dense)              (None, 10)                1290      \n",
      "=================================================================\n",
      "Total params: 10,302,218\n",
      "Trainable params: 10,302,218\n",
      "Non-trainable params: 0\n",
      "_________________________________________________________________\n"
     ]
    }
   ],
   "source": [
    "from keras.models import Sequential\n",
    "from keras.layers import Embedding, Conv1D, GlobalMaxPooling1D, Dense\n",
    "from keras.preprocessing.text import Tokenizer\n",
    "\n",
    "# Model hyperparameters\n",
    "max_length = 100\n",
    "embedding_dim = 100\n",
    "num_filters = 128\n",
    "kernel_size = 5\n",
    "hidden_dims = 128\n",
    "\n",
    "# Tokenize\n",
    "tokenizer = Tokenizer()\n",
    "tokenizer.fit_on_texts(sampled_df['review'])\n",
    "vocab_size = len(tokenizer.word_index) + 1  # Adding 1 to account for the reserved 0 index\n",
    "\n",
    "model = Sequential()\n",
    "model.add(Embedding(vocab_size, embedding_dim, input_length=max_length))\n",
    "model.add(Conv1D(num_filters, kernel_size, activation='relu', padding='same'))\n",
    "model.add(GlobalMaxPooling1D())\n",
    "model.add(Dense(10, activation='softmax'))  # 10 rating classes\n",
    "\n",
    "model.compile(optimizer='adam',\n",
    "              loss='sparse_categorical_crossentropy',\n",
    "              metrics=['accuracy'])\n",
    "\n",
    "model.summary()\n"
   ]
  },
  {
   "cell_type": "markdown",
   "metadata": {},
   "source": [
    "### train_test_split"
   ]
  },
  {
   "cell_type": "code",
   "execution_count": 33,
   "metadata": {},
   "outputs": [],
   "source": [
    "from keras.preprocessing.sequence import pad_sequences\n",
    "\n",
    "sequences = tokenizer.texts_to_sequences(sampled_df['review'])\n",
    "\n",
    "# Pad sequences to ensure uniform length\n",
    "X = pad_sequences(sequences, maxlen=max_length)\n",
    "y = sampled_df['rating'] - 1  # Adjust ratings to start from 0\n"
   ]
  },
  {
   "cell_type": "code",
   "execution_count": 34,
   "metadata": {},
   "outputs": [],
   "source": [
    "from sklearn.model_selection import train_test_split\n",
    "\n",
    "X_train, X_test, y_train, y_test = train_test_split(X, y, test_size=0.2, random_state=42)\n"
   ]
  },
  {
   "cell_type": "markdown",
   "metadata": {},
   "source": [
    "### Train Model"
   ]
  },
  {
   "cell_type": "code",
   "execution_count": 35,
   "metadata": {},
   "outputs": [
    {
     "name": "stdout",
     "output_type": "stream",
     "text": [
      "Epoch 1/10\n",
      "1000/1000 [==============================] - 83s 83ms/step - loss: 2.0469 - accuracy: 0.2275 - val_loss: 1.8303 - val_accuracy: 0.3091\n",
      "Epoch 2/10\n",
      "1000/1000 [==============================] - 81s 81ms/step - loss: 1.6650 - accuracy: 0.3839 - val_loss: 1.7946 - val_accuracy: 0.3189\n",
      "Epoch 3/10\n",
      "1000/1000 [==============================] - 87s 87ms/step - loss: 1.2639 - accuracy: 0.5895 - val_loss: 1.8835 - val_accuracy: 0.3099\n",
      "Epoch 4/10\n",
      "1000/1000 [==============================] - 76s 76ms/step - loss: 0.7290 - accuracy: 0.8174 - val_loss: 2.0960 - val_accuracy: 0.3016\n",
      "Epoch 5/10\n",
      "1000/1000 [==============================] - 79s 79ms/step - loss: 0.2911 - accuracy: 0.9460 - val_loss: 2.3693 - val_accuracy: 0.2894\n",
      "Epoch 6/10\n",
      "1000/1000 [==============================] - 78s 78ms/step - loss: 0.0946 - accuracy: 0.9897 - val_loss: 2.5747 - val_accuracy: 0.2931\n",
      "Epoch 7/10\n",
      "1000/1000 [==============================] - 78s 78ms/step - loss: 0.0302 - accuracy: 0.9983 - val_loss: 2.7796 - val_accuracy: 0.2928\n",
      "Epoch 8/10\n",
      "1000/1000 [==============================] - 76s 76ms/step - loss: 0.0114 - accuracy: 0.9997 - val_loss: 2.9609 - val_accuracy: 0.2952\n",
      "Epoch 9/10\n",
      "1000/1000 [==============================] - 76s 76ms/step - loss: 0.0063 - accuracy: 0.9998 - val_loss: 3.1197 - val_accuracy: 0.2921\n",
      "Epoch 10/10\n",
      "1000/1000 [==============================] - 76s 76ms/step - loss: 0.0058 - accuracy: 0.9998 - val_loss: 3.2741 - val_accuracy: 0.2915\n",
      "Training took 788.95 seconds.\n"
     ]
    }
   ],
   "source": [
    "import time\n",
    "\n",
    "start_time = time.time()\n",
    "history = model.fit(X_train, y_train,\n",
    "                    epochs=10,\n",
    "                    batch_size=32,\n",
    "                    validation_split=0.2)  # Use 20% of the training data as validation data\n",
    "\n",
    "elapsed_time = time.time() - start_time\n",
    "\n",
    "print(f\"Training took {elapsed_time:.2f} seconds.\")\n"
   ]
  },
  {
   "cell_type": "markdown",
   "metadata": {},
   "source": [
    "### Plot Convergence"
   ]
  },
  {
   "cell_type": "code",
   "execution_count": 36,
   "metadata": {},
   "outputs": [
    {
     "data": {
      "image/png": "[encoded data removed]",
      "text/plain": [
       "<Figure size 432x288 with 1 Axes>"
      ]
     },
     "metadata": {
      "needs_background": "light"
     },
     "output_type": "display_data"
    },
    {
     "data": {
      "image/png": "[encoded data removed]",
      "text/plain": [
       "<Figure size 432x288 with 1 Axes>"
      ]
     },
     "metadata": {
      "needs_background": "light"
     },
     "output_type": "display_data"
    }
   ],
   "source": [
    "import matplotlib.pyplot as plt\n",
    "\n",
    "# Plot training & validation accuracy values\n",
    "plt.plot(history.history['accuracy'])\n",
    "plt.plot(history.history['val_accuracy'])\n",
    "plt.title('Model accuracy')\n",
    "plt.ylabel('Accuracy')\n",
    "plt.xlabel('Epoch')\n",
    "plt.legend(['Train', 'Test'], loc='upper left')\n",
    "plt.show()\n",
    "\n",
    "# Plot training & validation loss values\n",
    "plt.plot(history.history['loss'])\n",
    "plt.plot(history.history['val_loss'])\n",
    "plt.title('Model loss')\n",
    "plt.ylabel('Loss')\n",
    "plt.xlabel('Epoch')\n",
    "plt.legend(['Train', 'Test'], loc='upper left')\n",
    "plt.show()\n"
   ]
  },
  {
   "cell_type": "code",
   "execution_count": 16,
   "metadata": {},
   "outputs": [
    {
     "data": {
      "image/png": "[encoded data removed]",
      "text/plain": [
       "<Figure size 900x400 with 2 Axes>"
      ]
     },
     "metadata": {},
     "output_type": "display_data"
    }
   ],
   "source": [
    "histdf = pd.read_csv('sampled_scratch_model_training_history.csv')\n",
    "\n",
    "plt.figure(figsize=(9, 4))\n",
    "# Plot training & validation accuracy values\n",
    "ax1 = plt.subplot(121)\n",
    "ax1.plot(histdf['accuracy'])\n",
    "ax1.plot(histdf['val_accuracy'])\n",
    "ax1.set_title('Model accuracy')\n",
    "ax1.set_ylabel('Accuracy')\n",
    "ax1.set_xlabel('Epoch')\n",
    "ax1.legend(['Train', 'Test'], loc='upper left')\n",
    "\n",
    "# Plot training & validation loss values\n",
    "ax2 = plt.subplot(122)\n",
    "ax2.plot(histdf['loss'])\n",
    "ax2.plot(histdf['val_loss'])\n",
    "ax2.set_title('Model loss')\n",
    "ax2.set_ylabel('Loss')\n",
    "ax2.set_xlabel('Epoch')\n",
    "ax2.legend(['Train', 'Test'], loc='upper left')\n",
    "\n",
    "plt.show()"
   ]
  },
  {
   "cell_type": "markdown",
   "metadata": {},
   "source": [
    "The training performance converges, both from a loss and an accuracy perspective. The test dataset does not perform as well for this initial model. We will now evaluate this task using Transfer Learning to see if we have improvements in the performance."
   ]
  },
  {
   "cell_type": "markdown",
   "metadata": {},
   "source": [
    "<a href=\"#top\">Back to Top</a>\n",
    "<a id=\"P5\"></a>\n",
    "## 5.0 Training a Model by Transfer Learning from Foundational Model \n",
    "#### Train a model by transfer learning from your foundational model. Verify that the new model converges. You only need to train a model using the bottleneck features for this step. "
   ]
  },
  {
   "cell_type": "code",
   "execution_count": 27,
   "metadata": {},
   "outputs": [],
   "source": [
    "sampled_df = pd.read_csv('sampled_df.csv')\n",
    "from keras.preprocessing.text import Tokenizer\n",
    "\n",
    "# Model hyperparameters\n",
    "max_length = 100\n",
    "embedding_dim = 100\n",
    "num_filters = 128\n",
    "kernel_size = 5\n",
    "hidden_dims = 128\n",
    "\n",
    "# Tokenize\n",
    "tokenizer = Tokenizer()\n",
    "tokenizer.fit_on_texts(sampled_df['review'])\n",
    "vocab_size = len(tokenizer.word_index) + 1  # Adding 1 to account for the reserved 0 index\n",
    "\n",
    "#from keras.preprocessing.sequence import pad_sequences\n",
    "from keras_preprocessing.sequence import pad_sequences\n",
    "\n",
    "sequences = tokenizer.texts_to_sequences(sampled_df['review'])\n",
    "\n",
    "# Pad sequences to ensure uniform length\n",
    "X = pad_sequences(sequences, maxlen=max_length)\n",
    "y = sampled_df['rating'] - 1  # Adjust ratings to start from 0\n",
    "\n",
    "from sklearn.model_selection import train_test_split\n",
    "\n",
    "X_train, X_test, y_train, y_test = train_test_split(X, y, test_size=0.2, random_state=42)"
   ]
  },
  {
   "cell_type": "code",
   "execution_count": null,
   "metadata": {},
   "outputs": [],
   "source": []
  },
  {
   "cell_type": "markdown",
   "metadata": {},
   "source": [
    "<a href=\"#top\">Back to Top</a>\n",
    "<a id=\"P6\"></a>\n",
    "## 6.0 Fine-Tuning the Model \n",
    "#### Perform fine tuning upon the model by training some layers within the foundational model. Verify that the model converges. \n",
    "\n",
    "One approach to performing this can be found in: https://classic.d2l.ai/chapter_natural-language-processing-applications/finetuning-bert.html.\n"
   ]
  },
  {
   "cell_type": "code",
   "execution_count": null,
   "metadata": {},
   "outputs": [],
   "source": [
    "sampled_df = pd.read_csv('sampled_df.csv')\n",
    "from keras.preprocessing.text import Tokenizer\n",
    "\n",
    "# Model hyperparameters\n",
    "max_length = 100\n",
    "embedding_dim = 100\n",
    "num_filters = 128\n",
    "kernel_size = 5\n",
    "hidden_dims = 128\n",
    "\n",
    "# Tokenize\n",
    "tokenizer = Tokenizer()\n",
    "tokenizer.fit_on_texts(sampled_df['review'])\n",
    "vocab_size = len(tokenizer.word_index) + 1  # Adding 1 to account for the reserved 0 index\n",
    "\n",
    "#from keras.preprocessing.sequence import pad_sequences\n",
    "from keras_preprocessing.sequence import pad_sequences\n",
    "\n",
    "sequences = tokenizer.texts_to_sequences(sampled_df['review'])\n",
    "\n",
    "# Pad sequences to ensure uniform length\n",
    "X = pad_sequences(sequences, maxlen=max_length)\n",
    "y = sampled_df['rating'] - 1  # Adjust ratings to start from 0\n",
    "\n",
    "from sklearn.model_selection import train_test_split\n",
    "\n",
    "X_train, X_test, y_train, y_test = train_test_split(X, y, test_size=0.2, random_state=42)"
   ]
  },
  {
   "cell_type": "markdown",
   "metadata": {},
   "source": [
    "<a href=\"#top\">Back to Top</a>\n",
    "<a id=\"P7\"></a>\n",
    "## 7.0 Results: Comparing All Investigated Models \n",
    "#### Report the results of all models using the evaluation procedure that you argued for at the beginning of the lab. Compare the convergence of the models and the running time. Results should be reported with proper statistical comparisons and proper visualizations.\n",
    "xx"
   ]
  },
  {
   "cell_type": "code",
   "execution_count": null,
   "metadata": {},
   "outputs": [],
   "source": []
  }
 ],
 "metadata": {
  "kernelspec": {
   "display_name": "Python 3 (ipykernel)",
   "language": "python",
   "name": "python3"
  },
  "language_info": {
   "codemirror_mode": {
    "name": "ipython",
    "version": 3
   },
   "file_extension": ".py",
   "mimetype": "text/x-python",
   "name": "python",
   "nbconvert_exporter": "python",
   "pygments_lexer": "ipython3",
   "version": "3.8.13"
  }
 },
 "nbformat": 4,
 "nbformat_minor": 2
}
