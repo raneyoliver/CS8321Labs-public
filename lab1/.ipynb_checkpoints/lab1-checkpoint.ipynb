{
 "cells": [
  {
   "cell_type": "markdown",
   "metadata": {},
   "source": [
    "# Lab 1\n",
    "\n",
    "Group Members:\n",
    "\n",
    "- Parker\n",
    "\n",
    "- Suma \n",
    "\n",
    "- Chris\n",
    "\n",
    "- Oliver"
   ]
  },
  {
   "cell_type": "markdown",
   "metadata": {},
   "source": [
    "## Introduction\n",
    "\n",
    "**Why is it important to find this kind of bias in machine learning models?**\n",
    "\n",
    "TODO: Answer this\n",
    "\n",
    "**Why will the type of investigation I am performing be relevant to other researchers or practitioners?**\n",
    "\n",
    "TODO: Answer this\n",
    "\n",
    "We will be exploring the bias in movie reviews to answer the question of \n",
    "\n",
    "_______________\n",
    "Looking through the discussion in your email, it sounds like you are defining bias in terms of reliability and performance in various contexts. However, the assignment was more in regard to bias as it relates to equity among groups. I think you can still make this work for your use case, though.  From this perspective, the bias in horror movies versus romantic comedies would need to be defined as bias among genres in movies. That is, “is a movie more likely to be rated as more positive because it is a romantic comedy, versus rated more negative if it is a horror genre movie?” I think that would make sense even though the groups are defined based upon bias from the movie description, rather than bias from gender, race, etc. \n",
    "_____________\n",
    "\n",
    "•\tWe are planning to utilize the dataset of IMDB reviews (pre-labeled positive/negative reviews)\n",
    "•\tWe are analyzing the ability of GloVe & ConceptNet to classify a review as positive or negative based on the review content and in the face of conflicting sentiment lexicon.\n",
    "•\tWe are going perform two sentiment analyses to see if we receive false positives / false negatives – examples:\n",
    "o\tA false positive review for a “bad” romantic comedy: sentiment analysis like GloVe could classify it as “positive” because of words like “funny”, however, we expect ConceptNet Graph to appropriately label it as “negative” because of the more complex Knowledge Graph)\n",
    "o\tA false negative review for a “good” horror movie: sentiment analysis like GloVe could classify it as “negative” because of words like “kill”/”death”, however, we expect ConceptNet Graph to appropriately label it as “positive” because of the more complex Knowledge Graph)  \n",
    "•\tWe already have the positive/negative labels from IMDB so we can compare that against the sentiment analysis.\n",
    "•\tThe two sentiment analyses should give us different results based on how much \"context\" they use from the review as a whole - if it's narrow-focused (like Glove?), it should produce false results (from above), but if it has a wider knowledge graph focus (like ConceptNet), it should give a better score (in other words, the review result should better align to the sentiment analysis)?\n",
    "\n",
    "We are trying to answer .....\n",
    "\n",
    "We believe ....."
   ]
  },
  {
   "cell_type": "markdown",
   "metadata": {},
   "source": [
    "## Investigation\n",
    "\n",
    "**What embeddings are we comparing?** GLoVe vs. ConceptNet"
   ]
  },
  {
   "cell_type": "markdown",
   "metadata": {},
   "source": [
    "As part of your assignment, you will choose a methodology that involves comparing two (or more) techniques to one another. Discuss how you will measure a difference between the two techniques. That is, if you are measuring the difference statistically, what test will you use and why is it appropriate? Are there any limitations to performing this test that you should be aware of?"
   ]
  },
  {
   "cell_type": "markdown",
   "metadata": {},
   "source": [
    "Source: https://ieee-dataport.org/open-access/imdb-movie-reviews-dataset"
   ]
  },
  {
   "cell_type": "markdown",
   "metadata": {},
   "source": [
    "Dataset has 1 million reviews from 1150 movies spread across 17 genres; there's also other meta data such as the IMDb rating and movie rating. "
   ]
  },
  {
   "cell_type": "markdown",
   "metadata": {},
   "source": [
    "Reference Paper: https://ieeexplore-ieee-org.proxy.libraries.smu.edu/document/9276893 "
   ]
  },
  {
   "cell_type": "markdown",
   "metadata": {},
   "source": [
    "### Evaluation metric\n",
    "\n",
    "TODO: Explain why"
   ]
  },
  {
   "cell_type": "markdown",
   "metadata": {},
   "source": [
    "### Hypothesis\n",
    "\n",
    "TODO: Write hypothesis"
   ]
  },
  {
   "cell_type": "markdown",
   "metadata": {},
   "source": [
    "## Observations"
   ]
  },
  {
   "cell_type": "markdown",
   "metadata": {},
   "source": [
    "Carryout your analysis and model training. Explain your steps in as much detail so that the instructor can understand your code. "
   ]
  },
  {
   "cell_type": "markdown",
   "metadata": {},
   "source": [
    "Present results from your analysis and provide evidence from the results that support or refute your hypothesis. Write a conclusion based upon the various analyses you performed. Be sure to reference your research questions systematically in your conclusion. With your analysis complete, are there any additional research questions or limitations to your conclusions?"
   ]
  },
  {
   "cell_type": "markdown",
   "metadata": {},
   "source": [
    "### Loading the dataset"
   ]
  },
  {
   "cell_type": "markdown",
   "metadata": {},
   "source": [
    "### Cleaning/preparing the dataset"
   ]
  },
  {
   "cell_type": "markdown",
   "metadata": {},
   "source": [
    "### Model training"
   ]
  },
  {
   "cell_type": "markdown",
   "metadata": {},
   "source": [
    "\n",
    "### Output"
   ]
  },
  {
   "cell_type": "markdown",
   "metadata": {},
   "source": [
    "## Conclusion\n",
    "\n",
    "TODO: Add conclusion"
   ]
  },
  {
   "cell_type": "markdown",
   "metadata": {},
   "source": [
    "Identify two conferences or journals that would be interested in the results of your analysis.  "
   ]
  },
  {
   "cell_type": "markdown",
   "metadata": {},
   "source": [
    "## References"
   ]
  }
 ],
 "metadata": {
  "kernelspec": {
   "display_name": "Python 3 (ipykernel)",
   "language": "python",
   "name": "python3"
  },
  "language_info": {
   "codemirror_mode": {
    "name": "ipython",
    "version": 3
   },
   "file_extension": ".py",
   "mimetype": "text/x-python",
   "name": "python",
   "nbconvert_exporter": "python",
   "pygments_lexer": "ipython3",
   "version": "3.8.13"
  }
 },
 "nbformat": 4,
 "nbformat_minor": 2
}
