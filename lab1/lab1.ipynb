{
 "cells": [
  {
   "cell_type": "code",
   "execution_count": 1,
   "metadata": {},
   "outputs": [
    {
     "data": {
      "text/html": [
       "<link href='https://fonts.googleapis.com/css?family=Passion+One' rel='stylesheet' type='text/css'><style>div.attn { font-family: 'Helvetica Neue'; font-size: 30px; line-height: 40px; color: #FFFFFF; text-align: center; margin: 30px 0; border-width: 10px 0; border-style: solid; border-color: #5AAAAA; padding: 30px 0; background-color: #DDDDFF; }hr { border: 0; background-color: #ffffff; border-top: 1px solid black; }hr.major { border-top: 10px solid #5AAA5A; }hr.minor { border: none; background-color: #ffffff; border-top: 5px dotted #CC3333; }div.bubble { width: 65%; padding: 20px; background: #DDDDDD; border-radius: 15px; margin: 0 auto; font-style: italic; color: #f00; }em { color: #AAA; }div.c1{visibility:hidden;margin:0;height:0;}div.note{color:red;}</style>"
      ],
      "text/plain": [
       "<IPython.core.display.HTML object>"
      ]
     },
     "execution_count": 1,
     "metadata": {},
     "output_type": "execute_result"
    }
   ],
   "source": [
    "#  Enable HTML/CSS \n",
    "from IPython.core.display import HTML\n",
    "HTML(\"<link href='https://fonts.googleapis.com/css?family=Passion+One' rel='stylesheet' type='text/css'><style>div.attn { font-family: 'Helvetica Neue'; font-size: 30px; line-height: 40px; color: #FFFFFF; text-align: center; margin: 30px 0; border-width: 10px 0; border-style: solid; border-color: #5AAAAA; padding: 30px 0; background-color: #DDDDFF; }hr { border: 0; background-color: #ffffff; border-top: 1px solid black; }hr.major { border-top: 10px solid #5AAA5A; }hr.minor { border: none; background-color: #ffffff; border-top: 5px dotted #CC3333; }div.bubble { width: 65%; padding: 20px; background: #DDDDDD; border-radius: 15px; margin: 0 auto; font-style: italic; color: #f00; }em { color: #AAA; }div.c1{visibility:hidden;margin:0;height:0;}div.note{color:red;}</style>\")"
   ]
  },
  {
   "cell_type": "markdown",
   "metadata": {},
   "source": [
    "# Lab 1: Investigation of Mitigating Genre-Specific Bias in Movie Perception through Robust Word Embeddings\n",
    "\n",
    "Group Members:\n",
    "- Oliver Ansley\n",
    "\n",
    "- Parker Brown\n",
    "\n",
    "- Suma Chackola\n",
    "\n",
    "- Chris Peters\n",
    "\n",
    "\n",
    "**The execution of this lab was performed collaboratively across 4 computers. Therefore, while the individual cells are not all shown with the direct execution results, the code presented in those cells was utilized to produce the results in this notebook.**"
   ]
  },
  {
   "cell_type": "markdown",
   "metadata": {},
   "source": [
    "<a id=\"top\"></a>\n",
    "## Contents\n",
    "* <a href=\"#P1\">1.0 Introduction</a>\n",
    "* <a href=\"#P2\">2.0 Training & Modeling </a>\n",
    "    * <a href=\"#P21\">2.1 Creating the Sentiment Analyzer </a>\n",
    "    * <a href=\"#P22\">2.2 Loading & Cleaning Data </a>\n",
    "    * <a href=\"#P23\">2.3 Sentiment Analysis with GloVe </a>\n",
    "    * <a href=\"#P24\">2.4 Sentiment Analysis with ConceptNet Numberbatch </a>        \n",
    "* <a href=\"#P3\">3.0 Comparison of Sentiment Analyses </a>\n",
    "* <a href=\"#P4\">4.0 Conclusion </a>    \n",
    "________________________________________________________________________________________________________\n"
   ]
  },
  {
   "cell_type": "markdown",
   "metadata": {},
   "source": [
    "<a href=\"#top\">Back to Top</a>\n",
    "<a id=\"P1\"></a>\n",
    "## 1.0 Introduction to the Embeddings Investigation\n",
    "\n",
    "### Hypothesis\n",
    "Our hypothesis is that the use of a robust word embedding model, such as ConceptNet Numberbatch, to analyze movie reviews across genres will be less biased to individual sentiment \"keywords\" native to the genre and will provide a better representation of the user perception of the movie than a less robust word embedding model, such as GloVe.\n",
    "\n",
    "For example, we are trying to answer if a romantic comedy is ranked as more positive or if a horror movie is ranked as more negative. We believe that a \"lesser\" embedding will perform more poorly in the face of a conflicting sentiment lexicon. By this, we expect that \"horror\" movies may have more \"negative\" ratings because of the \"negative\" words used in the reviews to describe the content of the movie, versus the overall context of the review as positive or negative. If the embedding is more narrow-focused, like Glove, it may produce results that bias towards romantic comedies as more positive, since the overall content of the review should have more \"positive\" words based on the content of the movie. However, we expect an embedding that has a wider knowledge graph focus, like ConceptNet, to remove this bias and focus solely on the review content.\n",
    "\n",
    "### Approach\n",
    "To investigate our hypothesis, we utilize a dataset (see below) of IMDB reviews that are pre-labeled as positive or negative and contain movie genres. We will compare the genre-specific bias of movie reviews using the word embeddings of GloVe & ConceptNet. Each of these embeddings will be applied to the movie reviews to determine the overall sentiment of the review. As iterated before, we believe that because of Numberbatch's broader generalization, we can prove that there exists a bias using GLoVe in which a romantic comedy movie, for example, may be rated as positive based on the inherent content of the review even though it received a negative numeric rating.\n",
    "\n",
    "### Embeddings Models\n",
    "#### GloVe\n",
    "We begin our investigation with the Global Vectors for Word Representation, known as GloVe, which obtains vector representations for words through a nearest-neighor metric from a large word vector model. The vector model we've chosen for this analysis is the Common Crawl 840B, which contains 840 billion tokens, 2.2 million word vocabulary, and 300 dimensional vectors. Common Crawl (https://commoncrawl.org/) is an open repository of web crawl data that can be used for language analysis.\n",
    "\n",
    "GloVe: https://nlp.stanford.edu/projects/glove/\n",
    "Jeffrey Pennington, Richard Socher, and Christopher D. Manning. 2014. GloVe: Global Vectors for Word Representation. \n",
    "\n",
    "Common Crawl 840B: https://nlp.stanford.edu/data/glove.840B.300d.zip\n",
    "\n",
    "#### ConceptNet Numberbatch\n",
    "ConceptNet Numberbatch provides word embeddings, similar to GloVe, but from a higher-level structure from the \"ConceptNet\" project. We claim that ConceptNet Numberbatch is more robust than GloVe. Both models provide adequate capability to perform language analysis. However, the distinguishing feature for ConceptNet Numberbatch is that while GloVe compares the Euclidean distance between words to create its vectors that can be used for analogies for other words, ConceptNet Numberbatch actually uses data from GloVe and other similar sources to not only provide information of word context but also a \"common sense\" knowledge which is obtained from ConceptNet. It outperforms GloVe and similar embeddings when reviewing word similarity benchmarks.\n",
    "\n",
    "ConceptNet Numberbatch: https://github.com/commonsense/conceptnet-numberbatch\n",
    "\n",
    "\n",
    "### Dataset\n",
    "We utilize a dataset, found in the link below, of IMDB reviews that contains 1 million reviews from 1150 movies spread across 17 genres. In this dataset is other metadata such as the IMDb rating and movie rating. The data was utilized in a paper by Pal, Barigidad, and Mustafi presented at the 2020 International Conference on Computing, Communication, and Security (ICCCS). In their analysis, they used the content of the movie reviews to classify the genre of the movie through word tokenization and a keyword list specific to the genres, similar to the process we are following for sentiment analysis, however, from the results they created their own \"Movie Recommender\" based on a genre input from a user.\n",
    "\n",
    "- Data Source: https://ieee-dataport.org/open-access/imdb-movie-reviews-dataset\n",
    "\n",
    "- Reference Paper: https://ieeexplore-ieee-org.proxy.libraries.smu.edu/document/9276893. A. Pal, A. Barigidad and A. Mustafi, \"Identifying movie genre compositions using neural networks and introducing GenRec-a recommender system based on audience genre perception,\" 2020 5th International Conference on Computing, Communication and Security (ICCCS), Patna, India, 2020, pp. 1-7, doi: 10.1109/ICCCS49678.2020.9276893. \n",
    "\n",
    "### Comparison metric\n",
    "In our analysis, we utilize the F-score statistical testing as a metric to compare the performance the models. F-score is an analysis of variance approach (ANOVA) that determines the statistical difference of two or more populations in hypothesis testing by comparing their variances. To do this, we divide the population sample variance between the groups by the variance within the groups to generate the F-score. If the F-score exceeds a certain value, then the null hypothesis can be rejected because the null hypothesis assumes that the variances are equal. If the F-score does not exceed this value, we cannot reject the null hypothesis because the evidence does not provide the conclusion that there is significant differnce in the variance. \n",
    "\n",
    "In the case of this analysis, our null hypothesis is that the use of a robust word embedding model, such as ConceptNet Numberbatch, to analyze movie reviews across genres is **no less** biased to individual sentiment \"keywords\" native to the genre and will **not** provide a better representation of the user perception of the movie than a less robust word embedding model, such as GloVe.\n",
    "\n",
    "Source: https://www.geeksforgeeks.org/how-to-perform-an-f-test-in-python/\n",
    "\n",
    "### Relevance\n",
    "**Why is it important to find this kind of bias in machine learning models?**\n",
    "\n",
    "Machine learning language models generate associations with commonly used words, and these associations are based on human intentional and unintentional bias to people groups or ideologies. In the sense of creating an ethical system that is  beneficial to individuals and society, it is critical for the system to also be respectful and fair, such that it honors diversity in humans and does not result in unfair discrimination. Unfortunately, the internet contains a broad source of biased speech and it is very challenging to disassociate the bias while generating a language model that is representative of a given language.  ConceptNet Numberbatch version 17.04 and later actually utilizes a capability to counteract bias during its build process so that the word vectors are less prejudiced than GloVe.\n",
    "\n",
    "**Why will the type of investigation I am performing be relevant to other researchers or practitioners?**\n",
    "\n",
    "Our extension of bias analysis to movie reviews can be perceived as a lot less \"socially heavy\" than racial or gender issues. When we are generally considering equity in two items, we are seeking ways to evaluate the quality of the individual items without persuasion towards our own preconceived thoughts of the greater group that the items belong to. Therefore, we are extending this idea of bias movies, but it can also be extended towards other media like music. It is important for an art critic to be able to extend a judgement on a work based on its ability to convey an emotion or an idea. If that critic cannot see beyond their own tastes for Country music or Heavy Metal for an analysis of a Jazz piece, then the bias of the critic can overcome the value of response of the critic. This is similar to the idea of \"you cannot judge a fish by its ability to climb a tree\". For the positive/negative movie review analysis, a study on the review lexicon can be biased from the the true nature of the review because of the association of the genre to positive/negative semantics. Extracting the overall meaning of the review requires the removal of the \"narrow\" word association and instead requires the addition of the \"broad\" understanding of the review content. \n",
    "\n",
    "Therefore it is important to develop a machine learning model that can provide a quality assessment of a movie without bias towards the sentiment of aspects inherent to the genre of the movie in order to create a \"digital critic\". Other researchers can extend the ideas and the approach in this work to other media, such as book reviews or music reviews, in an effort to improve the \"crowdsourcing\" of the perception of new media and determine what needs to be augmented in these embedding models to further associate the general feedback from a movie with its overall likeability rating. As the perception models improve, the industry will have a better understanding of what appeals to the public, which leads to a financial optimization. "
   ]
  },
  {
   "cell_type": "markdown",
   "metadata": {},
   "source": [
    "<a href=\"#top\">Back to Top</a>\n",
    "<a id=\"P2\"></a>\n",
    "## 2.0 Training / Modeling\n",
    "\n",
    "<a id=\"P21\"></a>\n",
    "### Loading Embeddings and Lexicons"
   ]
  },
  {
   "cell_type": "code",
   "execution_count": 2,
   "metadata": {},
   "outputs": [],
   "source": [
    "import numpy as np\n",
    "import pandas as pd\n",
    "import matplotlib\n",
    "import seaborn\n",
    "import re\n",
    "import seaborn as sns\n",
    "import matplotlib.pyplot as plt\n",
    "import pandas as pd\n",
    "\n",
    "from sklearn.linear_model import SGDClassifier\n",
    "from sklearn.model_selection import train_test_split\n",
    "from sklearn.metrics import accuracy_score"
   ]
  },
  {
   "cell_type": "code",
   "execution_count": 3,
   "metadata": {},
   "outputs": [
    {
     "data": {
      "text/plain": [
       "(2196018, 300)"
      ]
     },
     "execution_count": 3,
     "metadata": {},
     "output_type": "execute_result"
    }
   ],
   "source": [
    "#this code is taken from LectureNotesMaster/01 ConceptNet.ipynb notebook shared by Prof E Larson/Robyn Speer\n",
    "\n",
    "def load_embeddings(filename):\n",
    "    \"\"\"\n",
    "    Load a DataFrame from the generalized text format used by word2vec, GloVe,\n",
    "    fastText, and ConceptNet Numberbatch. The main point where they differ is\n",
    "    whether there is an initial line with the dimensions of the matrix.\n",
    "    \"\"\"\n",
    "    labels = []\n",
    "    rows = []\n",
    "    with open(filename, encoding='utf-8') as infile:\n",
    "        for i, line in enumerate(infile):\n",
    "            items = line.rstrip().split(' ')\n",
    "            if len(items) == 2:\n",
    "                # This is a header row giving the shape of the matrix\n",
    "                continue\n",
    "            labels.append(items[0])\n",
    "            values = np.array([float(x) for x in items[1:]], 'f')\n",
    "            rows.append(values)\n",
    "    \n",
    "    arr = np.vstack(rows)\n",
    "    return pd.DataFrame(arr, index=labels, dtype='f')\n",
    "\n",
    "embeddings = load_embeddings('data/glove.840B.300d.txt')\n",
    "embeddings.shape"
   ]
  },
  {
   "cell_type": "code",
   "execution_count": 4,
   "metadata": {},
   "outputs": [
    {
     "name": "stdout",
     "output_type": "stream",
     "text": [
      "2006 4783\n"
     ]
    }
   ],
   "source": [
    "#Loading the lexicon\n",
    "def load_lexicon(filename):\n",
    "    \"\"\"\n",
    "    Load a file from Bing Liu's sentiment lexicon\n",
    "    (https://www.cs.uic.edu/~liub/FBS/sentiment-analysis.html), containing\n",
    "    English words in Latin-1 encoding.\n",
    "    \n",
    "    One file contains a list of positive words, and the other contains\n",
    "    a list of negative words. The files contain comment lines starting\n",
    "    with ';' and blank lines, which should be skipped.\n",
    "    \"\"\"\n",
    "    lexicon = []\n",
    "    with open(filename, encoding='latin-1') as infile:\n",
    "        for line in infile:\n",
    "            line = line.rstrip()\n",
    "            if line and not line.startswith(';'):\n",
    "                lexicon.append(line)\n",
    "    return lexicon\n",
    "\n",
    "pos_words = load_lexicon('data/positive-words.txt')\n",
    "neg_words = load_lexicon('data/negative-words.txt')\n",
    "\n",
    "print(len(pos_words), len(neg_words))"
   ]
  },
  {
   "cell_type": "markdown",
   "metadata": {},
   "source": [
    "### Preparing Sentiment Classifier"
   ]
  },
  {
   "cell_type": "code",
   "execution_count": 5,
   "metadata": {},
   "outputs": [
    {
     "name": "stdout",
     "output_type": "stream",
     "text": [
      "(1974, 300) (4642, 300)\n"
     ]
    }
   ],
   "source": [
    "#train the model\n",
    "pos_words_common = list(set(pos_words) & set(embeddings.index)) \n",
    "neg_words_common = list(set(neg_words) & set(embeddings.index)) \n",
    "\n",
    "pos_vectors = embeddings.loc[pos_words_common]\n",
    "neg_vectors = embeddings.loc[neg_words_common]\n",
    "print(pos_vectors.shape,neg_vectors.shape)"
   ]
  },
  {
   "cell_type": "code",
   "execution_count": 6,
   "metadata": {},
   "outputs": [],
   "source": [
    "#train the inputs and outputs\n",
    "vectors = pd.concat([pos_vectors, neg_vectors])\n",
    "targets = np.array([1 for entry in pos_vectors.index] + [-1 for entry in neg_vectors.index])\n",
    "labels = list(pos_vectors.index) + list(neg_vectors.index)"
   ]
  },
  {
   "cell_type": "code",
   "execution_count": 7,
   "metadata": {},
   "outputs": [],
   "source": [
    "#prep for train test split\n",
    "train_vectors, test_vectors, train_targets, test_targets, train_labels, test_labels = \\\n",
    "    train_test_split(vectors, targets, labels, test_size=0.1, random_state=0)"
   ]
  },
  {
   "cell_type": "code",
   "execution_count": 9,
   "metadata": {},
   "outputs": [
    {
     "data": {
      "text/plain": [
       "0.9425981873111783"
      ]
     },
     "execution_count": 9,
     "metadata": {},
     "output_type": "execute_result"
    }
   ],
   "source": [
    "# create a linear classifier \n",
    "model = SGDClassifier(loss='log_loss', random_state=0, max_iter=100)\n",
    "model.fit(train_vectors, train_targets)\n",
    "accuracy_score(model.predict(test_vectors), test_targets)\n",
    "\n"
   ]
  },
  {
   "cell_type": "markdown",
   "metadata": {},
   "source": [
    "### Sentiment Analysis Functions"
   ]
  },
  {
   "cell_type": "code",
   "execution_count": 10,
   "metadata": {},
   "outputs": [
    {
     "data": {
      "text/html": [
       "<div>\n",
       "<style scoped>\n",
       "    .dataframe tbody tr th:only-of-type {\n",
       "        vertical-align: middle;\n",
       "    }\n",
       "\n",
       "    .dataframe tbody tr th {\n",
       "        vertical-align: top;\n",
       "    }\n",
       "\n",
       "    .dataframe thead th {\n",
       "        text-align: right;\n",
       "    }\n",
       "</style>\n",
       "<table border=\"1\" class=\"dataframe\">\n",
       "  <thead>\n",
       "    <tr style=\"text-align: right;\">\n",
       "      <th></th>\n",
       "      <th>sentiment</th>\n",
       "    </tr>\n",
       "  </thead>\n",
       "  <tbody>\n",
       "    <tr>\n",
       "      <th>irritable</th>\n",
       "      <td>-15.595353</td>\n",
       "    </tr>\n",
       "    <tr>\n",
       "      <th>well-balanced</th>\n",
       "      <td>14.286387</td>\n",
       "    </tr>\n",
       "    <tr>\n",
       "      <th>scary</th>\n",
       "      <td>-12.960400</td>\n",
       "    </tr>\n",
       "    <tr>\n",
       "      <th>overwhelms</th>\n",
       "      <td>-4.049308</td>\n",
       "    </tr>\n",
       "    <tr>\n",
       "      <th>humorously</th>\n",
       "      <td>-1.533808</td>\n",
       "    </tr>\n",
       "    <tr>\n",
       "      <th>lustrous</th>\n",
       "      <td>13.123550</td>\n",
       "    </tr>\n",
       "    <tr>\n",
       "      <th>peacefully</th>\n",
       "      <td>5.328928</td>\n",
       "    </tr>\n",
       "    <tr>\n",
       "      <th>vent</th>\n",
       "      <td>-10.015804</td>\n",
       "    </tr>\n",
       "    <tr>\n",
       "      <th>hypocritically</th>\n",
       "      <td>-8.096680</td>\n",
       "    </tr>\n",
       "    <tr>\n",
       "      <th>harass</th>\n",
       "      <td>-14.672296</td>\n",
       "    </tr>\n",
       "    <tr>\n",
       "      <th>hooligan</th>\n",
       "      <td>-8.855366</td>\n",
       "    </tr>\n",
       "    <tr>\n",
       "      <th>aghast</th>\n",
       "      <td>-4.189315</td>\n",
       "    </tr>\n",
       "    <tr>\n",
       "      <th>simplifying</th>\n",
       "      <td>1.034283</td>\n",
       "    </tr>\n",
       "    <tr>\n",
       "      <th>desperately</th>\n",
       "      <td>-3.982729</td>\n",
       "    </tr>\n",
       "    <tr>\n",
       "      <th>harassment</th>\n",
       "      <td>-11.941646</td>\n",
       "    </tr>\n",
       "    <tr>\n",
       "      <th>tension</th>\n",
       "      <td>-4.356951</td>\n",
       "    </tr>\n",
       "    <tr>\n",
       "      <th>fiction</th>\n",
       "      <td>1.276891</td>\n",
       "    </tr>\n",
       "    <tr>\n",
       "      <th>irksomeness</th>\n",
       "      <td>-8.996072</td>\n",
       "    </tr>\n",
       "    <tr>\n",
       "      <th>unwillingness</th>\n",
       "      <td>-10.646648</td>\n",
       "    </tr>\n",
       "    <tr>\n",
       "      <th>gratify</th>\n",
       "      <td>4.149061</td>\n",
       "    </tr>\n",
       "  </tbody>\n",
       "</table>\n",
       "</div>"
      ],
      "text/plain": [
       "                sentiment\n",
       "irritable      -15.595353\n",
       "well-balanced   14.286387\n",
       "scary          -12.960400\n",
       "overwhelms      -4.049308\n",
       "humorously      -1.533808\n",
       "lustrous        13.123550\n",
       "peacefully       5.328928\n",
       "vent           -10.015804\n",
       "hypocritically  -8.096680\n",
       "harass         -14.672296\n",
       "hooligan        -8.855366\n",
       "aghast          -4.189315\n",
       "simplifying      1.034283\n",
       "desperately     -3.982729\n",
       "harassment     -11.941646\n",
       "tension         -4.356951\n",
       "fiction          1.276891\n",
       "irksomeness     -8.996072\n",
       "unwillingness  -10.646648\n",
       "gratify          4.149061"
      ]
     },
     "execution_count": 10,
     "metadata": {},
     "output_type": "execute_result"
    }
   ],
   "source": [
    "def vecs_to_sentiment(vecs):\n",
    "    # predict_log_proba gives the log probability for each class\n",
    "    predictions = model.predict_log_proba(vecs)\n",
    "\n",
    "    # To see an overall positive vs. negative classification in one number,\n",
    "    # we take the log probability of positive sentiment minus the log\n",
    "    # probability of negative sentiment.\n",
    "    # this is a logarithm of the max margin for the classifier, \n",
    "    # similar to odds ratio (but not exact) log(p_1/p_0) = log(p_1)-log(p_0)\n",
    "    return predictions[:, 1] - predictions[:, 0]\n",
    "\n",
    "\n",
    "def words_to_sentiment(words):\n",
    "    # Filter the list of words to only include those present in the embeddings\n",
    "    filtered_words = [word for word in words if word in embeddings.index]\n",
    "    \n",
    "    # If no words are found in the embeddings, return an empty DataFrame or some default sentiment value\n",
    "    if not filtered_words:\n",
    "        return pd.DataFrame({'sentiment': []})\n",
    "    \n",
    "    vecs = embeddings.loc[filtered_words].dropna()\n",
    "    log_odds = vecs_to_sentiment(vecs)\n",
    "    return pd.DataFrame({'sentiment': log_odds}, index=vecs.index)\n",
    "\n",
    "\n",
    "\n",
    "# Show 20 examples from the test set\n",
    "words_to_sentiment(test_labels).iloc[:20]"
   ]
  },
  {
   "cell_type": "code",
   "execution_count": 11,
   "metadata": {},
   "outputs": [],
   "source": [
    "#tokenize using regular expressions\n",
    "\n",
    "TOKEN_RE = re.compile(r\"\\w.*?\\b\")\n",
    "# The regex above finds tokens that start with a word-like character (\\w), and continues\n",
    "# matching characters (.+?) until the next word break (\\b). It's a relatively simple\n",
    "# expression that manages to extract something very much like words from text.\n",
    "\n",
    "\n",
    "def text_to_sentiment(text):\n",
    "    # Tokenize the input phrase\n",
    "    tokens = [token.casefold() for token in TOKEN_RE.findall(text)]\n",
    "    # Filter tokens to include only those that are in the embeddings' index\n",
    "    tokens = [token for token in tokens if token in embeddings.index]\n",
    "    \n",
    "    # If no tokens are found in the embeddings, return a default sentiment value, e.g., 0\n",
    "    if not tokens:\n",
    "        return 0  # This is a neutral sentiment score\n",
    "    \n",
    "    sentiments = words_to_sentiment(tokens)\n",
    "    if sentiments.empty:\n",
    "        return 0  # Again, returning a neutral sentiment score if no sentiments were computed\n",
    "    return sentiments['sentiment'].mean()  # Return the mean sentiment for the remaining tokens\n"
   ]
  },
  {
   "cell_type": "markdown",
   "metadata": {},
   "source": [
    "<a href=\"#top\">Back to Top</a><a id=\"P22\"></a>\n",
    "### Loading Movie Data"
   ]
  },
  {
   "cell_type": "code",
   "execution_count": 12,
   "metadata": {},
   "outputs": [
    {
     "data": {
      "text/html": [
       "<div>\n",
       "<style scoped>\n",
       "    .dataframe tbody tr th:only-of-type {\n",
       "        vertical-align: middle;\n",
       "    }\n",
       "\n",
       "    .dataframe tbody tr th {\n",
       "        vertical-align: top;\n",
       "    }\n",
       "\n",
       "    .dataframe thead th {\n",
       "        text-align: right;\n",
       "    }\n",
       "</style>\n",
       "<table border=\"1\" class=\"dataframe\">\n",
       "  <thead>\n",
       "    <tr style=\"text-align: right;\">\n",
       "      <th></th>\n",
       "      <th>name</th>\n",
       "      <th>year</th>\n",
       "      <th>movie_rated</th>\n",
       "      <th>run_length</th>\n",
       "      <th>genres</th>\n",
       "      <th>release_date</th>\n",
       "      <th>rating</th>\n",
       "      <th>num_raters</th>\n",
       "      <th>num_reviews</th>\n",
       "      <th>review_url</th>\n",
       "    </tr>\n",
       "  </thead>\n",
       "  <tbody>\n",
       "    <tr>\n",
       "      <th>0</th>\n",
       "      <td>Guardians of the Galaxy</td>\n",
       "      <td>2014</td>\n",
       "      <td>PG-13</td>\n",
       "      <td>2h 1min</td>\n",
       "      <td>Comedy;</td>\n",
       "      <td>1 August 2014 (USA)</td>\n",
       "      <td>8.0</td>\n",
       "      <td>1017578</td>\n",
       "      <td>1390</td>\n",
       "      <td>https://www.imdb.com/title/tt2015381/reviews/_...</td>\n",
       "    </tr>\n",
       "    <tr>\n",
       "      <th>1</th>\n",
       "      <td>Back to the Future</td>\n",
       "      <td>1985</td>\n",
       "      <td>PG</td>\n",
       "      <td>1h 56min</td>\n",
       "      <td>Comedy;</td>\n",
       "      <td>3 July 1985 (USA)</td>\n",
       "      <td>8.5</td>\n",
       "      <td>1015437</td>\n",
       "      <td>1178</td>\n",
       "      <td>https://www.imdb.com/title/tt0088763/reviews/_...</td>\n",
       "    </tr>\n",
       "    <tr>\n",
       "      <th>2</th>\n",
       "      <td>Finding Nemo</td>\n",
       "      <td>2003</td>\n",
       "      <td>G</td>\n",
       "      <td>1h 40min</td>\n",
       "      <td>Comedy;</td>\n",
       "      <td>30 May 2003 (USA)</td>\n",
       "      <td>8.1</td>\n",
       "      <td>922237</td>\n",
       "      <td>968</td>\n",
       "      <td>https://www.imdb.com/title/tt0266543/reviews/_...</td>\n",
       "    </tr>\n",
       "    <tr>\n",
       "      <th>3</th>\n",
       "      <td>Up</td>\n",
       "      <td>2009</td>\n",
       "      <td>PG</td>\n",
       "      <td>1h 36min</td>\n",
       "      <td>Comedy;</td>\n",
       "      <td>29 May 2009 (USA)</td>\n",
       "      <td>8.2</td>\n",
       "      <td>905205</td>\n",
       "      <td>891</td>\n",
       "      <td>https://www.imdb.com/title/tt1049413/reviews/_...</td>\n",
       "    </tr>\n",
       "    <tr>\n",
       "      <th>4</th>\n",
       "      <td>The Truman Show</td>\n",
       "      <td>1998</td>\n",
       "      <td>PG</td>\n",
       "      <td>1h 43min</td>\n",
       "      <td>Comedy;</td>\n",
       "      <td>5 June 1998 (USA)</td>\n",
       "      <td>8.1</td>\n",
       "      <td>901368</td>\n",
       "      <td>1152</td>\n",
       "      <td>https://www.imdb.com/title/tt0120382/reviews/_...</td>\n",
       "    </tr>\n",
       "  </tbody>\n",
       "</table>\n",
       "</div>"
      ],
      "text/plain": [
       "                      name  year movie_rated run_length    genres  \\\n",
       "0  Guardians of the Galaxy  2014       PG-13    2h 1min  Comedy;    \n",
       "1       Back to the Future  1985          PG   1h 56min  Comedy;    \n",
       "2             Finding Nemo  2003           G   1h 40min  Comedy;    \n",
       "3                       Up  2009          PG   1h 36min  Comedy;    \n",
       "4          The Truman Show  1998          PG   1h 43min  Comedy;    \n",
       "\n",
       "          release_date  rating  num_raters  num_reviews  \\\n",
       "0  1 August 2014 (USA)     8.0     1017578         1390   \n",
       "1    3 July 1985 (USA)     8.5     1015437         1178   \n",
       "2    30 May 2003 (USA)     8.1      922237          968   \n",
       "3    29 May 2009 (USA)     8.2      905205          891   \n",
       "4    5 June 1998 (USA)     8.1      901368         1152   \n",
       "\n",
       "                                          review_url  \n",
       "0  https://www.imdb.com/title/tt2015381/reviews/_...  \n",
       "1  https://www.imdb.com/title/tt0088763/reviews/_...  \n",
       "2  https://www.imdb.com/title/tt0266543/reviews/_...  \n",
       "3  https://www.imdb.com/title/tt1049413/reviews/_...  \n",
       "4  https://www.imdb.com/title/tt0120382/reviews/_...  "
      ]
     },
     "execution_count": 12,
     "metadata": {},
     "output_type": "execute_result"
    }
   ],
   "source": [
    "#Load the movie list for Comedy\n",
    "import pandas as pd\n",
    "df_cat1_movies = pd.read_csv('data/movie_dataset/1_movies_per_genre/Comedy.csv', sep = ',')\n",
    "df_cat1_movies.head()"
   ]
  },
  {
   "cell_type": "code",
   "execution_count": 13,
   "metadata": {},
   "outputs": [
    {
     "data": {
      "text/html": [
       "<div>\n",
       "<style scoped>\n",
       "    .dataframe tbody tr th:only-of-type {\n",
       "        vertical-align: middle;\n",
       "    }\n",
       "\n",
       "    .dataframe tbody tr th {\n",
       "        vertical-align: top;\n",
       "    }\n",
       "\n",
       "    .dataframe thead th {\n",
       "        text-align: right;\n",
       "    }\n",
       "</style>\n",
       "<table border=\"1\" class=\"dataframe\">\n",
       "  <thead>\n",
       "    <tr style=\"text-align: right;\">\n",
       "      <th></th>\n",
       "      <th>name</th>\n",
       "      <th>year</th>\n",
       "      <th>movie_rated</th>\n",
       "      <th>run_length</th>\n",
       "      <th>genres</th>\n",
       "      <th>release_date</th>\n",
       "      <th>rating</th>\n",
       "      <th>num_raters</th>\n",
       "      <th>num_reviews</th>\n",
       "      <th>review_url</th>\n",
       "    </tr>\n",
       "  </thead>\n",
       "  <tbody>\n",
       "    <tr>\n",
       "      <th>0</th>\n",
       "      <td>The Shining</td>\n",
       "      <td>1980</td>\n",
       "      <td>R</td>\n",
       "      <td>2h 26min</td>\n",
       "      <td>Drama; Horror;</td>\n",
       "      <td>13 June 1980 (USA)</td>\n",
       "      <td>8.4</td>\n",
       "      <td>860290</td>\n",
       "      <td>1805</td>\n",
       "      <td>https://www.imdb.com/title/tt0081505/reviews/_...</td>\n",
       "    </tr>\n",
       "    <tr>\n",
       "      <th>1</th>\n",
       "      <td>Alien</td>\n",
       "      <td>1979</td>\n",
       "      <td>R</td>\n",
       "      <td>1h 57min</td>\n",
       "      <td>Horror; Sci-Fi;</td>\n",
       "      <td>22 June 1979 (USA)</td>\n",
       "      <td>8.4</td>\n",
       "      <td>762793</td>\n",
       "      <td>1423</td>\n",
       "      <td>https://www.imdb.com/title/tt0078748/reviews/_...</td>\n",
       "    </tr>\n",
       "    <tr>\n",
       "      <th>2</th>\n",
       "      <td>World War Z</td>\n",
       "      <td>2013</td>\n",
       "      <td>PG-13</td>\n",
       "      <td>1h 56min</td>\n",
       "      <td>Action; Adventure; Horror;</td>\n",
       "      <td>21 June 2013 (USA)</td>\n",
       "      <td>7.0</td>\n",
       "      <td>586801</td>\n",
       "      <td>1125</td>\n",
       "      <td>https://www.imdb.com/title/tt0816711/reviews/_...</td>\n",
       "    </tr>\n",
       "    <tr>\n",
       "      <th>3</th>\n",
       "      <td>Psycho</td>\n",
       "      <td>1960</td>\n",
       "      <td>R</td>\n",
       "      <td>1h 49min</td>\n",
       "      <td>Horror; Mystery; Thriller;</td>\n",
       "      <td>8 September 1960 (USA)</td>\n",
       "      <td>8.5</td>\n",
       "      <td>580951</td>\n",
       "      <td>1263</td>\n",
       "      <td>https://www.imdb.com/title/tt0054215/reviews/_...</td>\n",
       "    </tr>\n",
       "    <tr>\n",
       "      <th>4</th>\n",
       "      <td>Shaun of the Dead</td>\n",
       "      <td>2004</td>\n",
       "      <td>R</td>\n",
       "      <td>1h 39min</td>\n",
       "      <td>Comedy; Horror;</td>\n",
       "      <td>24 September 2004 (USA)</td>\n",
       "      <td>7.9</td>\n",
       "      <td>499244</td>\n",
       "      <td>971</td>\n",
       "      <td>https://www.imdb.com/title/tt0365748/reviews/_...</td>\n",
       "    </tr>\n",
       "  </tbody>\n",
       "</table>\n",
       "</div>"
      ],
      "text/plain": [
       "                name  year movie_rated run_length  \\\n",
       "0        The Shining  1980           R   2h 26min   \n",
       "1              Alien  1979           R   1h 57min   \n",
       "2        World War Z  2013       PG-13   1h 56min   \n",
       "3             Psycho  1960           R   1h 49min   \n",
       "4  Shaun of the Dead  2004           R   1h 39min   \n",
       "\n",
       "                        genres             release_date  rating  num_raters  \\\n",
       "0              Drama; Horror;        13 June 1980 (USA)     8.4      860290   \n",
       "1             Horror; Sci-Fi;        22 June 1979 (USA)     8.4      762793   \n",
       "2  Action; Adventure; Horror;        21 June 2013 (USA)     7.0      586801   \n",
       "3  Horror; Mystery; Thriller;    8 September 1960 (USA)     8.5      580951   \n",
       "4             Comedy; Horror;   24 September 2004 (USA)     7.9      499244   \n",
       "\n",
       "   num_reviews                                         review_url  \n",
       "0         1805  https://www.imdb.com/title/tt0081505/reviews/_...  \n",
       "1         1423  https://www.imdb.com/title/tt0078748/reviews/_...  \n",
       "2         1125  https://www.imdb.com/title/tt0816711/reviews/_...  \n",
       "3         1263  https://www.imdb.com/title/tt0054215/reviews/_...  \n",
       "4          971  https://www.imdb.com/title/tt0365748/reviews/_...  "
      ]
     },
     "execution_count": 13,
     "metadata": {},
     "output_type": "execute_result"
    }
   ],
   "source": [
    "df_cat2_movies = pd.read_csv('data/movie_dataset/1_movies_per_genre/Horror.csv', sep = ',')\n",
    "df_cat2_movies.head()"
   ]
  },
  {
   "cell_type": "code",
   "execution_count": 14,
   "metadata": {},
   "outputs": [],
   "source": [
    "#I feel name, year and genres cols in the csv files are sufficient to retain, drop the rest, add cols back in as needed\n",
    "df_cat1_movies_lim=df_cat1_movies[['name', 'year',  'genres']]\n",
    "df_cat2_movies_lim=df_cat2_movies[['name', 'year', 'genres']]"
   ]
  },
  {
   "cell_type": "code",
   "execution_count": 15,
   "metadata": {},
   "outputs": [
    {
     "data": {
      "text/html": [
       "<div>\n",
       "<style scoped>\n",
       "    .dataframe tbody tr th:only-of-type {\n",
       "        vertical-align: middle;\n",
       "    }\n",
       "\n",
       "    .dataframe tbody tr th {\n",
       "        vertical-align: top;\n",
       "    }\n",
       "\n",
       "    .dataframe thead th {\n",
       "        text-align: right;\n",
       "    }\n",
       "</style>\n",
       "<table border=\"1\" class=\"dataframe\">\n",
       "  <thead>\n",
       "    <tr style=\"text-align: right;\">\n",
       "      <th></th>\n",
       "      <th>name</th>\n",
       "      <th>year</th>\n",
       "      <th>genres</th>\n",
       "      <th>file_name</th>\n",
       "    </tr>\n",
       "  </thead>\n",
       "  <tbody>\n",
       "    <tr>\n",
       "      <th>0</th>\n",
       "      <td>Guardians of the Galaxy</td>\n",
       "      <td>2014</td>\n",
       "      <td>Comedy;</td>\n",
       "      <td>Guardians of the Galaxy 2014.csv</td>\n",
       "    </tr>\n",
       "    <tr>\n",
       "      <th>1</th>\n",
       "      <td>Back to the Future</td>\n",
       "      <td>1985</td>\n",
       "      <td>Comedy;</td>\n",
       "      <td>Back to the Future 1985.csv</td>\n",
       "    </tr>\n",
       "    <tr>\n",
       "      <th>2</th>\n",
       "      <td>Finding Nemo</td>\n",
       "      <td>2003</td>\n",
       "      <td>Comedy;</td>\n",
       "      <td>Finding Nemo 2003.csv</td>\n",
       "    </tr>\n",
       "    <tr>\n",
       "      <th>3</th>\n",
       "      <td>Up</td>\n",
       "      <td>2009</td>\n",
       "      <td>Comedy;</td>\n",
       "      <td>Up 2009.csv</td>\n",
       "    </tr>\n",
       "    <tr>\n",
       "      <th>4</th>\n",
       "      <td>The Truman Show</td>\n",
       "      <td>1998</td>\n",
       "      <td>Comedy;</td>\n",
       "      <td>The Truman Show 1998.csv</td>\n",
       "    </tr>\n",
       "  </tbody>\n",
       "</table>\n",
       "</div>"
      ],
      "text/plain": [
       "                      name  year    genres                         file_name\n",
       "0  Guardians of the Galaxy  2014  Comedy;   Guardians of the Galaxy 2014.csv\n",
       "1       Back to the Future  1985  Comedy;        Back to the Future 1985.csv\n",
       "2             Finding Nemo  2003  Comedy;              Finding Nemo 2003.csv\n",
       "3                       Up  2009  Comedy;                        Up 2009.csv\n",
       "4          The Truman Show  1998  Comedy;           The Truman Show 1998.csv"
      ]
     },
     "execution_count": 15,
     "metadata": {},
     "output_type": "execute_result"
    }
   ],
   "source": [
    "df_concat_movies = pd.concat([df_cat1_movies_lim, df_cat2_movies_lim])\n",
    "df_concat_movies['file_name'] = df_concat_movies['name'] + ' ' + df_concat_movies['year'].astype(str) + '.csv'\n",
    "\n",
    "df_concat_movies.head()"
   ]
  },
  {
   "cell_type": "markdown",
   "metadata": {},
   "source": [
    "### Combining Movie Reviews"
   ]
  },
  {
   "cell_type": "code",
   "execution_count": 16,
   "metadata": {},
   "outputs": [],
   "source": [
    "#https://www.geeksforgeeks.org/how-to-iterate-over-files-in-directory-using-python/\n",
    "# and https://stackoverflow.com/questions/20906474/import-multiple-csv-files-into-pandas-and-concatenate-into-one-dataframe\n",
    "import os\n",
    "directory = 'data/movie_dataset/2_reviews_per_movie_raw'\n",
    "\n",
    "dfs = list()\n",
    "\n",
    "# iterate over files in\n",
    "# that directory\n",
    "for filename in os.listdir(directory):\t\n",
    "\t#print('looking for :', filename) \n",
    "\tif df_concat_movies['file_name'].eq(filename).any():\t\t\n",
    "\t\tdata = pd.read_csv(os.path.join(directory, filename), header=None)\n",
    "\t\tdata['file_name'] = filename\n",
    "#\t\tdata['genre'] = df_concat_movies['genres']        \n",
    "\t\tdfs.append(data)\n",
    "df = pd.concat(dfs, ignore_index=True)"
   ]
  },
  {
   "cell_type": "markdown",
   "metadata": {},
   "source": [
    "Continuing with some data cleanup"
   ]
  },
  {
   "cell_type": "code",
   "execution_count": 17,
   "metadata": {},
   "outputs": [
    {
     "data": {
      "text/html": [
       "<div>\n",
       "<style scoped>\n",
       "    .dataframe tbody tr th:only-of-type {\n",
       "        vertical-align: middle;\n",
       "    }\n",
       "\n",
       "    .dataframe tbody tr th {\n",
       "        vertical-align: top;\n",
       "    }\n",
       "\n",
       "    .dataframe thead th {\n",
       "        text-align: right;\n",
       "    }\n",
       "</style>\n",
       "<table border=\"1\" class=\"dataframe\">\n",
       "  <thead>\n",
       "    <tr style=\"text-align: right;\">\n",
       "      <th></th>\n",
       "      <th>film name</th>\n",
       "      <th>year</th>\n",
       "      <th>genre</th>\n",
       "      <th>rating</th>\n",
       "      <th>review</th>\n",
       "    </tr>\n",
       "  </thead>\n",
       "  <tbody>\n",
       "    <tr>\n",
       "      <th>0</th>\n",
       "      <td>Guardians of the Galaxy</td>\n",
       "      <td>2014</td>\n",
       "      <td>Comedy</td>\n",
       "      <td>10</td>\n",
       "      <td>Guardians of the Galaxy is nothing short of an...</td>\n",
       "    </tr>\n",
       "    <tr>\n",
       "      <th>1</th>\n",
       "      <td>Guardians of the Galaxy</td>\n",
       "      <td>2014</td>\n",
       "      <td>Comedy</td>\n",
       "      <td>9</td>\n",
       "      <td>I originally saw in the theater which was grea...</td>\n",
       "    </tr>\n",
       "    <tr>\n",
       "      <th>2</th>\n",
       "      <td>Guardians of the Galaxy</td>\n",
       "      <td>2014</td>\n",
       "      <td>Comedy</td>\n",
       "      <td>9</td>\n",
       "      <td>I remember sitting in Hall H at Comic-Con two ...</td>\n",
       "    </tr>\n",
       "    <tr>\n",
       "      <th>3</th>\n",
       "      <td>Guardians of the Galaxy</td>\n",
       "      <td>2014</td>\n",
       "      <td>Comedy</td>\n",
       "      <td>9</td>\n",
       "      <td>Expectations: surpassed - and they were pretty...</td>\n",
       "    </tr>\n",
       "    <tr>\n",
       "      <th>4</th>\n",
       "      <td>Guardians of the Galaxy</td>\n",
       "      <td>2014</td>\n",
       "      <td>Comedy</td>\n",
       "      <td>10</td>\n",
       "      <td>I entitle my review A New Hope as I walk out o...</td>\n",
       "    </tr>\n",
       "  </tbody>\n",
       "</table>\n",
       "</div>"
      ],
      "text/plain": [
       "0                film name  year    genre rating  \\\n",
       "0  Guardians of the Galaxy  2014  Comedy      10   \n",
       "1  Guardians of the Galaxy  2014  Comedy       9   \n",
       "2  Guardians of the Galaxy  2014  Comedy       9   \n",
       "3  Guardians of the Galaxy  2014  Comedy       9   \n",
       "4  Guardians of the Galaxy  2014  Comedy      10   \n",
       "\n",
       "0                                             review  \n",
       "0  Guardians of the Galaxy is nothing short of an...  \n",
       "1  I originally saw in the theater which was grea...  \n",
       "2  I remember sitting in Hall H at Comic-Con two ...  \n",
       "3  Expectations: surpassed - and they were pretty...  \n",
       "4  I entitle my review A New Hope as I walk out o...  "
      ]
     },
     "execution_count": 17,
     "metadata": {},
     "output_type": "execute_result"
    }
   ],
   "source": [
    "df = pd.DataFrame(df)\n",
    "df = df.rename(columns={\"filename\": \"file_name\"})\n",
    "df_all = df_concat_movies.merge(df)\n",
    "df_all.columns = df_all.iloc[0]\n",
    "df_all = df_all[1:]\n",
    "df_all = df_all.reset_index(drop=True)\n",
    "# Fixing a weird result from the merge - this seems to work ok\n",
    "df_all = df_all.rename(columns={\"Guardians of the Galaxy\": \"film name\", 2014: \"year\", 'Comedy; ': \"genre\", \"Guardians of the Galaxy 2014.csv\": \"file_name\"})\n",
    "df_all = df_all.drop(columns=['file_name','username', 'helpful', 'total', 'date','title'])\n",
    "df_all['genre'] = df_all['genre'].str.replace(';','',regex=True)\n",
    "df_all.head()"
   ]
  },
  {
   "cell_type": "code",
   "execution_count": 18,
   "metadata": {},
   "outputs": [],
   "source": [
    "df_all.to_csv('df_all.csv', index=False)"
   ]
  },
  {
   "cell_type": "code",
   "execution_count": 78,
   "metadata": {},
   "outputs": [],
   "source": [
    "df_all = pd.read_csv('df_all.csv')"
   ]
  },
  {
   "cell_type": "code",
   "execution_count": 79,
   "metadata": {},
   "outputs": [
    {
     "data": {
      "text/html": [
       "<div>\n",
       "<style scoped>\n",
       "    .dataframe tbody tr th:only-of-type {\n",
       "        vertical-align: middle;\n",
       "    }\n",
       "\n",
       "    .dataframe tbody tr th {\n",
       "        vertical-align: top;\n",
       "    }\n",
       "\n",
       "    .dataframe thead th {\n",
       "        text-align: right;\n",
       "    }\n",
       "</style>\n",
       "<table border=\"1\" class=\"dataframe\">\n",
       "  <thead>\n",
       "    <tr style=\"text-align: right;\">\n",
       "      <th></th>\n",
       "      <th>film name</th>\n",
       "      <th>year</th>\n",
       "      <th>genre</th>\n",
       "      <th>rating</th>\n",
       "      <th>review</th>\n",
       "    </tr>\n",
       "  </thead>\n",
       "  <tbody>\n",
       "    <tr>\n",
       "      <th>0</th>\n",
       "      <td>Guardians of the Galaxy</td>\n",
       "      <td>2014</td>\n",
       "      <td>Comedy</td>\n",
       "      <td>10</td>\n",
       "      <td>Guardians of the Galaxy is nothing short of an...</td>\n",
       "    </tr>\n",
       "    <tr>\n",
       "      <th>1</th>\n",
       "      <td>Guardians of the Galaxy</td>\n",
       "      <td>2014</td>\n",
       "      <td>Comedy</td>\n",
       "      <td>9</td>\n",
       "      <td>I originally saw in the theater which was grea...</td>\n",
       "    </tr>\n",
       "    <tr>\n",
       "      <th>2</th>\n",
       "      <td>Guardians of the Galaxy</td>\n",
       "      <td>2014</td>\n",
       "      <td>Comedy</td>\n",
       "      <td>9</td>\n",
       "      <td>I remember sitting in Hall H at Comic-Con two ...</td>\n",
       "    </tr>\n",
       "    <tr>\n",
       "      <th>3</th>\n",
       "      <td>Guardians of the Galaxy</td>\n",
       "      <td>2014</td>\n",
       "      <td>Comedy</td>\n",
       "      <td>9</td>\n",
       "      <td>Expectations: surpassed - and they were pretty...</td>\n",
       "    </tr>\n",
       "    <tr>\n",
       "      <th>4</th>\n",
       "      <td>Guardians of the Galaxy</td>\n",
       "      <td>2014</td>\n",
       "      <td>Comedy</td>\n",
       "      <td>10</td>\n",
       "      <td>I entitle my review A New Hope as I walk out o...</td>\n",
       "    </tr>\n",
       "  </tbody>\n",
       "</table>\n",
       "</div>"
      ],
      "text/plain": [
       "                 film name  year    genre rating  \\\n",
       "0  Guardians of the Galaxy  2014  Comedy      10   \n",
       "1  Guardians of the Galaxy  2014  Comedy       9   \n",
       "2  Guardians of the Galaxy  2014  Comedy       9   \n",
       "3  Guardians of the Galaxy  2014  Comedy       9   \n",
       "4  Guardians of the Galaxy  2014  Comedy      10   \n",
       "\n",
       "                                              review  \n",
       "0  Guardians of the Galaxy is nothing short of an...  \n",
       "1  I originally saw in the theater which was grea...  \n",
       "2  I remember sitting in Hall H at Comic-Con two ...  \n",
       "3  Expectations: surpassed - and they were pretty...  \n",
       "4  I entitle my review A New Hope as I walk out o...  "
      ]
     },
     "execution_count": 79,
     "metadata": {},
     "output_type": "execute_result"
    }
   ],
   "source": [
    "df_all.head()"
   ]
  },
  {
   "cell_type": "code",
   "execution_count": 27,
   "metadata": {},
   "outputs": [],
   "source": [
    "def drop_null_ratings(df):\n",
    "    # Convert non-numeric values to NaN in the \"rating\" column\n",
    "    df['rating'] = pd.to_numeric(df['rating'], errors='coerce')\n",
    "\n",
    "    # Drop rows where \"rating\" is NaN\n",
    "    df = df.dropna(subset=['rating'])\n",
    "\n",
    "    return df"
   ]
  },
  {
   "cell_type": "code",
   "execution_count": 28,
   "metadata": {},
   "outputs": [
    {
     "name": "stderr",
     "output_type": "stream",
     "text": [
      "C:\\Users\\Oliver\\AppData\\Local\\Temp\\ipykernel_7632\\3443147479.py:3: SettingWithCopyWarning: \n",
      "A value is trying to be set on a copy of a slice from a DataFrame.\n",
      "Try using .loc[row_indexer,col_indexer] = value instead\n",
      "\n",
      "See the caveats in the documentation: https://pandas.pydata.org/pandas-docs/stable/user_guide/indexing.html#returning-a-view-versus-a-copy\n",
      "  df['rating'] = pd.to_numeric(df['rating'], errors='coerce')\n",
      "C:\\Users\\Oliver\\AppData\\Local\\Temp\\ipykernel_7632\\3443147479.py:3: SettingWithCopyWarning: \n",
      "A value is trying to be set on a copy of a slice from a DataFrame.\n",
      "Try using .loc[row_indexer,col_indexer] = value instead\n",
      "\n",
      "See the caveats in the documentation: https://pandas.pydata.org/pandas-docs/stable/user_guide/indexing.html#returning-a-view-versus-a-copy\n",
      "  df['rating'] = pd.to_numeric(df['rating'], errors='coerce')\n"
     ]
    }
   ],
   "source": [
    "# Filter for 'Comedy' genre only (excluding rows that also contain 'Horror')\n",
    "df_romcom = df_all[df_all['genre'].str.contains('Comedy') & ~df_all['genre'].str.contains('Horror')]\n",
    "\n",
    "# Filter for 'Horror' genre only (excluding rows that also contain 'Comedy')\n",
    "df_horror = df_all[df_all['genre'].str.contains('Horror') & ~df_all['genre'].str.contains('Comedy')]\n",
    "\n",
    "df_romcom = drop_null_ratings(df_romcom)\n",
    "df_horror = drop_null_ratings(df_horror)"
   ]
  },
  {
   "cell_type": "code",
   "execution_count": 29,
   "metadata": {},
   "outputs": [
    {
     "data": {
      "text/html": [
       "<div>\n",
       "<style scoped>\n",
       "    .dataframe tbody tr th:only-of-type {\n",
       "        vertical-align: middle;\n",
       "    }\n",
       "\n",
       "    .dataframe tbody tr th {\n",
       "        vertical-align: top;\n",
       "    }\n",
       "\n",
       "    .dataframe thead th {\n",
       "        text-align: right;\n",
       "    }\n",
       "</style>\n",
       "<table border=\"1\" class=\"dataframe\">\n",
       "  <thead>\n",
       "    <tr style=\"text-align: right;\">\n",
       "      <th></th>\n",
       "      <th>film name</th>\n",
       "      <th>year</th>\n",
       "      <th>genre</th>\n",
       "      <th>rating</th>\n",
       "      <th>review</th>\n",
       "    </tr>\n",
       "  </thead>\n",
       "  <tbody>\n",
       "    <tr>\n",
       "      <th>0</th>\n",
       "      <td>Guardians of the Galaxy</td>\n",
       "      <td>2014</td>\n",
       "      <td>Comedy</td>\n",
       "      <td>10.0</td>\n",
       "      <td>Guardians of the Galaxy is nothing short of an...</td>\n",
       "    </tr>\n",
       "    <tr>\n",
       "      <th>1</th>\n",
       "      <td>Guardians of the Galaxy</td>\n",
       "      <td>2014</td>\n",
       "      <td>Comedy</td>\n",
       "      <td>9.0</td>\n",
       "      <td>I originally saw in the theater which was grea...</td>\n",
       "    </tr>\n",
       "    <tr>\n",
       "      <th>2</th>\n",
       "      <td>Guardians of the Galaxy</td>\n",
       "      <td>2014</td>\n",
       "      <td>Comedy</td>\n",
       "      <td>9.0</td>\n",
       "      <td>I remember sitting in Hall H at Comic-Con two ...</td>\n",
       "    </tr>\n",
       "    <tr>\n",
       "      <th>3</th>\n",
       "      <td>Guardians of the Galaxy</td>\n",
       "      <td>2014</td>\n",
       "      <td>Comedy</td>\n",
       "      <td>9.0</td>\n",
       "      <td>Expectations: surpassed - and they were pretty...</td>\n",
       "    </tr>\n",
       "    <tr>\n",
       "      <th>4</th>\n",
       "      <td>Guardians of the Galaxy</td>\n",
       "      <td>2014</td>\n",
       "      <td>Comedy</td>\n",
       "      <td>10.0</td>\n",
       "      <td>I entitle my review A New Hope as I walk out o...</td>\n",
       "    </tr>\n",
       "  </tbody>\n",
       "</table>\n",
       "</div>"
      ],
      "text/plain": [
       "0                film name  year    genre  rating  \\\n",
       "0  Guardians of the Galaxy  2014  Comedy     10.0   \n",
       "1  Guardians of the Galaxy  2014  Comedy      9.0   \n",
       "2  Guardians of the Galaxy  2014  Comedy      9.0   \n",
       "3  Guardians of the Galaxy  2014  Comedy      9.0   \n",
       "4  Guardians of the Galaxy  2014  Comedy     10.0   \n",
       "\n",
       "0                                             review  \n",
       "0  Guardians of the Galaxy is nothing short of an...  \n",
       "1  I originally saw in the theater which was grea...  \n",
       "2  I remember sitting in Hall H at Comic-Con two ...  \n",
       "3  Expectations: surpassed - and they were pretty...  \n",
       "4  I entitle my review A New Hope as I walk out o...  "
      ]
     },
     "execution_count": 29,
     "metadata": {},
     "output_type": "execute_result"
    }
   ],
   "source": [
    "df_romcom.head()"
   ]
  },
  {
   "cell_type": "code",
   "execution_count": 30,
   "metadata": {},
   "outputs": [
    {
     "data": {
      "text/html": [
       "<div>\n",
       "<style scoped>\n",
       "    .dataframe tbody tr th:only-of-type {\n",
       "        vertical-align: middle;\n",
       "    }\n",
       "\n",
       "    .dataframe tbody tr th {\n",
       "        vertical-align: top;\n",
       "    }\n",
       "\n",
       "    .dataframe thead th {\n",
       "        text-align: right;\n",
       "    }\n",
       "</style>\n",
       "<table border=\"1\" class=\"dataframe\">\n",
       "  <thead>\n",
       "    <tr style=\"text-align: right;\">\n",
       "      <th></th>\n",
       "      <th>film name</th>\n",
       "      <th>year</th>\n",
       "      <th>genre</th>\n",
       "      <th>rating</th>\n",
       "      <th>review</th>\n",
       "    </tr>\n",
       "  </thead>\n",
       "  <tbody>\n",
       "    <tr>\n",
       "      <th>79764</th>\n",
       "      <td>The Shining</td>\n",
       "      <td>1980</td>\n",
       "      <td>Drama Horror</td>\n",
       "      <td>9.0</td>\n",
       "      <td>Even though The Shining is over a quarter of a...</td>\n",
       "    </tr>\n",
       "    <tr>\n",
       "      <th>79765</th>\n",
       "      <td>The Shining</td>\n",
       "      <td>1980</td>\n",
       "      <td>Drama Horror</td>\n",
       "      <td>9.0</td>\n",
       "      <td>Chilling, majestic piece of cinematic fright, ...</td>\n",
       "    </tr>\n",
       "    <tr>\n",
       "      <th>79768</th>\n",
       "      <td>The Shining</td>\n",
       "      <td>1980</td>\n",
       "      <td>Drama Horror</td>\n",
       "      <td>10.0</td>\n",
       "      <td>The Shining, you know what's weird about this ...</td>\n",
       "    </tr>\n",
       "    <tr>\n",
       "      <th>79769</th>\n",
       "      <td>The Shining</td>\n",
       "      <td>1980</td>\n",
       "      <td>Drama Horror</td>\n",
       "      <td>10.0</td>\n",
       "      <td>Okay, okay, maybe not THE greatest. I mean, Th...</td>\n",
       "    </tr>\n",
       "    <tr>\n",
       "      <th>79772</th>\n",
       "      <td>The Shining</td>\n",
       "      <td>1980</td>\n",
       "      <td>Drama Horror</td>\n",
       "      <td>5.0</td>\n",
       "      <td>Once again, I decided to check out a highly re...</td>\n",
       "    </tr>\n",
       "  </tbody>\n",
       "</table>\n",
       "</div>"
      ],
      "text/plain": [
       "0        film name  year          genre  rating  \\\n",
       "79764  The Shining  1980  Drama Horror      9.0   \n",
       "79765  The Shining  1980  Drama Horror      9.0   \n",
       "79768  The Shining  1980  Drama Horror     10.0   \n",
       "79769  The Shining  1980  Drama Horror     10.0   \n",
       "79772  The Shining  1980  Drama Horror      5.0   \n",
       "\n",
       "0                                                 review  \n",
       "79764  Even though The Shining is over a quarter of a...  \n",
       "79765  Chilling, majestic piece of cinematic fright, ...  \n",
       "79768  The Shining, you know what's weird about this ...  \n",
       "79769  Okay, okay, maybe not THE greatest. I mean, Th...  \n",
       "79772  Once again, I decided to check out a highly re...  "
      ]
     },
     "execution_count": 30,
     "metadata": {},
     "output_type": "execute_result"
    }
   ],
   "source": [
    "df_horror.head()"
   ]
  },
  {
   "cell_type": "markdown",
   "metadata": {},
   "source": [
    "We have 174941 rows of movie reviews, with 5 columns of information: \n",
    "- Film Name\n",
    "- Year\n",
    "- Genre\n",
    "- Rating\n",
    "- Review\n"
   ]
  },
  {
   "cell_type": "markdown",
   "metadata": {},
   "source": [
    "<a href=\"#top\">Back to Top</a>\n",
    "<a id=\"P23\"></a>\n",
    "### Sentiment Analysis with GloVe"
   ]
  },
  {
   "cell_type": "code",
   "execution_count": null,
   "metadata": {},
   "outputs": [
    {
     "data": {
      "text/plain": [
       "'\\n# Apply the text_to_sentiment function to each review in the df_romcom DataFrame\\ndf_romcom[\\'sentiment\\'] = df_romcom[\\'review\\'].apply(text_to_sentiment)\\n\\n# Calculate the average sentiment for comedies\\naverage_sentiment_comedy = df_romcom[\\'sentiment\\'].mean()\\n\\n# Apply the text_to_sentiment function to each review in the df_horror DataFrame\\ndf_horror[\\'sentiment\\'] = df_horror[\\'review\\'].apply(text_to_sentiment)\\n\\n# Calculate the average sentiment for horror movies\\naverage_sentiment_horror = df_horror[\\'sentiment\\'].mean()\\n\\n# Print the average sentiments\\nprint(f\"Average Sentiment for Comedies: {average_sentiment_comedy}\")\\nprint(f\"Average Sentiment for Horror Movies: {average_sentiment_horror}\")\\n'"
      ]
     },
     "execution_count": 25,
     "metadata": {},
     "output_type": "execute_result"
    }
   ],
   "source": [
    "# The following code (getting sentiment from GloVe) takes about 6 hours to run.\n",
    "# Instead, use the CSV files below which contain the sentiments from the output.\n",
    "\"\"\"\n",
    "# Apply the text_to_sentiment function to each review in the df_romcom DataFrame\n",
    "df_romcom['sentiment'] = df_romcom['review'].apply(text_to_sentiment)\n",
    "\n",
    "# Calculate the average sentiment for comedies\n",
    "average_sentiment_comedy = df_romcom['sentiment'].mean()\n",
    "\n",
    "# Apply the text_to_sentiment function to each review in the df_horror DataFrame\n",
    "df_horror['sentiment'] = df_horror['review'].apply(text_to_sentiment)\n",
    "\n",
    "# Calculate the average sentiment for horror movies\n",
    "average_sentiment_horror = df_horror['sentiment'].mean()\n",
    "\n",
    "# Print the average sentiments\n",
    "print(f\"Average Sentiment for Comedies: {average_sentiment_comedy}\")\n",
    "print(f\"Average Sentiment for Horror Movies: {average_sentiment_horror}\")\n",
    "\"\"\""
   ]
  },
  {
   "cell_type": "code",
   "execution_count": 31,
   "metadata": {},
   "outputs": [],
   "source": [
    "#Average Sentiment for Comedies: 0.36794964103811045\n",
    "average_sentiment_comedy = 0.36794964103811045\n",
    "#Average Sentiment for Horror Movies: -0.15294894375162382\n",
    "average_sentiment_horror = -0.15294894375162382"
   ]
  },
  {
   "cell_type": "code",
   "execution_count": 32,
   "metadata": {},
   "outputs": [
    {
     "data": {
      "text/html": [
       "<div>\n",
       "<style scoped>\n",
       "    .dataframe tbody tr th:only-of-type {\n",
       "        vertical-align: middle;\n",
       "    }\n",
       "\n",
       "    .dataframe tbody tr th {\n",
       "        vertical-align: top;\n",
       "    }\n",
       "\n",
       "    .dataframe thead th {\n",
       "        text-align: right;\n",
       "    }\n",
       "</style>\n",
       "<table border=\"1\" class=\"dataframe\">\n",
       "  <thead>\n",
       "    <tr style=\"text-align: right;\">\n",
       "      <th></th>\n",
       "      <th>film name</th>\n",
       "      <th>rating</th>\n",
       "      <th>sentiment</th>\n",
       "    </tr>\n",
       "  </thead>\n",
       "  <tbody>\n",
       "    <tr>\n",
       "      <th>0</th>\n",
       "      <td>Guardians of the Galaxy</td>\n",
       "      <td>10</td>\n",
       "      <td>0.787825</td>\n",
       "    </tr>\n",
       "    <tr>\n",
       "      <th>1</th>\n",
       "      <td>Guardians of the Galaxy</td>\n",
       "      <td>9</td>\n",
       "      <td>2.014900</td>\n",
       "    </tr>\n",
       "    <tr>\n",
       "      <th>2</th>\n",
       "      <td>Guardians of the Galaxy</td>\n",
       "      <td>9</td>\n",
       "      <td>0.716487</td>\n",
       "    </tr>\n",
       "    <tr>\n",
       "      <th>3</th>\n",
       "      <td>Guardians of the Galaxy</td>\n",
       "      <td>9</td>\n",
       "      <td>1.347274</td>\n",
       "    </tr>\n",
       "    <tr>\n",
       "      <th>4</th>\n",
       "      <td>Guardians of the Galaxy</td>\n",
       "      <td>10</td>\n",
       "      <td>1.005797</td>\n",
       "    </tr>\n",
       "  </tbody>\n",
       "</table>\n",
       "</div>"
      ],
      "text/plain": [
       "                 film name rating  sentiment\n",
       "0  Guardians of the Galaxy     10   0.787825\n",
       "1  Guardians of the Galaxy      9   2.014900\n",
       "2  Guardians of the Galaxy      9   0.716487\n",
       "3  Guardians of the Galaxy      9   1.347274\n",
       "4  Guardians of the Galaxy     10   1.005797"
      ]
     },
     "execution_count": 32,
     "metadata": {},
     "output_type": "execute_result"
    }
   ],
   "source": [
    "df_romcom_glove_trim = pd.read_csv(\"df_romcom_glove_trim.csv\").drop(columns=[\"year\", \"genre\"]).dropna()\n",
    "df_horror_glove_trim = pd.read_csv(\"df_horror_glove_trim.csv\").drop(columns=[\"year\", \"genre\"]).dropna()\n",
    "df_romcom_glove_trim.head()"
   ]
  },
  {
   "cell_type": "code",
   "execution_count": 33,
   "metadata": {},
   "outputs": [
    {
     "name": "stderr",
     "output_type": "stream",
     "text": [
      "c:\\Users\\Oliver\\anaconda3\\lib\\site-packages\\seaborn\\categorical.py:1296: UserWarning: 8.5% of the points cannot be placed; you may want to decrease the size of the markers or use stripplot.\n",
      "  warnings.warn(msg, UserWarning)\n"
     ]
    },
    {
     "data": {
      "image/png": "[encoded data removed]",
      "text/plain": [
       "<Figure size 720x432 with 1 Axes>"
      ]
     },
     "metadata": {
      "needs_background": "light"
     },
     "output_type": "display_data"
    }
   ],
   "source": [
    "import seaborn as sns\n",
    "import matplotlib.pyplot as plt\n",
    "import pandas as pd\n",
    "\n",
    "# Add a new column to each DataFrame to distinguish genres\n",
    "df_romcom_glove_trim['genre'] = 'Comedy'\n",
    "df_horror_glove_trim['genre'] = 'Horror'\n",
    "\n",
    "# Combine the two DataFrames into one\n",
    "df_combined = pd.concat([df_romcom_glove_trim[['sentiment', 'genre']], df_horror_glove_trim[['sentiment', 'genre']]])\n",
    "\n",
    "# Sample a subset of the data for plotting\n",
    "df_sampled = df_combined.sample(n=1000, random_state=1)  # Adjust n as needed\n",
    "\n",
    "# Plot the sampled data\n",
    "plt.figure(figsize=(10, 6))\n",
    "sns.swarmplot(x='genre', y='sentiment', data=df_sampled, palette={'Comedy': 'blue', 'Horror': 'red'})\n",
    "plt.title('Sampled Sentiment Scores of Movie Reviews by Genre using GloVe')\n",
    "plt.xlabel('Genre')\n",
    "plt.ylabel('Sentiment Score')\n",
    "plt.ylim(-3, 3) \n",
    "\n",
    "plt.show()"
   ]
  },
  {
   "cell_type": "markdown",
   "metadata": {},
   "source": [
    "Based on the sample, comedy sentiment score  mean appears to be overall a bit higher than horror. But this may vary based on the sample. The swarm plot indicates the data for comedy has more values greater than 0 and more positive outlier values for comedy. Where as the negative tail of horror indicates there may be some reviews that had very high negative values. Overall the number of negative sentiments around or below 0 for horror seem to outweigh the positive sentiments."
   ]
  },
  {
   "cell_type": "markdown",
   "metadata": {},
   "source": [
    "<a href=\"#top\">Back to Top</a>\n",
    "<a id=\"P24\"></a>\n",
    "### Perform Similar Analysis with ConceptNet\n"
   ]
  },
  {
   "cell_type": "code",
   "execution_count": 34,
   "metadata": {},
   "outputs": [
    {
     "name": "stdout",
     "output_type": "stream",
     "text": [
      "(1821, 300) (4461, 300)\n"
     ]
    }
   ],
   "source": [
    "embeddings = load_embeddings('data/numberbatch-en-17.04b.txt')\n",
    "embeddings.shape\n",
    "\n",
    "#train the model\n",
    "pos_words_common = list(set(pos_words) & set(embeddings.index)) \n",
    "neg_words_common = list(set(neg_words) & set(embeddings.index)) \n",
    "\n",
    "pos_vectors = embeddings.loc[pos_words_common]\n",
    "neg_vectors = embeddings.loc[neg_words_common]\n",
    "print(pos_vectors.shape,neg_vectors.shape)\n",
    "\n",
    "#train the inputs and outputs\n",
    "vectors = pd.concat([pos_vectors, neg_vectors])\n",
    "targets = np.array([1 for entry in pos_vectors.index] + [-1 for entry in neg_vectors.index])\n",
    "labels = list(pos_vectors.index) + list(neg_vectors.index)\n",
    "\n",
    "#prep for train test split\n",
    "train_vectors, test_vectors, train_targets, test_targets, train_labels, test_labels = \\\n",
    "    train_test_split(vectors, targets, labels, test_size=0.1, random_state=0)\n",
    "\n",
    "# create a linear classifier \n",
    "model = SGDClassifier(loss='log', random_state=0, max_iter=100)\n",
    "model.fit(train_vectors, train_targets)\n",
    "accuracy_score(model.predict(test_vectors), test_targets)\n",
    "\n",
    "# Show 20 examples from the test set\n",
    "words_to_sentiment(test_labels).iloc[:20]\n",
    "\n",
    "#tokenize using regular expressions\n",
    "\n",
    "TOKEN_RE = re.compile(r\"\\w.*?\\b\")\n",
    "# The regex above finds tokens that start with a word-like character (\\w), and continues\n",
    "# matching characters (.+?) until the next word break (\\b). It's a relatively simple\n",
    "# expression that manages to extract something very much like words from text.\n"
   ]
  },
  {
   "cell_type": "markdown",
   "metadata": {},
   "source": [
    "Get sentiments from CN"
   ]
  },
  {
   "cell_type": "code",
   "execution_count": null,
   "metadata": {},
   "outputs": [],
   "source": [
    "\"\"\"\n",
    "# Apply the text_to_sentiment function to each review in the df_romcom DataFrame\n",
    "df_romcom['sentiment'] = df_romcom['review'].apply(text_to_sentiment)\n",
    "\n",
    "# Calculate the average sentiment for comedies\n",
    "average_sentiment_comedy = df_romcom['sentiment'].mean()\n",
    "\n",
    "# Apply the text_to_sentiment function to each review in the df_horror DataFrame\n",
    "df_horror['sentiment'] = df_horror['review'].apply(text_to_sentiment)\n",
    "\n",
    "# Calculate the average sentiment for horror movies\n",
    "average_sentiment_horror = df_horror['sentiment'].mean()\n",
    "\n",
    "# Print the average sentiments\n",
    "print(f\"Average Sentiment for Comedies: {average_sentiment_comedy}\")\n",
    "print(f\"Average Sentiment for Horror Movies: {average_sentiment_horror}\")\n",
    "\"\"\""
   ]
  },
  {
   "cell_type": "markdown",
   "metadata": {},
   "source": [
    "- Average Sentiment for Comedies: 0.029119482163650175\n",
    "- Average Sentiment for Horror Movies: -0.20205652231804702"
   ]
  },
  {
   "cell_type": "markdown",
   "metadata": {},
   "source": [
    "Output sentiments to CSV"
   ]
  },
  {
   "cell_type": "code",
   "execution_count": 37,
   "metadata": {},
   "outputs": [],
   "source": [
    "# df_romcom.to_csv('df_romcom_cnnb.csv', index=False)\n",
    "# df_horror.to_csv('df_horror_cnnb.csv', index=False)\n",
    "# df_romcom_cnnb_trim = df_romcom.drop(columns=['review'])\n",
    "# df_horror_cnnb_trim = df_horror.drop(columns=['review'])\n",
    "# df_romcom_cnnb_trim.to_csv('df_romcom_cnnb_trim.csv', index=False)\n",
    "# df_horror_cnnb_trim.to_csv('df_horror_cnnb_trim.csv', index=False)"
   ]
  },
  {
   "cell_type": "code",
   "execution_count": 39,
   "metadata": {},
   "outputs": [],
   "source": [
    "df_romcom_cnnb_trim = pd.read_csv('df_romcom_cnnb_trim.csv')\n",
    "df_horror_cnnb_trim = pd.read_csv('df_horror_cnnb_trim.csv')"
   ]
  },
  {
   "cell_type": "code",
   "execution_count": 41,
   "metadata": {},
   "outputs": [
    {
     "name": "stderr",
     "output_type": "stream",
     "text": [
      "c:\\Users\\Oliver\\anaconda3\\lib\\site-packages\\seaborn\\categorical.py:1296: UserWarning: 9.8% of the points cannot be placed; you may want to decrease the size of the markers or use stripplot.\n",
      "  warnings.warn(msg, UserWarning)\n"
     ]
    },
    {
     "data": {
      "image/png": "[encoded data removed]",
      "text/plain": [
       "<Figure size 720x432 with 1 Axes>"
      ]
     },
     "metadata": {
      "needs_background": "light"
     },
     "output_type": "display_data"
    }
   ],
   "source": [
    "import seaborn as sns\n",
    "import matplotlib.pyplot as plt\n",
    "import pandas as pd\n",
    "\n",
    "# Add a new column to each DataFrame to distinguish genres\n",
    "df_romcom_cnnb_trim['genre'] = 'Comedy'\n",
    "df_horror_cnnb_trim['genre'] = 'Horror'\n",
    "\n",
    "# Combine the two DataFrames into one\n",
    "df_combined = pd.concat([df_romcom_cnnb_trim[['sentiment', 'genre']], df_horror_cnnb_trim[['sentiment', 'genre']]])\n",
    "\n",
    "# Sample a subset of the data for plotting\n",
    "df_sampled = df_combined.sample(n=1000, random_state=1)  # Adjust n as needed\n",
    "\n",
    "# Plot the sampled data\n",
    "plt.figure(figsize=(10, 6))\n",
    "sns.swarmplot(x='genre', y='sentiment', data=df_sampled, palette={'Comedy': 'blue', 'Horror': 'red'})\n",
    "plt.title('Sampled Sentiment Scores of Movie Reviews by Genre using ConceptNet')\n",
    "plt.xlabel('Genre')\n",
    "plt.ylabel('Sentiment Score')\n",
    "plt.ylim(-3,3) \n",
    "\n",
    "plt.show()"
   ]
  },
  {
   "cell_type": "markdown",
   "metadata": {},
   "source": [
    "ConceptNet data shows a lot of overlap between Comedy and GloVe embeddings. The mean of both appear to be very close to 0. The outliers of horror in is not as widespread as it is for Comedy indicating some much higher positive sentiment scores for comedy than horror as was expected. Overall the majority of the scores hover around 0 which I believe must indicate neutral sentiment."
   ]
  },
  {
   "cell_type": "markdown",
   "metadata": {},
   "source": [
    "<a href=\"#top\">Back to Top</a>\n",
    "<a id=\"P3\"></a>\n",
    "## 3.0 Analysis: Comparison of Results from Sentiment Analyses\n",
    "Now that the reviews have been given a sentiment score using Glove and ConceptNet, we begin the analysis. We will use the F-test which is a statistical test used to compare the variances of two or more samples or populations in hypothesis testing to determine whether they are significantly different or not. \n",
    "\n",
    "The null hypothesis is that there is NO difference in the variance of the two genres. The alternate hypothesis therefore is that there is a significant variance between the two groups based on the sentiment score.\n",
    "\n",
    "We will run the f-test before we normalize the data and also after, just for affirmation.\n",
    "\n",
    "The f-test will look at comparing the f-stat with the f-critical value to determine whether to accept or reject the null hypothesis. Alternatively we can use the p-value, compared with the significance level and accept or reject the hypothesis. Lets go!"
   ]
  },
  {
   "cell_type": "code",
   "execution_count": 43,
   "metadata": {},
   "outputs": [
    {
     "data": {
      "text/html": [
       "<div>\n",
       "<style scoped>\n",
       "    .dataframe tbody tr th:only-of-type {\n",
       "        vertical-align: middle;\n",
       "    }\n",
       "\n",
       "    .dataframe tbody tr th {\n",
       "        vertical-align: top;\n",
       "    }\n",
       "\n",
       "    .dataframe thead th {\n",
       "        text-align: right;\n",
       "    }\n",
       "</style>\n",
       "<table border=\"1\" class=\"dataframe\">\n",
       "  <thead>\n",
       "    <tr style=\"text-align: right;\">\n",
       "      <th></th>\n",
       "      <th>film name</th>\n",
       "      <th>year</th>\n",
       "      <th>genre</th>\n",
       "      <th>rating</th>\n",
       "      <th>sentiment</th>\n",
       "    </tr>\n",
       "  </thead>\n",
       "  <tbody>\n",
       "    <tr>\n",
       "      <th>4</th>\n",
       "      <td>The Shining</td>\n",
       "      <td>1980</td>\n",
       "      <td>Drama Horror</td>\n",
       "      <td>9.0</td>\n",
       "      <td>-0.084957</td>\n",
       "    </tr>\n",
       "    <tr>\n",
       "      <th>5</th>\n",
       "      <td>The Shining</td>\n",
       "      <td>1980</td>\n",
       "      <td>Drama Horror</td>\n",
       "      <td>9.0</td>\n",
       "      <td>0.110383</td>\n",
       "    </tr>\n",
       "    <tr>\n",
       "      <th>8</th>\n",
       "      <td>The Shining</td>\n",
       "      <td>1980</td>\n",
       "      <td>Drama Horror</td>\n",
       "      <td>10.0</td>\n",
       "      <td>0.074948</td>\n",
       "    </tr>\n",
       "    <tr>\n",
       "      <th>9</th>\n",
       "      <td>The Shining</td>\n",
       "      <td>1980</td>\n",
       "      <td>Drama Horror</td>\n",
       "      <td>10.0</td>\n",
       "      <td>0.180767</td>\n",
       "    </tr>\n",
       "    <tr>\n",
       "      <th>12</th>\n",
       "      <td>The Shining</td>\n",
       "      <td>1980</td>\n",
       "      <td>Drama Horror</td>\n",
       "      <td>5.0</td>\n",
       "      <td>-0.215878</td>\n",
       "    </tr>\n",
       "  </tbody>\n",
       "</table>\n",
       "</div>"
      ],
      "text/plain": [
       "      film name  year          genre  rating  sentiment\n",
       "4   The Shining  1980  Drama Horror      9.0  -0.084957\n",
       "5   The Shining  1980  Drama Horror      9.0   0.110383\n",
       "8   The Shining  1980  Drama Horror     10.0   0.074948\n",
       "9   The Shining  1980  Drama Horror     10.0   0.180767\n",
       "12  The Shining  1980  Drama Horror      5.0  -0.215878"
      ]
     },
     "execution_count": 43,
     "metadata": {},
     "output_type": "execute_result"
    }
   ],
   "source": [
    "import pandas as pd\n",
    "import warnings \n",
    "\n",
    "warnings.filterwarnings('ignore')\n",
    "#Load GloVe Horror Results\n",
    "df_horror_glove_trim = pd.read_csv('df_horror_glove_trim.csv', sep = ',')\n",
    "df_horror_glove_trim = drop_null_ratings(df_horror_glove_trim)\n",
    "df_horror_glove_trim.head()"
   ]
  },
  {
   "cell_type": "code",
   "execution_count": 44,
   "metadata": {},
   "outputs": [
    {
     "data": {
      "text/html": [
       "<div>\n",
       "<style scoped>\n",
       "    .dataframe tbody tr th:only-of-type {\n",
       "        vertical-align: middle;\n",
       "    }\n",
       "\n",
       "    .dataframe tbody tr th {\n",
       "        vertical-align: top;\n",
       "    }\n",
       "\n",
       "    .dataframe thead th {\n",
       "        text-align: right;\n",
       "    }\n",
       "</style>\n",
       "<table border=\"1\" class=\"dataframe\">\n",
       "  <thead>\n",
       "    <tr style=\"text-align: right;\">\n",
       "      <th></th>\n",
       "      <th>film name</th>\n",
       "      <th>year</th>\n",
       "      <th>genre</th>\n",
       "      <th>rating</th>\n",
       "      <th>sentiment</th>\n",
       "    </tr>\n",
       "  </thead>\n",
       "  <tbody>\n",
       "    <tr>\n",
       "      <th>0</th>\n",
       "      <td>Guardians of the Galaxy</td>\n",
       "      <td>2014</td>\n",
       "      <td>Comedy</td>\n",
       "      <td>10.0</td>\n",
       "      <td>0.787825</td>\n",
       "    </tr>\n",
       "    <tr>\n",
       "      <th>1</th>\n",
       "      <td>Guardians of the Galaxy</td>\n",
       "      <td>2014</td>\n",
       "      <td>Comedy</td>\n",
       "      <td>9.0</td>\n",
       "      <td>2.014900</td>\n",
       "    </tr>\n",
       "    <tr>\n",
       "      <th>2</th>\n",
       "      <td>Guardians of the Galaxy</td>\n",
       "      <td>2014</td>\n",
       "      <td>Comedy</td>\n",
       "      <td>9.0</td>\n",
       "      <td>0.716487</td>\n",
       "    </tr>\n",
       "    <tr>\n",
       "      <th>3</th>\n",
       "      <td>Guardians of the Galaxy</td>\n",
       "      <td>2014</td>\n",
       "      <td>Comedy</td>\n",
       "      <td>9.0</td>\n",
       "      <td>1.347274</td>\n",
       "    </tr>\n",
       "    <tr>\n",
       "      <th>4</th>\n",
       "      <td>Guardians of the Galaxy</td>\n",
       "      <td>2014</td>\n",
       "      <td>Comedy</td>\n",
       "      <td>10.0</td>\n",
       "      <td>1.005797</td>\n",
       "    </tr>\n",
       "  </tbody>\n",
       "</table>\n",
       "</div>"
      ],
      "text/plain": [
       "                 film name  year    genre  rating  sentiment\n",
       "0  Guardians of the Galaxy  2014  Comedy     10.0   0.787825\n",
       "1  Guardians of the Galaxy  2014  Comedy      9.0   2.014900\n",
       "2  Guardians of the Galaxy  2014  Comedy      9.0   0.716487\n",
       "3  Guardians of the Galaxy  2014  Comedy      9.0   1.347274\n",
       "4  Guardians of the Galaxy  2014  Comedy     10.0   1.005797"
      ]
     },
     "execution_count": 44,
     "metadata": {},
     "output_type": "execute_result"
    }
   ],
   "source": [
    "#Load GloVe RomCom Results\n",
    "df_romcom_glove_trim = pd.read_csv('df_romcom_glove_trim.csv', sep = ',')\n",
    "df_romcom_glove_trim = drop_null_ratings(df_romcom_glove_trim)\n",
    "df_romcom_glove_trim.head()"
   ]
  },
  {
   "cell_type": "code",
   "execution_count": 45,
   "metadata": {},
   "outputs": [
    {
     "data": {
      "text/html": [
       "<div>\n",
       "<style scoped>\n",
       "    .dataframe tbody tr th:only-of-type {\n",
       "        vertical-align: middle;\n",
       "    }\n",
       "\n",
       "    .dataframe tbody tr th {\n",
       "        vertical-align: top;\n",
       "    }\n",
       "\n",
       "    .dataframe thead th {\n",
       "        text-align: right;\n",
       "    }\n",
       "</style>\n",
       "<table border=\"1\" class=\"dataframe\">\n",
       "  <thead>\n",
       "    <tr style=\"text-align: right;\">\n",
       "      <th></th>\n",
       "      <th>film name</th>\n",
       "      <th>year</th>\n",
       "      <th>genre</th>\n",
       "      <th>rating</th>\n",
       "      <th>sentiment</th>\n",
       "    </tr>\n",
       "  </thead>\n",
       "  <tbody>\n",
       "    <tr>\n",
       "      <th>4</th>\n",
       "      <td>The Shining</td>\n",
       "      <td>1980</td>\n",
       "      <td>Drama Horror</td>\n",
       "      <td>9.0</td>\n",
       "      <td>-0.291112</td>\n",
       "    </tr>\n",
       "    <tr>\n",
       "      <th>5</th>\n",
       "      <td>The Shining</td>\n",
       "      <td>1980</td>\n",
       "      <td>Drama Horror</td>\n",
       "      <td>9.0</td>\n",
       "      <td>-0.021392</td>\n",
       "    </tr>\n",
       "    <tr>\n",
       "      <th>8</th>\n",
       "      <td>The Shining</td>\n",
       "      <td>1980</td>\n",
       "      <td>Drama Horror</td>\n",
       "      <td>10.0</td>\n",
       "      <td>-0.168464</td>\n",
       "    </tr>\n",
       "    <tr>\n",
       "      <th>9</th>\n",
       "      <td>The Shining</td>\n",
       "      <td>1980</td>\n",
       "      <td>Drama Horror</td>\n",
       "      <td>10.0</td>\n",
       "      <td>-0.035796</td>\n",
       "    </tr>\n",
       "    <tr>\n",
       "      <th>12</th>\n",
       "      <td>The Shining</td>\n",
       "      <td>1980</td>\n",
       "      <td>Drama Horror</td>\n",
       "      <td>5.0</td>\n",
       "      <td>-0.165677</td>\n",
       "    </tr>\n",
       "  </tbody>\n",
       "</table>\n",
       "</div>"
      ],
      "text/plain": [
       "      film name  year          genre  rating  sentiment\n",
       "4   The Shining  1980  Drama Horror      9.0  -0.291112\n",
       "5   The Shining  1980  Drama Horror      9.0  -0.021392\n",
       "8   The Shining  1980  Drama Horror     10.0  -0.168464\n",
       "9   The Shining  1980  Drama Horror     10.0  -0.035796\n",
       "12  The Shining  1980  Drama Horror      5.0  -0.165677"
      ]
     },
     "execution_count": 45,
     "metadata": {},
     "output_type": "execute_result"
    }
   ],
   "source": [
    "#Load ConceptNet NumberBatch Horror Results\n",
    "df_horror_cnnb_trim = pd.read_csv('df_horror_cnnb_trim.csv', sep = ',')\n",
    "df_horror_cnnb_trim = drop_null_ratings(df_horror_cnnb_trim)\n",
    "df_horror_cnnb_trim.head()"
   ]
  },
  {
   "cell_type": "code",
   "execution_count": 46,
   "metadata": {},
   "outputs": [
    {
     "data": {
      "text/html": [
       "<div>\n",
       "<style scoped>\n",
       "    .dataframe tbody tr th:only-of-type {\n",
       "        vertical-align: middle;\n",
       "    }\n",
       "\n",
       "    .dataframe tbody tr th {\n",
       "        vertical-align: top;\n",
       "    }\n",
       "\n",
       "    .dataframe thead th {\n",
       "        text-align: right;\n",
       "    }\n",
       "</style>\n",
       "<table border=\"1\" class=\"dataframe\">\n",
       "  <thead>\n",
       "    <tr style=\"text-align: right;\">\n",
       "      <th></th>\n",
       "      <th>film name</th>\n",
       "      <th>year</th>\n",
       "      <th>genre</th>\n",
       "      <th>rating</th>\n",
       "      <th>sentiment</th>\n",
       "    </tr>\n",
       "  </thead>\n",
       "  <tbody>\n",
       "    <tr>\n",
       "      <th>0</th>\n",
       "      <td>Guardians of the Galaxy</td>\n",
       "      <td>2014</td>\n",
       "      <td>Comedy</td>\n",
       "      <td>10.0</td>\n",
       "      <td>0.235207</td>\n",
       "    </tr>\n",
       "    <tr>\n",
       "      <th>1</th>\n",
       "      <td>Guardians of the Galaxy</td>\n",
       "      <td>2014</td>\n",
       "      <td>Comedy</td>\n",
       "      <td>9.0</td>\n",
       "      <td>0.975840</td>\n",
       "    </tr>\n",
       "    <tr>\n",
       "      <th>2</th>\n",
       "      <td>Guardians of the Galaxy</td>\n",
       "      <td>2014</td>\n",
       "      <td>Comedy</td>\n",
       "      <td>9.0</td>\n",
       "      <td>0.134740</td>\n",
       "    </tr>\n",
       "    <tr>\n",
       "      <th>3</th>\n",
       "      <td>Guardians of the Galaxy</td>\n",
       "      <td>2014</td>\n",
       "      <td>Comedy</td>\n",
       "      <td>9.0</td>\n",
       "      <td>0.293742</td>\n",
       "    </tr>\n",
       "    <tr>\n",
       "      <th>4</th>\n",
       "      <td>Guardians of the Galaxy</td>\n",
       "      <td>2014</td>\n",
       "      <td>Comedy</td>\n",
       "      <td>10.0</td>\n",
       "      <td>0.283084</td>\n",
       "    </tr>\n",
       "  </tbody>\n",
       "</table>\n",
       "</div>"
      ],
      "text/plain": [
       "                 film name  year    genre  rating  sentiment\n",
       "0  Guardians of the Galaxy  2014  Comedy     10.0   0.235207\n",
       "1  Guardians of the Galaxy  2014  Comedy      9.0   0.975840\n",
       "2  Guardians of the Galaxy  2014  Comedy      9.0   0.134740\n",
       "3  Guardians of the Galaxy  2014  Comedy      9.0   0.293742\n",
       "4  Guardians of the Galaxy  2014  Comedy     10.0   0.283084"
      ]
     },
     "execution_count": 46,
     "metadata": {},
     "output_type": "execute_result"
    }
   ],
   "source": [
    "#Load ConceptNet NumberBatch RomCom Results\n",
    "df_romcom_cnnb_trim = pd.read_csv('df_romcom_cnnb_trim.csv', sep = ',')\n",
    "df_romcom_cnnb_trim = drop_null_ratings(df_romcom_cnnb_trim)\n",
    "df_romcom_cnnb_trim.head()"
   ]
  },
  {
   "cell_type": "code",
   "execution_count": 48,
   "metadata": {},
   "outputs": [],
   "source": [
    "#this data prep needs to be done as genre is being used for grouping\n",
    "df_romcom_glove_trim['genre'] = 'Comedy'\n",
    "df_horror_glove_trim['genre'] = 'Horror'\n",
    "\n",
    "df_romcom_cnnb_trim['genre'] = 'Comedy'\n",
    "df_horror_cnnb_trim['genre'] = 'Horror'\n",
    "\n",
    "#data preparation for rating\n",
    "# Try to convert each row's rating column to a float, removing any rows that can't be converted\n",
    "df_horror_glove_trim['rating'] = pd.to_numeric(df_horror_glove_trim['rating'], errors='coerce')\n",
    "df_horror_glove_trim = df_horror_glove_trim.dropna(subset=['rating'])\n",
    "\n",
    "df_romcom_glove_trim['rating'] = pd.to_numeric(df_romcom_glove_trim['rating'], errors='coerce')\n",
    "df_romcom_glove_trim = df_romcom_glove_trim.dropna(subset=['rating'])\n",
    "\n",
    "df_horror_cnnb_trim['rating'] = pd.to_numeric(df_horror_cnnb_trim['rating'], errors='coerce')\n",
    "df_horror_cnnb_trim = df_horror_cnnb_trim.dropna(subset=['rating'])\n",
    "\n",
    "df_romcom_cnnb_trim['rating'] = pd.to_numeric(df_romcom_cnnb_trim['rating'], errors='coerce')\n",
    "df_romcom_cnnb_trim = df_romcom_cnnb_trim.dropna(subset=['rating'])\n",
    "\n",
    "\n",
    "df_combined_glove = pd.concat([df_horror_glove_trim[['rating', 'sentiment', 'genre']], \\\n",
    "                                    df_romcom_glove_trim[['rating', 'sentiment', 'genre']]])\n",
    "df_combined_cnnb = pd.concat([df_horror_cnnb_trim[['rating', 'sentiment', 'genre']], \\\n",
    "                                    df_romcom_cnnb_trim[['rating', 'sentiment', 'genre']]])\n",
    "\n"
   ]
  },
  {
   "cell_type": "markdown",
   "metadata": {},
   "source": [
    "#### Get some stats before Normalization\n",
    "\n",
    "\n",
    "The null hypothesis is that there is no variance between the two genres. The alternate hypothesis is H1, that they are different. The sentiment analysis is biased based on the genre. \n"
   ]
  },
  {
   "cell_type": "markdown",
   "metadata": {},
   "source": [
    "The following is a function that accepts a pandas dataframe, the embedding name, the sentiment score is the value of the independent factor which is genre for this dataset."
   ]
  },
  {
   "cell_type": "code",
   "execution_count": 49,
   "metadata": {},
   "outputs": [],
   "source": [
    "#F-stat, some part of this code was from https://www.geeksforgeeks.org/how-to-find-the-f-critical-value-in-python/\n",
    "import scipy.stats as stats\n",
    "import math\n",
    "def calc_stats(this_df, desc_name, value_column, groupby='genre'):\n",
    "    \n",
    "    unique_values_set = this_df[groupby].unique()\n",
    "    #I could use a for loop but i know only 2 uniques should come in\n",
    "    fstat,pval = stats.f_oneway(\n",
    "        this_df[value_column][this_df[groupby] == unique_values_set[0]],\n",
    "        this_df[value_column][this_df[groupby] == unique_values_set[1]],        \n",
    "        )\n",
    "    print()\n",
    "    print('For ', desc_name)\n",
    "    print('-'*20)\n",
    "    \n",
    "    number_of_groups = 2 #comedy and horror\n",
    "    numerator_degfreedom = -number_of_groups - 1\n",
    "    denominator_degfreedom = len(this_df.index)-number_of_groups #numb of observations - number of groups\n",
    "    alpha = 0.05 #significance level and since we are doing one tailed we dont divide this by 2\n",
    "\n",
    "    fcritical = stats.f.ppf(q=0.05, dfn=numerator_degfreedom , dfd=denominator_degfreedom)\n",
    "    \n",
    "    print('F-statistic: ',fstat,' , p value:', pval, ', alpha:', alpha, ', f-critical:', fcritical )\n",
    "\n",
    "    print('Analysis on ', value_column, ' results based on F-stat:')\n",
    "    if math.isnan(fstat):\n",
    "        print('  fstat cannot be used for comparision as it is nan')\n",
    "    if math.isnan(fcritical):\n",
    "        print('  fcritical cannot be used for comparision as it is nan')\n",
    "    else:\n",
    "        if fstat > fcritical:\n",
    "            print('  F-stat is greater than f-critical : Reject the null hypothesis')\n",
    "        else:\n",
    "            print('  F-stat is less than f-critical : Fail to reject the null hypothesis')\n",
    "    if math.isnan(pval):\n",
    "        print('  p value cannot be used for comparision as it is nan')\n",
    "    if pval < alpha:\n",
    "        print('  p value is less than alpha : Reject the null hypothesis')\n",
    "    else:\n",
    "        print('  p value is greater than alpha : Fail to reject the null hypothesis')\n",
    "\n",
    "\n",
    "\n"
   ]
  },
  {
   "cell_type": "code",
   "execution_count": 50,
   "metadata": {},
   "outputs": [
    {
     "name": "stdout",
     "output_type": "stream",
     "text": [
      "\n",
      "For  GloVe\n",
      "--------------------\n",
      "F-statistic:  18774.30642197589  , p value: 0.0 , alpha: 0.05 , f-critical: nan\n",
      "Analysis on  sentiment  results based on F-stat:\n",
      "  fcritical cannot be used for comparision as it is nan\n",
      "  p value is less than alpha : Reject the null hypothesis\n",
      "\n",
      "For  ConceptNet\n",
      "--------------------\n",
      "F-statistic:  15755.665718197146  , p value: 0.0 , alpha: 0.05 , f-critical: nan\n",
      "Analysis on  sentiment  results based on F-stat:\n",
      "  fcritical cannot be used for comparision as it is nan\n",
      "  p value is less than alpha : Reject the null hypothesis\n"
     ]
    }
   ],
   "source": [
    "calc_stats(df_combined_glove,'GloVe', 'sentiment', 'genre')\n",
    "calc_stats(df_combined_cnnb,'ConceptNet', 'sentiment', 'genre')"
   ]
  },
  {
   "cell_type": "markdown",
   "metadata": {},
   "source": [
    "Based on the statistical analysis above, the null hypothesis must be rejected. We chose 0.05 which is a typical alpha level. "
   ]
  },
  {
   "cell_type": "markdown",
   "metadata": {},
   "source": [
    "### Normalize sentiment between 0-1"
   ]
  },
  {
   "cell_type": "code",
   "execution_count": 68,
   "metadata": {},
   "outputs": [
    {
     "name": "stdout",
     "output_type": "stream",
     "text": [
      "GloVe Sentiment Mean: 0.4549431175557521\n",
      "----------------------------------------\n",
      "ConceptNet Sentiment Mean: 0.45611787806421883\n"
     ]
    }
   ],
   "source": [
    "from sklearn.preprocessing import MinMaxScaler\n",
    "scaler = MinMaxScaler()\n",
    "\n",
    "# Apply the MinMaxScaler to the sentiment column of each DataFrame\n",
    "df_combined_glove['sentiment'] = scaler.fit_transform(df_combined_glove[['sentiment']])\n",
    "df_combined_cnnb['sentiment'] = scaler.fit_transform(df_combined_cnnb[['sentiment']])\n",
    "\n",
    "# Print average sentiment for each genre\n",
    "print('GloVe Sentiment Mean:', df_combined_glove['sentiment'].mean())\n",
    "print('-'*40)\n",
    "print('ConceptNet Sentiment Mean:', df_combined_cnnb['sentiment'].mean())\n"
   ]
  },
  {
   "cell_type": "markdown",
   "metadata": {},
   "source": [
    "### Normalize rating between 0-1"
   ]
  },
  {
   "cell_type": "code",
   "execution_count": 69,
   "metadata": {},
   "outputs": [
    {
     "name": "stdout",
     "output_type": "stream",
     "text": [
      "Movie Rating Mean: 0.6517294466037556\n"
     ]
    }
   ],
   "source": [
    "# Normalize the rating column for each combined DataFrame\n",
    "df_combined_glove['rating'] = scaler.fit_transform(df_combined_glove[['rating']])\n",
    "df_combined_cnnb['rating'] = scaler.fit_transform(df_combined_cnnb[['rating']])\n",
    "\n",
    "# Print the average rating for each\n",
    "print('Movie Rating Mean:', df_combined_glove['rating'].mean()) # same for GloVe/CN"
   ]
  },
  {
   "cell_type": "markdown",
   "metadata": {},
   "source": [
    "### Adding delta column"
   ]
  },
  {
   "cell_type": "code",
   "execution_count": 55,
   "metadata": {},
   "outputs": [
    {
     "name": "stdout",
     "output_type": "stream",
     "text": [
      "GloVe Delta Mean: -0.19678632904749557\n",
      "----------------------------------------\n",
      "ConceptNet Delta Mean: -0.1956115685390331\n"
     ]
    }
   ],
   "source": [
    "# Add a new column to each DataFrame to find the delta between sentiment and rating\n",
    "df_combined_glove['delta'] = df_combined_glove['sentiment'] - df_combined_glove['rating']\n",
    "df_combined_cnnb['delta'] = df_combined_cnnb['sentiment'] - df_combined_cnnb['rating']\n",
    "\n",
    "# Print the average delta for each genre\n",
    "print('GloVe Delta Mean:', df_combined_glove['delta'].mean())\n",
    "print('-'*40)\n",
    "print('ConceptNet Delta Mean:', df_combined_cnnb['delta'].mean())\n"
   ]
  },
  {
   "cell_type": "markdown",
   "metadata": {},
   "source": [
    "As is evident from the mean, the sentiment score is given a lower value based on the words in the review than the rating that the reviewer gave it. "
   ]
  },
  {
   "cell_type": "markdown",
   "metadata": {},
   "source": [
    "### Prepare data for plotting "
   ]
  },
  {
   "cell_type": "code",
   "execution_count": 70,
   "metadata": {},
   "outputs": [],
   "source": [
    "import seaborn as sns\n",
    "import matplotlib.pyplot as plt\n",
    "import pandas as pd\n",
    "\n",
    "# Sample a subset of the ConceptNet data for plotting\n",
    "df_cnnb_sampled = df_combined_cnnb.sample(n=1000, random_state=1)  # Adjust n as needed\n",
    "\n",
    "# Sample a subset of the GloVe data for plotting\n",
    "df_glove_sampled = df_combined_glove.sample(n=1000, random_state=1)  # Adjust n as needed"
   ]
  },
  {
   "cell_type": "markdown",
   "metadata": {},
   "source": [
    "## Plot Normalized Sentiments and Ratings"
   ]
  },
  {
   "cell_type": "code",
   "execution_count": 74,
   "metadata": {},
   "outputs": [
    {
     "data": {
      "image/png": "[encoded data removed]",
      "text/plain": [
       "<Figure size 720x432 with 2 Axes>"
      ]
     },
     "metadata": {
      "needs_background": "light"
     },
     "output_type": "display_data"
    }
   ],
   "source": [
    "#Create a Swarm plot\n",
    "fig, axes = plt.subplots(1, 2, figsize=(10,6), sharey=True)\n",
    "fig.suptitle('Sampled Normalized Sentiments Scores & Ratings of Movie Reviews by Genre')\n",
    "\n",
    "# Plot the sampled Glove data for sentiment\n",
    "sns.swarmplot(ax=axes[0], x='genre', y='sentiment', data=df_glove_sampled, palette={'Comedy': 'blue', 'Horror': 'red'})\n",
    "axes[0].set_title('GloVe Sentiment')\n",
    "\n",
    "## ConceptNet\n",
    "# Plot the sampled ConcepNet data for sentiment\n",
    "sns.swarmplot(ax=axes[1], x='genre', y='sentiment', data=df_cnnb_sampled, palette={'Comedy': 'blue', 'Horror': 'red'})\n",
    "axes[1].set_title('ConceptNet Sentiment')\n",
    "\n",
    "plt.show()"
   ]
  },
  {
   "cell_type": "markdown",
   "metadata": {},
   "source": [
    "The normalized data in GloVe and ConceptNet the edge comedy has over horror. The horrow data sampled indicates that there are lower negative values associated with horror for both embeddings. "
   ]
  },
  {
   "cell_type": "code",
   "execution_count": 75,
   "metadata": {},
   "outputs": [
    {
     "data": {
      "image/png": "[encoded data removed]",
      "text/plain": [
       "<Figure size 720x432 with 3 Axes>"
      ]
     },
     "metadata": {
      "needs_background": "light"
     },
     "output_type": "display_data"
    }
   ],
   "source": [
    "## Doing the same but with Violin Plots and against the entire dataset not just sampled\n",
    "\n",
    "fig, axes = plt.subplots(1, 3, figsize=(10,6), sharey=True)\n",
    "fig.suptitle('Normalized Sentiments Scores & Ratings of Movie Reviews by Genre')\n",
    "\n",
    "## Review Rating\n",
    "# Plot the data\n",
    "\n",
    "sns.violinplot(ax=axes[0], x='genre', y='rating', data=df_combined_cnnb, palette={'Comedy': 'blue', 'Horror': 'red'})\n",
    "axes[0].set_title('Review Rating')\n",
    "\n",
    "## GloVe\n",
    "# Plot the data\n",
    "sns.violinplot(ax=axes[1], x='genre', y='sentiment', data=df_combined_glove, palette={'Comedy': 'blue', 'Horror': 'red'})\n",
    "axes[1].set_title('GloVe Sentiment')\n",
    "\n",
    "## ConceptNet\n",
    "# Plot the data\n",
    "sns.violinplot(ax=axes[2], x='genre', y='sentiment', data=df_combined_cnnb, palette={'Comedy': 'blue', 'Horror': 'red'})\n",
    "axes[2].set_title('ConceptNet Sentiment')\n",
    "\n",
    "plt.show()"
   ]
  },
  {
   "cell_type": "code",
   "execution_count": 76,
   "metadata": {},
   "outputs": [
    {
     "data": {
      "image/png": "[encoded data removed]",
      "text/plain": [
       "<Figure size 1152x360 with 2 Axes>"
      ]
     },
     "metadata": {
      "needs_background": "light"
     },
     "output_type": "display_data"
    }
   ],
   "source": [
    "#snippet from our 7324 class by Dr E Larson\n",
    "f = plt.figure(figsize=(16,5))\n",
    "\n",
    "bin_num = 30\n",
    "plt.subplot(1,2,1)\n",
    "df_combined_glove.sentiment.plot(kind='hist', alpha=0.25, \n",
    "                        label=\"Sentiment\",\n",
    "                        bins=bin_num)\n",
    "\n",
    "df_combined_glove.rating.plot(kind='hist', alpha=0.25, \n",
    "                        label=\"Rating\",\n",
    "                        bins=bin_num)\n",
    "plt.title('Glove')\n",
    "plt.legend()\n",
    "plt.ylim([0, 100000])\n",
    "\n",
    "plt.subplot(1,2,2)\n",
    "df_combined_cnnb.sentiment.plot(kind='hist', alpha=0.25, \n",
    "                        label=\"Sentiment\",\n",
    "                        bins=bin_num)\n",
    "\n",
    "df_combined_cnnb.rating.plot(kind='hist', alpha=0.25, \n",
    "                        label=\"Rating\",\n",
    "                        bins=bin_num)\n",
    "plt.title('ConceptNet')\n",
    "plt.legend()\n",
    "plt.ylim([0, 100000])\n",
    "\n",
    "plt.show()"
   ]
  },
  {
   "cell_type": "markdown",
   "metadata": {},
   "source": [
    "The data in both Glove and ConceptNet show that overall there are higher ranked ratings regardless of the genre. But sentiment scores by the embeddings show data to be concentrated right about the median. There may be some values in the tail ends but they dont show up given the scale. \n",
    "\n",
    "Our interpretation is that many neutral words are shared between the genres and these words encompass most of the vocabulary. The slight skew can be attributed to words in horror reviews such as \"murder\", or words in comedy movies such as \"laughing\". For example, for a sentiment to match a 0 rating, the review would probably be \"Murder murder murder murder murder\", and a 10 rating would be \"Happy happy happy happy happy.\"\n",
    "\n",
    "Given this info we believe the spread is not as important of a metric as the skew."
   ]
  },
  {
   "cell_type": "markdown",
   "metadata": {},
   "source": [
    "### Plotting the Delta columns"
   ]
  },
  {
   "cell_type": "code",
   "execution_count": 80,
   "metadata": {},
   "outputs": [
    {
     "data": {
      "image/png": "[encoded data removed]",
      "text/plain": [
       "<Figure size 720x432 with 2 Axes>"
      ]
     },
     "metadata": {
      "needs_background": "light"
     },
     "output_type": "display_data"
    }
   ],
   "source": [
    "## Plotting the Delta columns\n",
    "fig, axes = plt.subplots(1, 2, figsize=(10,6), sharey=True)\n",
    "fig.suptitle('Delta between Review Ratings and Sentiments Scores of Movie Reviews by Genre')\n",
    "\n",
    "## GloVe\n",
    "# Plot the data\n",
    "sns.violinplot(ax=axes[0], x='genre', y='delta', data=df_combined_glove, palette={'Comedy': 'blue', 'Horror': 'red'})\n",
    "axes[0].set_title('GloVe Sentiment to Review Delta')\n",
    "\n",
    "## ConceptNet\n",
    "# Plot the data\n",
    "sns.violinplot(ax=axes[1], x='genre', y='delta', data=df_combined_cnnb, palette={'Comedy': 'blue', 'Horror': 'red'})\n",
    "axes[1].set_title('ConceptNet Sentiment to Review Delta')\n",
    "\n",
    "plt.show()"
   ]
  },
  {
   "cell_type": "markdown",
   "metadata": {},
   "source": [
    "The data above is similar for both ConceptNet and Glove. \n",
    "\n",
    "Overall it appears the number of positive Horror delta values are greater than  when number of instances of positive comedy delta values. This means sentiment scores tended to go higher than the corresponding ratings on some of the horror movie ratings. \n",
    "\n",
    "But for both horror and comedy, the bottom heavy violin plots indicate the ratings have a greater value than the sentiment score based on word analysis yielding a large number of negative delta values. A\n",
    "\n",
    "The fact that the reviews and sentiment delta is very narrow at around the 0 and 0.2 mark indicate only few matched.\n",
    "\n",
    "Another observation, the tail of the comedy values is long for ConeptNet, meaning the delta difference was that widespread from its true rating. The context of the review must have been lost in translation especially if there was some sarcasm involved as one might suspect for people who like comedy.\n",
    "\n",
    "Overall sentiment analysis of reviews appears to be mismatched from the ratings. The ratings should be a good gauge for the reviews as there is generally a close correlation. But from the sentiment scores generated that is not the case. And eyeballing the data, horror scores have taken more of a hit as compared to the comedy scores.\n",
    "\n",
    "\n"
   ]
  },
  {
   "cell_type": "markdown",
   "metadata": {},
   "source": [
    "#### Repeating the F stat on normalized data\n"
   ]
  },
  {
   "cell_type": "code",
   "execution_count": 81,
   "metadata": {},
   "outputs": [
    {
     "name": "stdout",
     "output_type": "stream",
     "text": [
      "\n",
      "For  GloVe\n",
      "--------------------\n",
      "F-statistic:  18774.306421975893  , p value: 0.0 , alpha: 0.05 , f-critical: nan\n",
      "Analysis on  sentiment  results based on F-stat:\n",
      "  fcritical cannot be used for comparision as it is nan\n",
      "  p value is less than alpha : Reject the null hypothesis\n",
      "\n",
      "For  ConceptNet\n",
      "--------------------\n",
      "F-statistic:  15755.665718197148  , p value: 0.0 , alpha: 0.05 , f-critical: nan\n",
      "Analysis on  sentiment  results based on F-stat:\n",
      "  fcritical cannot be used for comparision as it is nan\n",
      "  p value is less than alpha : Reject the null hypothesis\n"
     ]
    }
   ],
   "source": [
    "#on normalized data, this may be the only f-stat data we need!\n",
    "\n",
    "calc_stats(df_combined_glove, 'GloVe', 'sentiment', 'genre')\n",
    "calc_stats(df_combined_cnnb, 'ConceptNet', 'sentiment', 'genre')"
   ]
  },
  {
   "cell_type": "markdown",
   "metadata": {},
   "source": [
    "Based on the statistical analysis, the null hypothesis must be rejected even for scaled data. We chose 0.05 which is a typical alpha level.\n",
    "\n",
    "Beware the perils of incorrect scaling:\n",
    "As a part of the exercise of learning through the process, we discovered some anomaly in the way we handled scaling.  Our first approach, we took each individual genre_embedding dataframe and scaled it, instead of scaling the combined embedding list. ie. df_romcom_glove.. was fit_transformed and df_horror_glove was fit_transformed before being combined as the df_combined_glove set.\n",
    "When we ran the f-stat on such a scaled-in-isolation dataframe, we got astronomical values for f-stat for the \"normalized data\" and that didnt match the pre normalization data values. This led us down a path of finding the root cause and correcting the issue. When we combined the lists and then scaled it, we got identical values for f-stat. ie combine the  two data frames for df_horror_glove and df_romcom_glove into df_combined_glove and then fit_transform that! Ditto for ConceptNet data.\n",
    "\n",
    "Once we corrected that, as can be expected we saw identical values from pre scaled data and post.\n",
    "\n"
   ]
  },
  {
   "cell_type": "markdown",
   "metadata": {},
   "source": [
    "### Comparing between Sentiment Scores for a genre\n",
    "This sections seeks to combine data slightly differently, based on genre and compare how Glove and Concept Net performed."
   ]
  },
  {
   "cell_type": "code",
   "execution_count": 82,
   "metadata": {},
   "outputs": [],
   "source": [
    "#add a column for indicating the embedding used\n",
    "df_horror_glove_trim['embedding'] ='GloVe'\n",
    "df_horror_cnnb_trim['embedding'] = 'ConceptNet'\n",
    "\n",
    "df_romcom_glove_trim['embedding'] ='GloVe'\n",
    "df_romcom_cnnb_trim['embedding'] = 'ConceptNet'\n",
    "\n",
    "df_combined_horror = pd.concat([df_horror_glove_trim[['rating', 'sentiment', 'embedding']], \\\n",
    "                                    df_horror_cnnb_trim[['rating', 'sentiment', 'embedding']]])\n",
    "\n",
    "df_combined_comedy = pd.concat([df_romcom_glove_trim[['rating', 'sentiment', 'embedding']], \\\n",
    "                                    df_romcom_cnnb_trim[['rating', 'sentiment', 'embedding']]])\n",
    "\n",
    "#scale rating\n",
    "df_combined_horror['rating'] = scaler.fit_transform(df_combined_horror[['rating']])\n",
    "df_combined_comedy['rating'] = scaler.fit_transform(df_combined_comedy[['rating']])\n",
    "\n",
    "#scale sentiment\n",
    "df_combined_horror['sentiment'] = scaler.fit_transform(df_combined_horror[['sentiment']])\n",
    "df_combined_comedy['sentiment'] = scaler.fit_transform(df_combined_comedy[['sentiment']])\n",
    "\n",
    "# Add a new column to each DataFrame to find the delta between sentiment and rating\n",
    "df_combined_horror['delta'] = df_combined_horror['sentiment'] - df_combined_horror['rating']\n",
    "df_combined_comedy['delta'] = df_combined_comedy['sentiment'] - df_combined_comedy['rating']\n",
    "\n"
   ]
  },
  {
   "cell_type": "markdown",
   "metadata": {},
   "source": [
    "#### Visualizing the data"
   ]
  },
  {
   "cell_type": "code",
   "execution_count": 83,
   "metadata": {},
   "outputs": [
    {
     "data": {
      "image/png": "[encoded data removed]",
      "text/plain": [
       "<Figure size 720x432 with 3 Axes>"
      ]
     },
     "metadata": {
      "needs_background": "light"
     },
     "output_type": "display_data"
    }
   ],
   "source": [
    "\n",
    "fig, axes = plt.subplots(1, 3, figsize=(10,6), sharey=True)\n",
    "fig.suptitle('Normalized Sentiments Scores & Ratings of Movie Reviews by Embedding')\n",
    "\n",
    "## Review Rating\n",
    "# Plot the data\n",
    "sns.violinplot(ax=axes[0], x='embedding', y='rating', data=df_combined_comedy, palette={'GloVe': 'green', 'ConceptNet': 'Orange'})\n",
    "axes[0].set_title('Review Rating')\n",
    "\n",
    "## Horror\n",
    "# Plot the data\n",
    "sns.violinplot(ax=axes[1], x='embedding', y='sentiment', data=df_combined_horror, palette={'GloVe': 'green', 'ConceptNet': 'Orange'})\n",
    "axes[1].set_title('Horror Sentiment')\n",
    "\n",
    "## Comedy\n",
    "# Plot the data\n",
    "sns.violinplot(ax=axes[2], x='embedding', y='sentiment', data=df_combined_comedy, palette={'GloVe': 'green', 'ConceptNet': 'Orange'})\n",
    "axes[2].set_title('Comedy Sentiment')\n",
    "\n",
    "plt.show()"
   ]
  },
  {
   "cell_type": "markdown",
   "metadata": {},
   "source": [
    "#### Statistics on how the embedding worked on a genre\n",
    "We are trying to quantify the differences that two different embedding models show when used on the same underlying data.\n",
    "The null hypothesis again, is that there is no difference betweem the sentiment scores that the embeddings offer\n",
    "The alternate hypothesis is that there is a difference between the scores for the two embeddings."
   ]
  },
  {
   "cell_type": "code",
   "execution_count": 84,
   "metadata": {},
   "outputs": [
    {
     "name": "stdout",
     "output_type": "stream",
     "text": [
      "\n",
      "For  Horror\n",
      "--------------------\n",
      "F-statistic:  345.17506504529797  , p value: 5.7223361979243166e-77 , alpha: 0.05 , f-critical: nan\n",
      "Analysis on  sentiment  results based on F-stat:\n",
      "  fcritical cannot be used for comparision as it is nan\n",
      "  p value is less than alpha : Reject the null hypothesis\n",
      "\n",
      "For  Comedy\n",
      "--------------------\n",
      "F-statistic:  11144.797617332002  , p value: 0.0 , alpha: 0.05 , f-critical: nan\n",
      "Analysis on  sentiment  results based on F-stat:\n",
      "  fcritical cannot be used for comparision as it is nan\n",
      "  p value is less than alpha : Reject the null hypothesis\n"
     ]
    }
   ],
   "source": [
    "\n",
    "calc_stats(df_combined_horror, 'Horror', 'sentiment', 'embedding')\n",
    "calc_stats(df_combined_comedy, 'Comedy', 'sentiment', 'embedding')"
   ]
  },
  {
   "cell_type": "markdown",
   "metadata": {},
   "source": [
    "Again the null hypothesis must be rejected. This means that statistically, the sentiment scores on the same reviews are different between GloVe and ConceptNet.\n",
    "\n",
    "Since GloVe and ConceptNet are statistically different in terms of their variances on the same movie genre, and that ConceptNet is more neutral than GloVe, we can say that GloVe has a larger negative bias than ConceptNet."
   ]
  },
  {
   "cell_type": "markdown",
   "metadata": {},
   "source": [
    "<a href=\"#top\">Back to Top</a>\n",
    "<a id=\"P4\"></a>\n",
    "## 4.0 Conclusion\n",
    "\n",
    "Our analysis confirms that while sentiment analysis of movie reviews provides valuable insights, it doesn't directly align with the numerical ratings given by reviewers. Interestingly, we found that ConceptNet performed better in capturing the overall sentiment for both horror and comedy movie reviews, closely mirroring the fluctuations in actual ratings.\n",
    "\n",
    "In our study, we employed the f-statistic to demonstrate two key points: firstly, that horror movie reviews tend to have more negative sentiment compared to comedy movie reviews; and secondly, that the variance in sentiment captured by GloVe word embeddings significantly differs from that of ConceptNet embeddings. This suggests that ConceptNet may be more adept at understanding the nuanced sentiments expressed in movie reviews across different genres.\n",
    "\n",
    "Therefore, if using these embeddings, it is important to be careful of their inherent biases in text sentiment."
   ]
  },
  {
   "cell_type": "markdown",
   "metadata": {},
   "source": [
    "**Identify two conferences or journals that would be interested in the results of your analysis.**\n",
    "1. **International Conference on Computing, Communication and Security (ICCCS)**\n",
    "\n",
    "- This conference has published studies related to large language models and their utility, and we are utilizing a dataset from a paper published at this conference from a few years ago.\n",
    "\n",
    "2. **Conference on Neural Information Processing Systems (NeurIPS)**:\n",
    "\n",
    "- NeurIPS is a leading conference in the field of machine learning and artificial intelligence. It often features papers and presentations on the development and applications of large language models, including research on mitigating bias.\n",
    "\n",
    "- One relevant example is a paper that studies generative AI language models for biases for a host of groups when it comes to language associated with occupations. Source: https://proceedings.neurips.cc/paper/2021/hash/1531beb762df4029513ebf9295e0d34f-Abstract.html\n",
    "\n",
    "3. **Association for Computational Linguistics (ACL)**:\n",
    "\n",
    "- ACL is a major conference that focuses on natural language processing and computational linguistics. Researchers often present work related to large language models, bias detection, and mitigation strategies.\n",
    "\n",
    "- One relevant example that studies language bias in a different way is one that has reviewed Wikipedia articles for \"Framing Bias\" where perspective-specific words are studied for subjectivity, and \"Epistemological Bias\", where conventionally-accepted assumptions are presented in the text. Source: https://aclanthology.org/P13-1162.pdf\n",
    "\n",
    "4. **IEEE P3428: Standard for Large Language Model Agents for AI-powered Education**. While this is not a conference or a journal, part of the standard provides metrics and benchmarks for assessing effectiveness and the ethical considerations of LLM agents in educational settings."
   ]
  },
  {
   "cell_type": "code",
   "execution_count": null,
   "metadata": {},
   "outputs": [],
   "source": []
  }
 ],
 "metadata": {
  "kernelspec": {
   "display_name": "Python 3 (ipykernel)",
   "language": "python",
   "name": "python3"
  },
  "language_info": {
   "codemirror_mode": {
    "name": "ipython",
    "version": 3
   },
   "file_extension": ".py",
   "mimetype": "text/x-python",
   "name": "python",
   "nbconvert_exporter": "python",
   "pygments_lexer": "ipython3",
   "version": "3.8.13"
  }
 },
 "nbformat": 4,
 "nbformat_minor": 2
}
